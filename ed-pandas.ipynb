{
 "cells": [
  {
   "cell_type": "markdown",
   "metadata": {},
   "source": [
    "#  Pandas tutorial\n",
    "\n",
    "Pandas (panel data) is the second most useful Python library for data analysis and preparation. It allows to work with tabular data and provides very efficient and easy methods for:\n",
    "- data selection\n",
    "- data modification\n",
    "- data indexing\n",
    "- merging of data from various sources\n",
    "- transforming data\n",
    "- feeding data into `scikit-learn` and other ML-related libraries\n",
    "\n",
    "In this tutorial we will go through the most useful and common operations performed on pandas.\n",
    "\n",
    "There are two fundamental data structures that you need to understand:\n",
    "\n",
    "- `pd.Series`: similar to a list, requires all elements to be of the same type, but provides additional methods and operations\n",
    "- `pd.DataFrame`: this is the data structure which represents tabular data, each column in a data frame is a `Series` object, in addition each data frame contains a row index and a column index.\n",
    "\n",
    "Let's dive into coding."
   ]
  },
  {
   "cell_type": "markdown",
   "metadata": {},
   "source": [
    "## Manual creation of a data frame\n",
    "\n",
    "By convention, `pandas` library is imported using the alias `pd`.\n",
    "\n",
    "The simplest way to create a dataframe is to provide a dictionary of lists. Each key becomes the name of the column, each list becomes the series contained in the column."
   ]
  },
  {
   "cell_type": "code",
   "execution_count": 1,
   "metadata": {
    "ExecuteTime": {
     "end_time": "2024-03-14T11:03:51.773598800Z",
     "start_time": "2024-03-14T11:03:46.616243400Z"
    }
   },
   "outputs": [
    {
     "data": {
      "text/plain": "  Code            Name  Population\n0   PL          Poland    38000000\n1   DE         Germany    80000000\n2   GB   Great Britain    65000000\n3   CZ  Czech Republic    10000000",
      "text/html": "<div>\n<style scoped>\n    .dataframe tbody tr th:only-of-type {\n        vertical-align: middle;\n    }\n\n    .dataframe tbody tr th {\n        vertical-align: top;\n    }\n\n    .dataframe thead th {\n        text-align: right;\n    }\n</style>\n<table border=\"1\" class=\"dataframe\">\n  <thead>\n    <tr style=\"text-align: right;\">\n      <th></th>\n      <th>Code</th>\n      <th>Name</th>\n      <th>Population</th>\n    </tr>\n  </thead>\n  <tbody>\n    <tr>\n      <th>0</th>\n      <td>PL</td>\n      <td>Poland</td>\n      <td>38000000</td>\n    </tr>\n    <tr>\n      <th>1</th>\n      <td>DE</td>\n      <td>Germany</td>\n      <td>80000000</td>\n    </tr>\n    <tr>\n      <th>2</th>\n      <td>GB</td>\n      <td>Great Britain</td>\n      <td>65000000</td>\n    </tr>\n    <tr>\n      <th>3</th>\n      <td>CZ</td>\n      <td>Czech Republic</td>\n      <td>10000000</td>\n    </tr>\n  </tbody>\n</table>\n</div>"
     },
     "execution_count": 1,
     "metadata": {},
     "output_type": "execute_result"
    }
   ],
   "source": [
    "import pandas as pd\n",
    "\n",
    "df = pd.DataFrame(\n",
    "{\n",
    "    'Code': ['PL', 'DE', 'GB', 'CZ'],\n",
    "    'Name': ['Poland', 'Germany', 'Great Britain', 'Czech Republic'],\n",
    "    'Population': [38000000, 80000000, 65000000, 10000000]\n",
    "})\n",
    "\n",
    "df"
   ]
  },
  {
   "cell_type": "markdown",
   "metadata": {},
   "source": [
    "Each column is a `pd.Series` object. We can inspect it using either the dot notation, or by referring to the column by its name in brackets."
   ]
  },
  {
   "cell_type": "code",
   "execution_count": 2,
   "metadata": {
    "ExecuteTime": {
     "end_time": "2024-03-14T11:03:51.819578800Z",
     "start_time": "2024-03-14T11:03:51.674582500Z"
    }
   },
   "outputs": [
    {
     "data": {
      "text/plain": "0    38000000\n1    80000000\n2    65000000\n3    10000000\nName: Population, dtype: int64"
     },
     "execution_count": 2,
     "metadata": {},
     "output_type": "execute_result"
    }
   ],
   "source": [
    "df.Population"
   ]
  },
  {
   "cell_type": "code",
   "execution_count": 3,
   "metadata": {
    "ExecuteTime": {
     "end_time": "2024-03-14T11:03:52.041570900Z",
     "start_time": "2024-03-14T11:03:51.688607300Z"
    }
   },
   "outputs": [
    {
     "data": {
      "text/plain": "  Code  Population\n0   PL    38000000\n1   DE    80000000\n2   GB    65000000\n3   CZ    10000000",
      "text/html": "<div>\n<style scoped>\n    .dataframe tbody tr th:only-of-type {\n        vertical-align: middle;\n    }\n\n    .dataframe tbody tr th {\n        vertical-align: top;\n    }\n\n    .dataframe thead th {\n        text-align: right;\n    }\n</style>\n<table border=\"1\" class=\"dataframe\">\n  <thead>\n    <tr style=\"text-align: right;\">\n      <th></th>\n      <th>Code</th>\n      <th>Population</th>\n    </tr>\n  </thead>\n  <tbody>\n    <tr>\n      <th>0</th>\n      <td>PL</td>\n      <td>38000000</td>\n    </tr>\n    <tr>\n      <th>1</th>\n      <td>DE</td>\n      <td>80000000</td>\n    </tr>\n    <tr>\n      <th>2</th>\n      <td>GB</td>\n      <td>65000000</td>\n    </tr>\n    <tr>\n      <th>3</th>\n      <td>CZ</td>\n      <td>10000000</td>\n    </tr>\n  </tbody>\n</table>\n</div>"
     },
     "execution_count": 3,
     "metadata": {},
     "output_type": "execute_result"
    }
   ],
   "source": [
    "df[['Code','Population']]"
   ]
  },
  {
   "cell_type": "markdown",
   "metadata": {},
   "source": [
    "## Reading data from a file\n",
    "\n",
    "There are two most common ways of reading text files into `pandas`:\n",
    "- `pd.read_table`: assumes tab-separated text file\n",
    "- `pd.read_csv`: assumes comma-separated text file\n",
    "\n",
    "For the sake of reproducibility we will use public onlie datasets and we will read them directly off the Web. Please take a moment to investigate these datasets:\n",
    "\n",
    "- [Chipotle orders](https://bit.ly/chiporders)\n",
    "- [UFO sighting reports](https://bit.ly/uforeports)\n",
    "- [IMDB movie ratings](https://bit.ly/imdbratings)\n",
    "- [Drinking by country](https://bit.ly/drinksbycountry)"
   ]
  },
  {
   "cell_type": "code",
   "execution_count": 4,
   "metadata": {
    "ExecuteTime": {
     "end_time": "2024-03-14T11:04:01.882582900Z",
     "start_time": "2024-03-14T11:04:01.335584400Z"
    }
   },
   "outputs": [
    {
     "data": {
      "text/plain": "   order_id  quantity                              item_name  \\\n0         1         1           Chips and Fresh Tomato Salsa   \n1         1         1                                   Izze   \n2         1         1                       Nantucket Nectar   \n3         1         1  Chips and Tomatillo-Green Chili Salsa   \n4         2         2                           Chicken Bowl   \n\n                                  choice_description item_price  \n0                                                NaN     $2.39   \n1                                       [Clementine]     $3.39   \n2                                            [Apple]     $3.39   \n3                                                NaN     $2.39   \n4  [Tomatillo-Red Chili Salsa (Hot), [Black Beans...    $16.98   ",
      "text/html": "<div>\n<style scoped>\n    .dataframe tbody tr th:only-of-type {\n        vertical-align: middle;\n    }\n\n    .dataframe tbody tr th {\n        vertical-align: top;\n    }\n\n    .dataframe thead th {\n        text-align: right;\n    }\n</style>\n<table border=\"1\" class=\"dataframe\">\n  <thead>\n    <tr style=\"text-align: right;\">\n      <th></th>\n      <th>order_id</th>\n      <th>quantity</th>\n      <th>item_name</th>\n      <th>choice_description</th>\n      <th>item_price</th>\n    </tr>\n  </thead>\n  <tbody>\n    <tr>\n      <th>0</th>\n      <td>1</td>\n      <td>1</td>\n      <td>Chips and Fresh Tomato Salsa</td>\n      <td>NaN</td>\n      <td>$2.39</td>\n    </tr>\n    <tr>\n      <th>1</th>\n      <td>1</td>\n      <td>1</td>\n      <td>Izze</td>\n      <td>[Clementine]</td>\n      <td>$3.39</td>\n    </tr>\n    <tr>\n      <th>2</th>\n      <td>1</td>\n      <td>1</td>\n      <td>Nantucket Nectar</td>\n      <td>[Apple]</td>\n      <td>$3.39</td>\n    </tr>\n    <tr>\n      <th>3</th>\n      <td>1</td>\n      <td>1</td>\n      <td>Chips and Tomatillo-Green Chili Salsa</td>\n      <td>NaN</td>\n      <td>$2.39</td>\n    </tr>\n    <tr>\n      <th>4</th>\n      <td>2</td>\n      <td>2</td>\n      <td>Chicken Bowl</td>\n      <td>[Tomatillo-Red Chili Salsa (Hot), [Black Beans...</td>\n      <td>$16.98</td>\n    </tr>\n  </tbody>\n</table>\n</div>"
     },
     "execution_count": 4,
     "metadata": {},
     "output_type": "execute_result"
    }
   ],
   "source": [
    "orders = pd.read_table('https://bit.ly/chiporders')\n",
    "\n",
    "orders.head()"
   ]
  },
  {
   "cell_type": "code",
   "execution_count": 5,
   "metadata": {
    "ExecuteTime": {
     "end_time": "2024-03-14T11:04:02.758580400Z",
     "start_time": "2024-03-14T11:04:02.085585500Z"
    }
   },
   "outputs": [
    {
     "data": {
      "text/plain": "                   City Colors Reported Shape Reported State             Time\n0                Ithaca             NaN       TRIANGLE    NY   6/1/1930 22:00\n1           Willingboro             NaN          OTHER    NJ  6/30/1930 20:00\n2               Holyoke             NaN           OVAL    CO  2/15/1931 14:00\n3               Abilene             NaN           DISK    KS   6/1/1931 13:00\n4  New York Worlds Fair             NaN          LIGHT    NY  4/18/1933 19:00",
      "text/html": "<div>\n<style scoped>\n    .dataframe tbody tr th:only-of-type {\n        vertical-align: middle;\n    }\n\n    .dataframe tbody tr th {\n        vertical-align: top;\n    }\n\n    .dataframe thead th {\n        text-align: right;\n    }\n</style>\n<table border=\"1\" class=\"dataframe\">\n  <thead>\n    <tr style=\"text-align: right;\">\n      <th></th>\n      <th>City</th>\n      <th>Colors Reported</th>\n      <th>Shape Reported</th>\n      <th>State</th>\n      <th>Time</th>\n    </tr>\n  </thead>\n  <tbody>\n    <tr>\n      <th>0</th>\n      <td>Ithaca</td>\n      <td>NaN</td>\n      <td>TRIANGLE</td>\n      <td>NY</td>\n      <td>6/1/1930 22:00</td>\n    </tr>\n    <tr>\n      <th>1</th>\n      <td>Willingboro</td>\n      <td>NaN</td>\n      <td>OTHER</td>\n      <td>NJ</td>\n      <td>6/30/1930 20:00</td>\n    </tr>\n    <tr>\n      <th>2</th>\n      <td>Holyoke</td>\n      <td>NaN</td>\n      <td>OVAL</td>\n      <td>CO</td>\n      <td>2/15/1931 14:00</td>\n    </tr>\n    <tr>\n      <th>3</th>\n      <td>Abilene</td>\n      <td>NaN</td>\n      <td>DISK</td>\n      <td>KS</td>\n      <td>6/1/1931 13:00</td>\n    </tr>\n    <tr>\n      <th>4</th>\n      <td>New York Worlds Fair</td>\n      <td>NaN</td>\n      <td>LIGHT</td>\n      <td>NY</td>\n      <td>4/18/1933 19:00</td>\n    </tr>\n  </tbody>\n</table>\n</div>"
     },
     "execution_count": 5,
     "metadata": {},
     "output_type": "execute_result"
    }
   ],
   "source": [
    "ufo = pd.read_csv('https://bit.ly/uforeports')\n",
    "\n",
    "ufo.head()"
   ]
  },
  {
   "cell_type": "markdown",
   "metadata": {},
   "source": [
    "Individual series can be concatenated just like strings in Python."
   ]
  },
  {
   "cell_type": "code",
   "execution_count": 6,
   "metadata": {
    "ExecuteTime": {
     "end_time": "2024-03-14T11:04:17.855728300Z",
     "start_time": "2024-03-14T11:04:17.472756500Z"
    }
   },
   "outputs": [
    {
     "data": {
      "text/plain": "0                Chips and Fresh Tomato Salsa $2.39 \n1                                        Izze $3.39 \n2                            Nantucket Nectar $3.39 \n3       Chips and Tomatillo-Green Chili Salsa $2.39 \n4                               Chicken Bowl $16.98 \n                            ...                     \n4617                           Steak Burrito $11.75 \n4618                           Steak Burrito $11.75 \n4619                      Chicken Salad Bowl $11.25 \n4620                       Chicken Salad Bowl $8.75 \n4621                       Chicken Salad Bowl $8.75 \nLength: 4622, dtype: object"
     },
     "execution_count": 6,
     "metadata": {},
     "output_type": "execute_result"
    }
   ],
   "source": [
    "orders.item_name + ' ' + orders.item_price"
   ]
  },
  {
   "cell_type": "markdown",
   "metadata": {},
   "source": [
    "## Analyzing a data frame\n",
    "\n",
    "`pandas` provides simple methods that allow you to investigate the aggregate properties of individual series and the entire data frame."
   ]
  },
  {
   "cell_type": "code",
   "execution_count": 7,
   "metadata": {
    "ExecuteTime": {
     "end_time": "2024-03-14T11:04:57.474260200Z",
     "start_time": "2024-03-14T11:04:56.664264900Z"
    }
   },
   "outputs": [
    {
     "data": {
      "text/plain": "   star_rating                     title content_rating   genre  duration  \\\n0          9.3  The Shawshank Redemption              R   Crime       142   \n1          9.2             The Godfather              R   Crime       175   \n2          9.1    The Godfather: Part II              R   Crime       200   \n3          9.0           The Dark Knight          PG-13  Action       152   \n4          8.9              Pulp Fiction              R   Crime       154   \n\n                                         actors_list  \n0  [u'Tim Robbins', u'Morgan Freeman', u'Bob Gunt...  \n1    [u'Marlon Brando', u'Al Pacino', u'James Caan']  \n2  [u'Al Pacino', u'Robert De Niro', u'Robert Duv...  \n3  [u'Christian Bale', u'Heath Ledger', u'Aaron E...  \n4  [u'John Travolta', u'Uma Thurman', u'Samuel L....  ",
      "text/html": "<div>\n<style scoped>\n    .dataframe tbody tr th:only-of-type {\n        vertical-align: middle;\n    }\n\n    .dataframe tbody tr th {\n        vertical-align: top;\n    }\n\n    .dataframe thead th {\n        text-align: right;\n    }\n</style>\n<table border=\"1\" class=\"dataframe\">\n  <thead>\n    <tr style=\"text-align: right;\">\n      <th></th>\n      <th>star_rating</th>\n      <th>title</th>\n      <th>content_rating</th>\n      <th>genre</th>\n      <th>duration</th>\n      <th>actors_list</th>\n    </tr>\n  </thead>\n  <tbody>\n    <tr>\n      <th>0</th>\n      <td>9.3</td>\n      <td>The Shawshank Redemption</td>\n      <td>R</td>\n      <td>Crime</td>\n      <td>142</td>\n      <td>[u'Tim Robbins', u'Morgan Freeman', u'Bob Gunt...</td>\n    </tr>\n    <tr>\n      <th>1</th>\n      <td>9.2</td>\n      <td>The Godfather</td>\n      <td>R</td>\n      <td>Crime</td>\n      <td>175</td>\n      <td>[u'Marlon Brando', u'Al Pacino', u'James Caan']</td>\n    </tr>\n    <tr>\n      <th>2</th>\n      <td>9.1</td>\n      <td>The Godfather: Part II</td>\n      <td>R</td>\n      <td>Crime</td>\n      <td>200</td>\n      <td>[u'Al Pacino', u'Robert De Niro', u'Robert Duv...</td>\n    </tr>\n    <tr>\n      <th>3</th>\n      <td>9.0</td>\n      <td>The Dark Knight</td>\n      <td>PG-13</td>\n      <td>Action</td>\n      <td>152</td>\n      <td>[u'Christian Bale', u'Heath Ledger', u'Aaron E...</td>\n    </tr>\n    <tr>\n      <th>4</th>\n      <td>8.9</td>\n      <td>Pulp Fiction</td>\n      <td>R</td>\n      <td>Crime</td>\n      <td>154</td>\n      <td>[u'John Travolta', u'Uma Thurman', u'Samuel L....</td>\n    </tr>\n  </tbody>\n</table>\n</div>"
     },
     "execution_count": 7,
     "metadata": {},
     "output_type": "execute_result"
    }
   ],
   "source": [
    "movies = pd.read_csv('https://bit.ly/imdbratings')\n",
    "\n",
    "movies.head()"
   ]
  },
  {
   "cell_type": "markdown",
   "metadata": {},
   "source": [
    "A simple way to quickly learn the distribution of a feature is to use the `describe()` method"
   ]
  },
  {
   "cell_type": "code",
   "execution_count": 8,
   "metadata": {
    "ExecuteTime": {
     "end_time": "2024-03-14T11:05:03.584259500Z",
     "start_time": "2024-03-14T11:05:03.275264300Z"
    }
   },
   "outputs": [
    {
     "data": {
      "text/plain": "count    979.000000\nmean     120.979571\nstd       26.218010\nmin       64.000000\n25%      102.000000\n50%      117.000000\n75%      134.000000\nmax      242.000000\nName: duration, dtype: float64"
     },
     "execution_count": 8,
     "metadata": {},
     "output_type": "execute_result"
    }
   ],
   "source": [
    "movies.duration.describe()"
   ]
  },
  {
   "cell_type": "markdown",
   "metadata": {},
   "source": [
    "The output of the `describe()` method depends on whether the feature is numerical or categorical."
   ]
  },
  {
   "cell_type": "code",
   "execution_count": 9,
   "metadata": {
    "ExecuteTime": {
     "end_time": "2024-03-14T11:05:10.318280700Z",
     "start_time": "2024-03-14T11:05:10.116267200Z"
    }
   },
   "outputs": [
    {
     "data": {
      "text/plain": "count       979\nunique       16\ntop       Drama\nfreq        278\nName: genre, dtype: object"
     },
     "execution_count": 9,
     "metadata": {},
     "output_type": "execute_result"
    }
   ],
   "source": [
    "movies.genre.describe()"
   ]
  },
  {
   "cell_type": "markdown",
   "metadata": {},
   "source": [
    "One can apply the `describe()` method to the entire dataframe as well."
   ]
  },
  {
   "cell_type": "code",
   "execution_count": 10,
   "metadata": {
    "ExecuteTime": {
     "end_time": "2024-03-14T11:05:13.221315600Z",
     "start_time": "2024-03-14T11:05:12.866297600Z"
    }
   },
   "outputs": [
    {
     "data": {
      "text/plain": "       star_rating    duration\ncount   979.000000  979.000000\nmean      7.889785  120.979571\nstd       0.336069   26.218010\nmin       7.400000   64.000000\n25%       7.600000  102.000000\n50%       7.800000  117.000000\n75%       8.100000  134.000000\nmax       9.300000  242.000000",
      "text/html": "<div>\n<style scoped>\n    .dataframe tbody tr th:only-of-type {\n        vertical-align: middle;\n    }\n\n    .dataframe tbody tr th {\n        vertical-align: top;\n    }\n\n    .dataframe thead th {\n        text-align: right;\n    }\n</style>\n<table border=\"1\" class=\"dataframe\">\n  <thead>\n    <tr style=\"text-align: right;\">\n      <th></th>\n      <th>star_rating</th>\n      <th>duration</th>\n    </tr>\n  </thead>\n  <tbody>\n    <tr>\n      <th>count</th>\n      <td>979.000000</td>\n      <td>979.000000</td>\n    </tr>\n    <tr>\n      <th>mean</th>\n      <td>7.889785</td>\n      <td>120.979571</td>\n    </tr>\n    <tr>\n      <th>std</th>\n      <td>0.336069</td>\n      <td>26.218010</td>\n    </tr>\n    <tr>\n      <th>min</th>\n      <td>7.400000</td>\n      <td>64.000000</td>\n    </tr>\n    <tr>\n      <th>25%</th>\n      <td>7.600000</td>\n      <td>102.000000</td>\n    </tr>\n    <tr>\n      <th>50%</th>\n      <td>7.800000</td>\n      <td>117.000000</td>\n    </tr>\n    <tr>\n      <th>75%</th>\n      <td>8.100000</td>\n      <td>134.000000</td>\n    </tr>\n    <tr>\n      <th>max</th>\n      <td>9.300000</td>\n      <td>242.000000</td>\n    </tr>\n  </tbody>\n</table>\n</div>"
     },
     "execution_count": 10,
     "metadata": {},
     "output_type": "execute_result"
    }
   ],
   "source": [
    "movies.describe()"
   ]
  },
  {
   "cell_type": "code",
   "execution_count": 11,
   "metadata": {
    "ExecuteTime": {
     "end_time": "2024-03-14T11:05:13.809296700Z",
     "start_time": "2024-03-14T11:05:13.185302700Z"
    }
   },
   "outputs": [
    {
     "data": {
      "text/plain": "(979, 6)"
     },
     "execution_count": 11,
     "metadata": {},
     "output_type": "execute_result"
    }
   ],
   "source": [
    "movies.shape"
   ]
  },
  {
   "cell_type": "code",
   "execution_count": 12,
   "metadata": {
    "ExecuteTime": {
     "end_time": "2024-03-14T11:05:14.396291200Z",
     "start_time": "2024-03-14T11:05:13.680299400Z"
    }
   },
   "outputs": [
    {
     "data": {
      "text/plain": "Index(['star_rating', 'title', 'content_rating', 'genre', 'duration',\n       'actors_list'],\n      dtype='object')"
     },
     "execution_count": 12,
     "metadata": {},
     "output_type": "execute_result"
    }
   ],
   "source": [
    "movies.columns"
   ]
  },
  {
   "cell_type": "code",
   "execution_count": 13,
   "metadata": {
    "ExecuteTime": {
     "end_time": "2024-03-14T11:05:14.584294900Z",
     "start_time": "2024-03-14T11:05:13.776307700Z"
    }
   },
   "outputs": [
    {
     "data": {
      "text/plain": "star_rating       float64\ntitle              object\ncontent_rating     object\ngenre              object\nduration            int64\nactors_list        object\ndtype: object"
     },
     "execution_count": 13,
     "metadata": {},
     "output_type": "execute_result"
    }
   ],
   "source": [
    "movies.dtypes"
   ]
  },
  {
   "cell_type": "markdown",
   "metadata": {},
   "source": [
    "For more advanced analysis of `pandas` dataframe we can use the excellent `pandas-profiling` library"
   ]
  },
  {
   "cell_type": "code",
   "execution_count": 14,
   "metadata": {
    "ExecuteTime": {
     "end_time": "2024-03-14T11:07:30.356562200Z",
     "start_time": "2024-03-14T11:07:29.054740700Z"
    }
   },
   "outputs": [
    {
     "ename": "ModuleNotFoundError",
     "evalue": "No module named 'pandas_profiling'",
     "output_type": "error",
     "traceback": [
      "\u001B[1;31m---------------------------------------------------------------------------\u001B[0m",
      "\u001B[1;31mModuleNotFoundError\u001B[0m                       Traceback (most recent call last)",
      "Cell \u001B[1;32mIn[14], line 1\u001B[0m\n\u001B[1;32m----> 1\u001B[0m \u001B[38;5;28;01mfrom\u001B[39;00m \u001B[38;5;21;01mpandas_profiling\u001B[39;00m \u001B[38;5;28;01mimport\u001B[39;00m ProfileReport\n\u001B[0;32m      3\u001B[0m movies_profile \u001B[38;5;241m=\u001B[39m ProfileReport(df\u001B[38;5;241m=\u001B[39mmovies, title\u001B[38;5;241m=\u001B[39m\u001B[38;5;124m\"\u001B[39m\u001B[38;5;124mAnalysis of the Movies dataframe\u001B[39m\u001B[38;5;124m\"\u001B[39m, explorative\u001B[38;5;241m=\u001B[39m\u001B[38;5;28;01mTrue\u001B[39;00m)\n\u001B[0;32m      4\u001B[0m movies_profile\n",
      "\u001B[1;31mModuleNotFoundError\u001B[0m: No module named 'pandas_profiling'"
     ]
    }
   ],
   "source": [
    "from pandas_profiling import ProfileReport\n",
    "\n",
    "movies_profile = ProfileReport(df=movies, title=\"Analysis of the Movies dataframe\", explorative=True)\n",
    "movies_profile\n",
    "\n",
    "# or simply: movies.profile_report(title=\"Analysis of the Movies dataframe\")"
   ]
  },
  {
   "cell_type": "markdown",
   "metadata": {},
   "source": [
    "## Renaming columns"
   ]
  },
  {
   "cell_type": "code",
   "execution_count": null,
   "metadata": {
    "ExecuteTime": {
     "end_time": "2021-03-11T12:49:07.650978Z",
     "start_time": "2021-03-11T12:49:05.444116Z"
    }
   },
   "outputs": [],
   "source": [
    "ufo = pd.read_csv('https://bit.ly/uforeports')\n",
    "\n",
    "ufo.columns"
   ]
  },
  {
   "cell_type": "code",
   "execution_count": null,
   "metadata": {
    "ExecuteTime": {
     "end_time": "2021-03-11T12:49:48.193590Z",
     "start_time": "2021-03-11T12:49:48.178222Z"
    }
   },
   "outputs": [],
   "source": [
    "ufo['Colors Reported']"
   ]
  },
  {
   "cell_type": "markdown",
   "metadata": {},
   "source": [
    "If a column name contains a space, it can no longer be used with the dot notation. There are many ways a column may be renamed."
   ]
  },
  {
   "cell_type": "code",
   "execution_count": null,
   "metadata": {
    "ExecuteTime": {
     "end_time": "2021-03-11T12:50:54.250005Z",
     "start_time": "2021-03-11T12:50:54.231412Z"
    }
   },
   "outputs": [],
   "source": [
    "ufo.rename(\n",
    "    columns={'Colors Reported': 'Colors_Reported', 'Time': 'Date and tmie'},\n",
    "    inplace=True\n",
    ")"
   ]
  },
  {
   "cell_type": "code",
   "execution_count": null,
   "metadata": {},
   "outputs": [],
   "source": [
    "ufo.columns"
   ]
  },
  {
   "cell_type": "code",
   "execution_count": null,
   "metadata": {
    "ExecuteTime": {
     "end_time": "2021-03-11T12:52:06.995831Z",
     "start_time": "2021-03-11T12:52:05.334130Z"
    }
   },
   "outputs": [],
   "source": [
    "col_names = ['city', 'colors_reported', 'shape_reported', 'state', 'time']\n",
    "\n",
    "pd.read_csv('https://bit.ly/uforeports', names=col_names)"
   ]
  },
  {
   "cell_type": "code",
   "execution_count": null,
   "metadata": {
    "ExecuteTime": {
     "end_time": "2021-03-11T12:52:58.444259Z",
     "start_time": "2021-03-11T12:52:58.424659Z"
    }
   },
   "outputs": [],
   "source": [
    "ufo.columns = ['a', 'b', 'c', 'd', 'e']\n",
    "\n",
    "ufo.head()"
   ]
  },
  {
   "cell_type": "markdown",
   "metadata": {},
   "source": [
    "## Dropping rows and columns\n",
    "\n",
    "An important concept in `pandas` is the concept of an **axis**. An axis is the direction in which an operation is performed. 0-axis refers to an operation that is applied along rows, 1-axis refers to an operation which is applied along columns.\n",
    "\n",
    "By default, `pandas` expects the rows to be dropped, so if you want to drop a column, you have to explicitly state `axis=1`."
   ]
  },
  {
   "cell_type": "code",
   "execution_count": null,
   "metadata": {
    "ExecuteTime": {
     "end_time": "2021-03-11T12:53:49.051134Z",
     "start_time": "2021-03-11T12:53:48.235095Z"
    }
   },
   "outputs": [],
   "source": [
    "drinks = pd.read_csv('https://bit.ly/drinksbycountry')\n",
    "\n",
    "drinks.head()"
   ]
  },
  {
   "cell_type": "code",
   "execution_count": null,
   "metadata": {
    "ExecuteTime": {
     "end_time": "2021-03-11T12:54:03.714042Z",
     "start_time": "2021-03-11T12:54:03.708799Z"
    }
   },
   "outputs": [],
   "source": [
    "drinks.shape"
   ]
  },
  {
   "cell_type": "code",
   "execution_count": null,
   "metadata": {
    "ExecuteTime": {
     "end_time": "2021-03-11T12:55:35.973196Z",
     "start_time": "2021-03-11T12:55:35.962937Z"
    }
   },
   "outputs": [],
   "source": [
    "drinks.mean(numeric_only=True)"
   ]
  },
  {
   "cell_type": "code",
   "execution_count": null,
   "metadata": {
    "ExecuteTime": {
     "end_time": "2021-03-11T12:55:52.540810Z",
     "start_time": "2021-03-11T12:55:52.529589Z"
    }
   },
   "outputs": [],
   "source": [
    "drinks.mean(numeric_only=True, axis=1)"
   ]
  },
  {
   "cell_type": "code",
   "execution_count": null,
   "metadata": {
    "ExecuteTime": {
     "end_time": "2021-03-11T12:58:02.641760Z",
     "start_time": "2021-03-11T12:58:01.366614Z"
    }
   },
   "outputs": [],
   "source": [
    "ufo = pd.read_csv('https://bit.ly/uforeports')"
   ]
  },
  {
   "cell_type": "code",
   "execution_count": null,
   "metadata": {
    "ExecuteTime": {
     "end_time": "2021-03-11T12:58:15.339772Z",
     "start_time": "2021-03-11T12:58:15.326290Z"
    }
   },
   "outputs": [],
   "source": [
    "ufo.head()"
   ]
  },
  {
   "cell_type": "code",
   "execution_count": null,
   "metadata": {
    "ExecuteTime": {
     "end_time": "2021-03-11T12:59:25.670934Z",
     "start_time": "2021-03-11T12:59:25.647844Z"
    }
   },
   "outputs": [],
   "source": [
    "ufo.drop('City', axis=1)"
   ]
  },
  {
   "cell_type": "code",
   "execution_count": null,
   "metadata": {
    "ExecuteTime": {
     "end_time": "2021-03-11T13:02:22.557586Z",
     "start_time": "2021-03-11T13:02:22.535400Z"
    }
   },
   "outputs": [],
   "source": [
    "ufo_backup = ufo.set_index('City')"
   ]
  },
  {
   "cell_type": "code",
   "execution_count": null,
   "metadata": {
    "ExecuteTime": {
     "end_time": "2021-03-11T13:02:27.475950Z",
     "start_time": "2021-03-11T13:02:27.462088Z"
    }
   },
   "outputs": [],
   "source": [
    "ufo_backup.head()"
   ]
  },
  {
   "cell_type": "code",
   "execution_count": null,
   "metadata": {
    "ExecuteTime": {
     "end_time": "2021-03-11T13:03:01.202636Z",
     "start_time": "2021-03-11T13:03:01.157323Z"
    }
   },
   "outputs": [],
   "source": [
    "ufo_backup.drop('Holyoke')"
   ]
  },
  {
   "cell_type": "code",
   "execution_count": null,
   "metadata": {
    "ExecuteTime": {
     "end_time": "2021-03-11T13:03:38.271351Z",
     "start_time": "2021-03-11T13:03:38.240260Z"
    }
   },
   "outputs": [],
   "source": [
    "ufo.drop('Time', axis=1)"
   ]
  },
  {
   "cell_type": "code",
   "execution_count": null,
   "metadata": {
    "ExecuteTime": {
     "end_time": "2021-03-11T13:03:51.005365Z",
     "start_time": "2021-03-11T13:03:50.993293Z"
    }
   },
   "outputs": [],
   "source": [
    "ufo.head()"
   ]
  },
  {
   "cell_type": "code",
   "execution_count": null,
   "metadata": {
    "ExecuteTime": {
     "end_time": "2021-03-11T13:04:02.312981Z",
     "start_time": "2021-03-11T13:04:02.272819Z"
    }
   },
   "outputs": [],
   "source": [
    "ufo.drop([1,3,4]).head()"
   ]
  },
  {
   "cell_type": "code",
   "execution_count": null,
   "metadata": {
    "ExecuteTime": {
     "end_time": "2021-03-11T13:04:31.521422Z",
     "start_time": "2021-03-11T13:04:31.509364Z"
    }
   },
   "outputs": [],
   "source": [
    "ufo.index[0:10]"
   ]
  },
  {
   "cell_type": "code",
   "execution_count": null,
   "metadata": {
    "ExecuteTime": {
     "end_time": "2021-03-11T13:04:44.638868Z",
     "start_time": "2021-03-11T13:04:44.605541Z"
    }
   },
   "outputs": [],
   "source": [
    "ufo.drop(ufo.index[0:3]).head()"
   ]
  },
  {
   "cell_type": "markdown",
   "metadata": {},
   "source": [
    "All these operations do not change the underlying object, but return a modified copy of the object. If you want to perform the operation on the object, you should:\n",
    "- add `inplace=True`: more efficient and explicit, or\n",
    "- use assignment: may be a bit slower, but many people prefer this"
   ]
  },
  {
   "cell_type": "code",
   "execution_count": null,
   "metadata": {
    "ExecuteTime": {
     "end_time": "2021-03-11T13:06:11.309093Z",
     "start_time": "2021-03-11T13:06:11.295908Z"
    }
   },
   "outputs": [],
   "source": [
    "ufo.drop('State', axis=1, inplace=True)\n",
    "\n",
    "ufo.head()"
   ]
  },
  {
   "cell_type": "code",
   "execution_count": null,
   "metadata": {
    "ExecuteTime": {
     "end_time": "2021-03-11T13:06:29.995827Z",
     "start_time": "2021-03-11T13:06:29.969145Z"
    }
   },
   "outputs": [],
   "source": [
    "ufo = ufo.drop([0,1,4])\n",
    "\n",
    "ufo.head()"
   ]
  },
  {
   "cell_type": "markdown",
   "metadata": {},
   "source": [
    "## Exercise\n",
    "\n",
    "1. Read the *Titanic* dataset from https://tinyurl.com/y9p968ys into a dataframe called `titanic`\n",
    "2. Display first 15 rows of the dataset\n",
    "3. Rename `PassengerId` to `ID`, `Lname` to `last_name`, and `Name` to `first_name`"
   ]
  },
  {
   "cell_type": "code",
   "execution_count": 17,
   "metadata": {
    "ExecuteTime": {
     "end_time": "2024-03-14T11:18:30.587919600Z",
     "start_time": "2024-03-14T11:18:30.087910900Z"
    }
   },
   "outputs": [
    {
     "data": {
      "text/plain": "    ID  Survived  Pclass    last_name  \\\n0    1         0       3       Braund   \n1    2         1       1      Cumings   \n2    3         1       3    Heikkinen   \n3    4         1       1     Futrelle   \n4    5         0       3        Allen   \n5    6         0       3        Moran   \n6    7         0       1     McCarthy   \n7    8         0       3      Palsson   \n8    9         1       3      Johnson   \n9   10         1       2       Nasser   \n10  11         1       3    Sandstrom   \n11  12         1       1      Bonnell   \n12  13         0       3  Saundercock   \n13  14         0       3    Andersson   \n14  15         0       3      Vestrom   \n\n                                     first_name     Sex   Age  SibSp  Parch  \\\n0                               Mr. Owen Harris    male  22.0      1      0   \n1    Mrs. John Bradley (Florence Briggs Thayer)  female  38.0      1      0   \n2                                   Miss. Laina  female  26.0      0      0   \n3            Mrs. Jacques Heath (Lily May Peel)  female  35.0      1      0   \n4                             Mr. William Henry    male  35.0      0      0   \n5                                     Mr. James    male   NaN      0      0   \n6                                 Mr. Timothy J    male  54.0      0      0   \n7                         Master. Gosta Leonard    male   2.0      3      1   \n8      Mrs. Oscar W (Elisabeth Vilhelmina Berg)  female  27.0      0      2   \n9                   Mrs. Nicholas (Adele Achem)  female  14.0      1      0   \n10                         Miss. Marguerite Rut  female   4.0      1      1   \n11                              Miss. Elizabeth  female  58.0      0      0   \n12                            Mr. William Henry    male  20.0      0      0   \n13                             Mr. Anders Johan    male  39.0      1      5   \n14                  Miss. Hulda Amanda Adolfina  female  14.0      0      0   \n\n              Ticket     Fare Cabin Embarked  \n0          A/5 21171   7.2500   NaN        S  \n1           PC 17599  71.2833   C85        C  \n2   STON/O2. 3101282   7.9250   NaN        S  \n3             113803  53.1000  C123        S  \n4             373450   8.0500   NaN        S  \n5             330877   8.4583   NaN        Q  \n6              17463  51.8625   E46        S  \n7             349909  21.0750   NaN        S  \n8             347742  11.1333   NaN        S  \n9             237736  30.0708   NaN        C  \n10           PP 9549  16.7000    G6        S  \n11            113783  26.5500  C103        S  \n12         A/5. 2151   8.0500   NaN        S  \n13            347082  31.2750   NaN        S  \n14            350406   7.8542   NaN        S  ",
      "text/html": "<div>\n<style scoped>\n    .dataframe tbody tr th:only-of-type {\n        vertical-align: middle;\n    }\n\n    .dataframe tbody tr th {\n        vertical-align: top;\n    }\n\n    .dataframe thead th {\n        text-align: right;\n    }\n</style>\n<table border=\"1\" class=\"dataframe\">\n  <thead>\n    <tr style=\"text-align: right;\">\n      <th></th>\n      <th>ID</th>\n      <th>Survived</th>\n      <th>Pclass</th>\n      <th>last_name</th>\n      <th>first_name</th>\n      <th>Sex</th>\n      <th>Age</th>\n      <th>SibSp</th>\n      <th>Parch</th>\n      <th>Ticket</th>\n      <th>Fare</th>\n      <th>Cabin</th>\n      <th>Embarked</th>\n    </tr>\n  </thead>\n  <tbody>\n    <tr>\n      <th>0</th>\n      <td>1</td>\n      <td>0</td>\n      <td>3</td>\n      <td>Braund</td>\n      <td>Mr. Owen Harris</td>\n      <td>male</td>\n      <td>22.0</td>\n      <td>1</td>\n      <td>0</td>\n      <td>A/5 21171</td>\n      <td>7.2500</td>\n      <td>NaN</td>\n      <td>S</td>\n    </tr>\n    <tr>\n      <th>1</th>\n      <td>2</td>\n      <td>1</td>\n      <td>1</td>\n      <td>Cumings</td>\n      <td>Mrs. John Bradley (Florence Briggs Thayer)</td>\n      <td>female</td>\n      <td>38.0</td>\n      <td>1</td>\n      <td>0</td>\n      <td>PC 17599</td>\n      <td>71.2833</td>\n      <td>C85</td>\n      <td>C</td>\n    </tr>\n    <tr>\n      <th>2</th>\n      <td>3</td>\n      <td>1</td>\n      <td>3</td>\n      <td>Heikkinen</td>\n      <td>Miss. Laina</td>\n      <td>female</td>\n      <td>26.0</td>\n      <td>0</td>\n      <td>0</td>\n      <td>STON/O2. 3101282</td>\n      <td>7.9250</td>\n      <td>NaN</td>\n      <td>S</td>\n    </tr>\n    <tr>\n      <th>3</th>\n      <td>4</td>\n      <td>1</td>\n      <td>1</td>\n      <td>Futrelle</td>\n      <td>Mrs. Jacques Heath (Lily May Peel)</td>\n      <td>female</td>\n      <td>35.0</td>\n      <td>1</td>\n      <td>0</td>\n      <td>113803</td>\n      <td>53.1000</td>\n      <td>C123</td>\n      <td>S</td>\n    </tr>\n    <tr>\n      <th>4</th>\n      <td>5</td>\n      <td>0</td>\n      <td>3</td>\n      <td>Allen</td>\n      <td>Mr. William Henry</td>\n      <td>male</td>\n      <td>35.0</td>\n      <td>0</td>\n      <td>0</td>\n      <td>373450</td>\n      <td>8.0500</td>\n      <td>NaN</td>\n      <td>S</td>\n    </tr>\n    <tr>\n      <th>5</th>\n      <td>6</td>\n      <td>0</td>\n      <td>3</td>\n      <td>Moran</td>\n      <td>Mr. James</td>\n      <td>male</td>\n      <td>NaN</td>\n      <td>0</td>\n      <td>0</td>\n      <td>330877</td>\n      <td>8.4583</td>\n      <td>NaN</td>\n      <td>Q</td>\n    </tr>\n    <tr>\n      <th>6</th>\n      <td>7</td>\n      <td>0</td>\n      <td>1</td>\n      <td>McCarthy</td>\n      <td>Mr. Timothy J</td>\n      <td>male</td>\n      <td>54.0</td>\n      <td>0</td>\n      <td>0</td>\n      <td>17463</td>\n      <td>51.8625</td>\n      <td>E46</td>\n      <td>S</td>\n    </tr>\n    <tr>\n      <th>7</th>\n      <td>8</td>\n      <td>0</td>\n      <td>3</td>\n      <td>Palsson</td>\n      <td>Master. Gosta Leonard</td>\n      <td>male</td>\n      <td>2.0</td>\n      <td>3</td>\n      <td>1</td>\n      <td>349909</td>\n      <td>21.0750</td>\n      <td>NaN</td>\n      <td>S</td>\n    </tr>\n    <tr>\n      <th>8</th>\n      <td>9</td>\n      <td>1</td>\n      <td>3</td>\n      <td>Johnson</td>\n      <td>Mrs. Oscar W (Elisabeth Vilhelmina Berg)</td>\n      <td>female</td>\n      <td>27.0</td>\n      <td>0</td>\n      <td>2</td>\n      <td>347742</td>\n      <td>11.1333</td>\n      <td>NaN</td>\n      <td>S</td>\n    </tr>\n    <tr>\n      <th>9</th>\n      <td>10</td>\n      <td>1</td>\n      <td>2</td>\n      <td>Nasser</td>\n      <td>Mrs. Nicholas (Adele Achem)</td>\n      <td>female</td>\n      <td>14.0</td>\n      <td>1</td>\n      <td>0</td>\n      <td>237736</td>\n      <td>30.0708</td>\n      <td>NaN</td>\n      <td>C</td>\n    </tr>\n    <tr>\n      <th>10</th>\n      <td>11</td>\n      <td>1</td>\n      <td>3</td>\n      <td>Sandstrom</td>\n      <td>Miss. Marguerite Rut</td>\n      <td>female</td>\n      <td>4.0</td>\n      <td>1</td>\n      <td>1</td>\n      <td>PP 9549</td>\n      <td>16.7000</td>\n      <td>G6</td>\n      <td>S</td>\n    </tr>\n    <tr>\n      <th>11</th>\n      <td>12</td>\n      <td>1</td>\n      <td>1</td>\n      <td>Bonnell</td>\n      <td>Miss. Elizabeth</td>\n      <td>female</td>\n      <td>58.0</td>\n      <td>0</td>\n      <td>0</td>\n      <td>113783</td>\n      <td>26.5500</td>\n      <td>C103</td>\n      <td>S</td>\n    </tr>\n    <tr>\n      <th>12</th>\n      <td>13</td>\n      <td>0</td>\n      <td>3</td>\n      <td>Saundercock</td>\n      <td>Mr. William Henry</td>\n      <td>male</td>\n      <td>20.0</td>\n      <td>0</td>\n      <td>0</td>\n      <td>A/5. 2151</td>\n      <td>8.0500</td>\n      <td>NaN</td>\n      <td>S</td>\n    </tr>\n    <tr>\n      <th>13</th>\n      <td>14</td>\n      <td>0</td>\n      <td>3</td>\n      <td>Andersson</td>\n      <td>Mr. Anders Johan</td>\n      <td>male</td>\n      <td>39.0</td>\n      <td>1</td>\n      <td>5</td>\n      <td>347082</td>\n      <td>31.2750</td>\n      <td>NaN</td>\n      <td>S</td>\n    </tr>\n    <tr>\n      <th>14</th>\n      <td>15</td>\n      <td>0</td>\n      <td>3</td>\n      <td>Vestrom</td>\n      <td>Miss. Hulda Amanda Adolfina</td>\n      <td>female</td>\n      <td>14.0</td>\n      <td>0</td>\n      <td>0</td>\n      <td>350406</td>\n      <td>7.8542</td>\n      <td>NaN</td>\n      <td>S</td>\n    </tr>\n  </tbody>\n</table>\n</div>"
     },
     "execution_count": 17,
     "metadata": {},
     "output_type": "execute_result"
    }
   ],
   "source": [
    "titanic = pd.read_csv(\"https://tinyurl.com/y9p968ys\")\n",
    "titanic.rename(columns = {\"PassengerId\":\"ID\", \"Lname\":\"last_name\", \"Name\":\"first_name\"}, inplace = True)\n",
    "titanic.head(15)"
   ]
  },
  {
   "cell_type": "markdown",
   "metadata": {},
   "source": [
    "## Sorting data frames\n",
    "\n",
    "You can sort individual series within a data frame, and you can sort the entire data frame. Sorting can be made permanent."
   ]
  },
  {
   "cell_type": "code",
   "execution_count": null,
   "metadata": {
    "ExecuteTime": {
     "end_time": "2021-03-11T13:07:16.868383Z",
     "start_time": "2021-03-11T13:07:10.895279Z"
    }
   },
   "outputs": [],
   "source": [
    "movies = pd.read_csv('https://bit.ly/imdbratings')\n",
    "\n",
    "movies.head()"
   ]
  },
  {
   "cell_type": "code",
   "execution_count": null,
   "metadata": {
    "ExecuteTime": {
     "end_time": "2021-03-11T13:08:16.219966Z",
     "start_time": "2021-03-11T13:08:16.214267Z"
    }
   },
   "outputs": [],
   "source": [
    "m = movies.set_index('title')\n",
    "\n",
    "m.sort_index(ascending=True)"
   ]
  },
  {
   "cell_type": "code",
   "execution_count": null,
   "metadata": {
    "ExecuteTime": {
     "end_time": "2021-03-11T13:07:59.842962Z",
     "start_time": "2021-03-11T13:07:59.822749Z"
    }
   },
   "outputs": [],
   "source": [
    "movies.duration.sort_values(ascending=False)"
   ]
  },
  {
   "cell_type": "code",
   "execution_count": null,
   "metadata": {
    "ExecuteTime": {
     "end_time": "2021-03-11T13:08:50.561139Z",
     "start_time": "2021-03-11T13:08:50.535859Z"
    }
   },
   "outputs": [],
   "source": [
    "movies.sort_values('title', ascending=True)"
   ]
  },
  {
   "cell_type": "code",
   "execution_count": null,
   "metadata": {
    "ExecuteTime": {
     "end_time": "2021-03-11T13:09:00.281514Z",
     "start_time": "2021-03-11T13:09:00.234138Z"
    }
   },
   "outputs": [],
   "source": [
    "movies.sort_values(['content_rating', 'duration'])"
   ]
  },
  {
   "cell_type": "markdown",
   "metadata": {},
   "source": [
    "## Filter rows by a value in a column\n",
    "\n",
    "The filtering in `pandas` works very similarly to the way we do filtering in `NumPy`. We will start with creating a boolean series based on a condition, and then we will pass this series as an indexer to the data frame."
   ]
  },
  {
   "cell_type": "code",
   "execution_count": null,
   "metadata": {
    "ExecuteTime": {
     "end_time": "2021-03-11T13:10:30.137785Z",
     "start_time": "2021-03-11T13:10:30.112368Z"
    }
   },
   "outputs": [],
   "source": [
    "horror_idx = movies.genre == 'Horror'\n",
    "\n",
    "long_movies_idx = movies.duration > 120"
   ]
  },
  {
   "cell_type": "code",
   "execution_count": null,
   "metadata": {},
   "outputs": [],
   "source": [
    "movies[horror_idx  | long_movies_idx]"
   ]
  },
  {
   "cell_type": "code",
   "execution_count": null,
   "metadata": {
    "ExecuteTime": {
     "end_time": "2021-03-11T13:11:19.679275Z",
     "start_time": "2021-03-11T13:11:19.674495Z"
    }
   },
   "outputs": [],
   "source": [
    "movies.shape"
   ]
  },
  {
   "cell_type": "code",
   "execution_count": null,
   "metadata": {
    "ExecuteTime": {
     "end_time": "2021-03-11T13:12:09.914825Z",
     "start_time": "2021-03-11T13:12:09.847565Z"
    }
   },
   "outputs": [],
   "source": [
    "movies.genre.isin(['Horror','Thriller','Mystery'])"
   ]
  },
  {
   "cell_type": "markdown",
   "metadata": {},
   "source": [
    "If we want to combine several conditions, there are two important things to remember:\n",
    "- each condition must be in parentheses to help `pandas` establish the order of execution\n",
    "- instead of `and`, `or` operators we must use `&` and `|`"
   ]
  },
  {
   "cell_type": "code",
   "execution_count": null,
   "metadata": {
    "ExecuteTime": {
     "end_time": "2021-03-11T13:13:32.224951Z",
     "start_time": "2021-03-11T13:13:32.190628Z"
    }
   },
   "outputs": [],
   "source": [
    "movies[ (movies.genre == 'Horror') & (movies.duration > 120)]"
   ]
  },
  {
   "cell_type": "markdown",
   "metadata": {},
   "source": [
    "We may also negate an index"
   ]
  },
  {
   "cell_type": "code",
   "execution_count": null,
   "metadata": {
    "ExecuteTime": {
     "end_time": "2021-03-11T13:13:43.837710Z",
     "start_time": "2021-03-11T13:13:43.804075Z"
    }
   },
   "outputs": [],
   "source": [
    "movies[~(movies.duration > 120)]"
   ]
  },
  {
   "cell_type": "markdown",
   "metadata": {},
   "source": [
    "## Exercise\n",
    "\n",
    "1. Sort the `titanic` dataframe in the decreasing order of the fare price\n",
    "2. Create a new dataframe `titanic_f` containing only information on female passengers\n",
    "3. Create a new dataframe `titanic_x` containing only young passenges (age < 18) who did not embark in Cork."
   ]
  },
  {
   "cell_type": "code",
   "execution_count": 19,
   "metadata": {
    "ExecuteTime": {
     "end_time": "2024-03-14T11:21:37.698497Z",
     "start_time": "2024-03-14T11:21:37.426091600Z"
    }
   },
   "outputs": [
    {
     "data": {
      "text/plain": "      ID  Survived  Pclass last_name              first_name   Sex   Age  \\\n27    28         0       1   Fortune   Mr. Charles Alexander  male  19.0   \n118  119         0       1    Baxter        Mr. Quigg Edmond  male  24.0   \n62    63         0       1    Harris     Mr. Henry Birkhardt  male  45.0   \n34    35         0       1     Meyer        Mr. Edgar Joseph  male  28.0   \n139  140         0       1    Giglio              Mr. Victor  male  24.0   \n\n     SibSp  Parch    Ticket      Fare        Cabin Embarked  \n27       3      2     19950  263.0000  C23 C25 C27        S  \n118      0      1  PC 17558  247.5208      B58 B60        C  \n62       1      0     36973   83.4750          C83        S  \n34       1      0  PC 17604   82.1708          NaN        C  \n139      0      0  PC 17593   79.2000          B86        C  ",
      "text/html": "<div>\n<style scoped>\n    .dataframe tbody tr th:only-of-type {\n        vertical-align: middle;\n    }\n\n    .dataframe tbody tr th {\n        vertical-align: top;\n    }\n\n    .dataframe thead th {\n        text-align: right;\n    }\n</style>\n<table border=\"1\" class=\"dataframe\">\n  <thead>\n    <tr style=\"text-align: right;\">\n      <th></th>\n      <th>ID</th>\n      <th>Survived</th>\n      <th>Pclass</th>\n      <th>last_name</th>\n      <th>first_name</th>\n      <th>Sex</th>\n      <th>Age</th>\n      <th>SibSp</th>\n      <th>Parch</th>\n      <th>Ticket</th>\n      <th>Fare</th>\n      <th>Cabin</th>\n      <th>Embarked</th>\n    </tr>\n  </thead>\n  <tbody>\n    <tr>\n      <th>27</th>\n      <td>28</td>\n      <td>0</td>\n      <td>1</td>\n      <td>Fortune</td>\n      <td>Mr. Charles Alexander</td>\n      <td>male</td>\n      <td>19.0</td>\n      <td>3</td>\n      <td>2</td>\n      <td>19950</td>\n      <td>263.0000</td>\n      <td>C23 C25 C27</td>\n      <td>S</td>\n    </tr>\n    <tr>\n      <th>118</th>\n      <td>119</td>\n      <td>0</td>\n      <td>1</td>\n      <td>Baxter</td>\n      <td>Mr. Quigg Edmond</td>\n      <td>male</td>\n      <td>24.0</td>\n      <td>0</td>\n      <td>1</td>\n      <td>PC 17558</td>\n      <td>247.5208</td>\n      <td>B58 B60</td>\n      <td>C</td>\n    </tr>\n    <tr>\n      <th>62</th>\n      <td>63</td>\n      <td>0</td>\n      <td>1</td>\n      <td>Harris</td>\n      <td>Mr. Henry Birkhardt</td>\n      <td>male</td>\n      <td>45.0</td>\n      <td>1</td>\n      <td>0</td>\n      <td>36973</td>\n      <td>83.4750</td>\n      <td>C83</td>\n      <td>S</td>\n    </tr>\n    <tr>\n      <th>34</th>\n      <td>35</td>\n      <td>0</td>\n      <td>1</td>\n      <td>Meyer</td>\n      <td>Mr. Edgar Joseph</td>\n      <td>male</td>\n      <td>28.0</td>\n      <td>1</td>\n      <td>0</td>\n      <td>PC 17604</td>\n      <td>82.1708</td>\n      <td>NaN</td>\n      <td>C</td>\n    </tr>\n    <tr>\n      <th>139</th>\n      <td>140</td>\n      <td>0</td>\n      <td>1</td>\n      <td>Giglio</td>\n      <td>Mr. Victor</td>\n      <td>male</td>\n      <td>24.0</td>\n      <td>0</td>\n      <td>0</td>\n      <td>PC 17593</td>\n      <td>79.2000</td>\n      <td>B86</td>\n      <td>C</td>\n    </tr>\n  </tbody>\n</table>\n</div>"
     },
     "execution_count": 19,
     "metadata": {},
     "output_type": "execute_result"
    }
   ],
   "source": [
    "titanic = titanic.sort_values(\"Fare\", ascending=False)\n",
    "titanic_f = titanic[titanic.Sex == 'female']\n",
    "titanic_m = titanic[titanic.Sex == 'male']\n",
    "titanic_m.head()"
   ]
  },
  {
   "cell_type": "markdown",
   "metadata": {},
   "source": [
    "## String methods\n",
    "\n",
    "`pandas` makes it very easy to use all the string methods on data frame. Just remember to access these methods via the `str` attribute of the series. Method invocations can be easily chained because each method returns a `Series` object."
   ]
  },
  {
   "cell_type": "code",
   "execution_count": 26,
   "metadata": {
    "ExecuteTime": {
     "end_time": "2024-03-14T11:25:08.199609Z",
     "start_time": "2024-03-14T11:25:07.683994400Z"
    }
   },
   "outputs": [
    {
     "data": {
      "text/plain": "   order_id  quantity                              item_name  \\\n0         1         1           Chips and Fresh Tomato Salsa   \n1         1         1                                   Izze   \n2         1         1                       Nantucket Nectar   \n3         1         1  Chips and Tomatillo-Green Chili Salsa   \n4         2         2                           Chicken Bowl   \n\n                                  choice_description item_price  \n0                                                NaN     $2.39   \n1                                       [Clementine]     $3.39   \n2                                            [Apple]     $3.39   \n3                                                NaN     $2.39   \n4  [Tomatillo-Red Chili Salsa (Hot), [Black Beans...    $16.98   ",
      "text/html": "<div>\n<style scoped>\n    .dataframe tbody tr th:only-of-type {\n        vertical-align: middle;\n    }\n\n    .dataframe tbody tr th {\n        vertical-align: top;\n    }\n\n    .dataframe thead th {\n        text-align: right;\n    }\n</style>\n<table border=\"1\" class=\"dataframe\">\n  <thead>\n    <tr style=\"text-align: right;\">\n      <th></th>\n      <th>order_id</th>\n      <th>quantity</th>\n      <th>item_name</th>\n      <th>choice_description</th>\n      <th>item_price</th>\n    </tr>\n  </thead>\n  <tbody>\n    <tr>\n      <th>0</th>\n      <td>1</td>\n      <td>1</td>\n      <td>Chips and Fresh Tomato Salsa</td>\n      <td>NaN</td>\n      <td>$2.39</td>\n    </tr>\n    <tr>\n      <th>1</th>\n      <td>1</td>\n      <td>1</td>\n      <td>Izze</td>\n      <td>[Clementine]</td>\n      <td>$3.39</td>\n    </tr>\n    <tr>\n      <th>2</th>\n      <td>1</td>\n      <td>1</td>\n      <td>Nantucket Nectar</td>\n      <td>[Apple]</td>\n      <td>$3.39</td>\n    </tr>\n    <tr>\n      <th>3</th>\n      <td>1</td>\n      <td>1</td>\n      <td>Chips and Tomatillo-Green Chili Salsa</td>\n      <td>NaN</td>\n      <td>$2.39</td>\n    </tr>\n    <tr>\n      <th>4</th>\n      <td>2</td>\n      <td>2</td>\n      <td>Chicken Bowl</td>\n      <td>[Tomatillo-Red Chili Salsa (Hot), [Black Beans...</td>\n      <td>$16.98</td>\n    </tr>\n  </tbody>\n</table>\n</div>"
     },
     "execution_count": 26,
     "metadata": {},
     "output_type": "execute_result"
    }
   ],
   "source": [
    "orders = pd.read_table('https://bit.ly/chiporders')\n",
    "\n",
    "orders.head()"
   ]
  },
  {
   "cell_type": "code",
   "execution_count": 27,
   "metadata": {
    "ExecuteTime": {
     "end_time": "2024-03-14T11:25:08.823680200Z",
     "start_time": "2024-03-14T11:25:08.487185200Z"
    }
   },
   "outputs": [
    {
     "data": {
      "text/plain": "0                Chips and Fresh Tomato Salsa\n1                                        Izze\n2                            Nantucket Nectar\n3       Chips and Tomatillo-Green Chili Salsa\n4                                Chicken Bowl\n                        ...                  \n4617                            Steak Burrito\n4618                            Steak Burrito\n4619                       Chicken Salad Bowl\n4620                       Chicken Salad Bowl\n4621                       Chicken Salad Bowl\nName: item_name, Length: 4622, dtype: object"
     },
     "execution_count": 27,
     "metadata": {},
     "output_type": "execute_result"
    }
   ],
   "source": [
    "orders.item_name"
   ]
  },
  {
   "cell_type": "code",
   "execution_count": 28,
   "metadata": {
    "ExecuteTime": {
     "end_time": "2024-03-14T11:25:13.119890900Z",
     "start_time": "2024-03-14T11:25:12.948010200Z"
    }
   },
   "outputs": [
    {
     "data": {
      "text/plain": "0                [chips, and, fresh, tomato, salsa]\n1                                            [izze]\n2                               [nantucket, nectar]\n3       [chips, and, tomatillo-green, chili, salsa]\n4                                      [duck, bowl]\n                           ...                     \n4617                               [steak, burrito]\n4618                               [steak, burrito]\n4619                            [duck, salad, bowl]\n4620                            [duck, salad, bowl]\n4621                            [duck, salad, bowl]\nName: item_name, Length: 4622, dtype: object"
     },
     "execution_count": 28,
     "metadata": {},
     "output_type": "execute_result"
    }
   ],
   "source": [
    "orders.item_name.str.lower().str.replace('chicken', 'duck').str.split()"
   ]
  },
  {
   "cell_type": "code",
   "execution_count": 29,
   "metadata": {
    "ExecuteTime": {
     "end_time": "2024-03-14T11:25:19.207135100Z",
     "start_time": "2024-03-14T11:25:18.987048500Z"
    }
   },
   "outputs": [
    {
     "data": {
      "text/plain": "['mary', 'had', 'a', 'little', 'lamb']"
     },
     "execution_count": 29,
     "metadata": {},
     "output_type": "execute_result"
    }
   ],
   "source": [
    "\"mary had a little lamb\".split()"
   ]
  },
  {
   "cell_type": "markdown",
   "metadata": {},
   "source": [
    "## Exercise\n",
    "\n",
    "Using the Titanic dataset create a list of names of passengers consisting of the title (Mr., Miss., Mrs.) and the last name."
   ]
  },
  {
   "cell_type": "code",
   "execution_count": 39,
   "metadata": {
    "ExecuteTime": {
     "end_time": "2024-03-14T11:35:35.050112400Z",
     "start_time": "2024-03-14T11:35:34.850569300Z"
    }
   },
   "outputs": [
    {
     "data": {
      "text/plain": "88     Miss.Fortune\n27       Mr.Fortune\n118       Mr.Baxter\n31      Mrs.Spencer\n62        Mr.Harris\n           ...     \n26          Mr.Emir\n127       Mr.Madsen\n131       Mr.Coelho\n129      Mr.Ekstrom\n143        Mr.Burke\nName: first_name, Length: 156, dtype: object"
     },
     "execution_count": 39,
     "metadata": {},
     "output_type": "execute_result"
    }
   ],
   "source": [
    "titanic_passangers = [titanic.first_name.str.split().apply(lambda x: x[0]), titanic.last_name]\n",
    "titanic_passangers = titanic.first_name.str.split().str[0].str.cat(titanic.last_name)\n",
    "titanic_passangers"
   ]
  },
  {
   "cell_type": "markdown",
   "metadata": {},
   "source": [
    "## Changing data type of a series\n",
    "\n",
    "All elements in a `Series` object must have the same type. It is possible to cast the entire series to a new type using the builtin `Series.astype()` function. This can be done either during data reading, or after the data frame has been created."
   ]
  },
  {
   "cell_type": "code",
   "execution_count": null,
   "metadata": {
    "ExecuteTime": {
     "end_time": "2021-03-11T13:18:35.404764Z",
     "start_time": "2021-03-11T13:18:35.398721Z"
    }
   },
   "outputs": [],
   "source": [
    "orders.dtypes"
   ]
  },
  {
   "cell_type": "code",
   "execution_count": null,
   "metadata": {
    "ExecuteTime": {
     "end_time": "2021-03-11T13:18:54.229383Z",
     "start_time": "2021-03-11T13:18:54.185955Z"
    }
   },
   "outputs": [],
   "source": [
    "orders.head()"
   ]
  },
  {
   "cell_type": "code",
   "execution_count": null,
   "metadata": {
    "ExecuteTime": {
     "end_time": "2021-03-11T13:19:13.251181Z",
     "start_time": "2021-03-11T13:19:13.230946Z"
    }
   },
   "outputs": [],
   "source": [
    "orders.order_id.astype(float)"
   ]
  },
  {
   "cell_type": "code",
   "execution_count": null,
   "metadata": {
    "ExecuteTime": {
     "end_time": "2021-03-11T13:20:48.238116Z",
     "start_time": "2021-03-11T13:20:46.807162Z"
    }
   },
   "outputs": [],
   "source": [
    "orders = pd.read_table('https://bit.ly/chiporders', dtype={'quantity': float})\n",
    "\n",
    "orders.dtypes"
   ]
  },
  {
   "cell_type": "markdown",
   "metadata": {},
   "source": [
    "If we want to convert `item_price` to a number, we have to first remove the dollar sign from the string representation of the series, and then cast the entire series."
   ]
  },
  {
   "cell_type": "code",
   "execution_count": null,
   "metadata": {},
   "outputs": [],
   "source": [
    "orders.head()"
   ]
  },
  {
   "cell_type": "code",
   "execution_count": null,
   "metadata": {
    "ExecuteTime": {
     "end_time": "2021-03-11T13:22:36.767553Z",
     "start_time": "2021-03-11T13:22:36.750872Z"
    }
   },
   "outputs": [],
   "source": [
    "orders['item_price'] = orders.item_price.str.replace('$','', regex=False).astype(float)"
   ]
  },
  {
   "cell_type": "code",
   "execution_count": null,
   "metadata": {
    "ExecuteTime": {
     "end_time": "2021-03-11T13:22:14.255449Z",
     "start_time": "2021-03-11T13:22:14.250834Z"
    }
   },
   "outputs": [],
   "source": [
    "orders.dtypes"
   ]
  },
  {
   "cell_type": "markdown",
   "metadata": {},
   "source": [
    "## Group by\n",
    "\n",
    "`Pandas` offers a very broad range of methods for advanced data processing. A common operation is to create aggregates of the table based on the grouping of data on a column. This can be easily achieved using a single function call."
   ]
  },
  {
   "cell_type": "code",
   "execution_count": null,
   "metadata": {
    "ExecuteTime": {
     "end_time": "2021-03-11T13:22:59.112173Z",
     "start_time": "2021-03-11T13:22:58.064856Z"
    }
   },
   "outputs": [],
   "source": [
    "drinks = pd.read_csv('https://bit.ly/drinksbycountry')\n",
    "\n",
    "drinks.head()"
   ]
  },
  {
   "cell_type": "code",
   "execution_count": null,
   "metadata": {
    "ExecuteTime": {
     "end_time": "2021-03-11T13:23:28.845421Z",
     "start_time": "2021-03-11T13:23:28.834626Z"
    }
   },
   "outputs": [],
   "source": [
    "drinks.mean(numeric_only=True)"
   ]
  },
  {
   "cell_type": "code",
   "execution_count": null,
   "metadata": {
    "ExecuteTime": {
     "end_time": "2021-03-11T13:24:02.493142Z",
     "start_time": "2021-03-11T13:24:02.475898Z"
    }
   },
   "outputs": [],
   "source": [
    "drinks.groupby('continent')"
   ]
  },
  {
   "cell_type": "code",
   "execution_count": null,
   "metadata": {
    "ExecuteTime": {
     "end_time": "2021-03-11T13:25:12.222188Z",
     "start_time": "2021-03-11T13:25:12.209847Z"
    }
   },
   "outputs": [],
   "source": [
    "drinks.groupby('continent').beer_servings.mean()"
   ]
  },
  {
   "cell_type": "code",
   "execution_count": null,
   "metadata": {
    "ExecuteTime": {
     "end_time": "2021-03-11T13:26:11.274870Z",
     "start_time": "2021-03-11T13:26:11.253574Z"
    }
   },
   "outputs": [],
   "source": [
    "drinks.groupby('continent').std(numeric_only=True)"
   ]
  },
  {
   "cell_type": "markdown",
   "metadata": {},
   "source": [
    "We can apply several aggregate functions to a grouped data frame using the `agg()` function"
   ]
  },
  {
   "cell_type": "code",
   "execution_count": null,
   "metadata": {
    "ExecuteTime": {
     "end_time": "2021-03-11T13:26:37.076574Z",
     "start_time": "2021-03-11T13:26:36.981864Z"
    }
   },
   "outputs": [],
   "source": [
    "myagg = ['mean', 'min', 'max', 'count']\n",
    "\n",
    "drinks.groupby('continent').beer_servings.agg(myagg)"
   ]
  },
  {
   "cell_type": "markdown",
   "metadata": {},
   "source": [
    "The results of the group by operation can be quickly visualized."
   ]
  },
  {
   "cell_type": "code",
   "execution_count": null,
   "metadata": {
    "ExecuteTime": {
     "end_time": "2021-03-11T13:28:24.941851Z",
     "start_time": "2021-03-11T13:28:24.545590Z"
    }
   },
   "outputs": [],
   "source": [
    "%matplotlib inline\n",
    "\n",
    "drinks.beer_servings.plot(kind='hist')"
   ]
  },
  {
   "cell_type": "code",
   "execution_count": null,
   "metadata": {
    "ExecuteTime": {
     "end_time": "2021-03-11T13:28:24.941851Z",
     "start_time": "2021-03-11T13:28:24.545590Z"
    }
   },
   "outputs": [],
   "source": [
    "drinks[['beer_servings', 'wine_servings']].plot(kind='scatter', x='beer_servings', y='wine_servings')"
   ]
  },
  {
   "cell_type": "code",
   "execution_count": null,
   "metadata": {},
   "outputs": [],
   "source": [
    "drinks.beer_servings.plot(kind='barh')"
   ]
  },
  {
   "cell_type": "markdown",
   "metadata": {},
   "source": [
    "## Exercise\n",
    "\n",
    "1. Compute the number of passengers and the average ticket fare based on the port of embarkment\n",
    "2. Draw the number of female and male passengers who have survived the sinking\n",
    "3. Compare the mean age of passengers who survived the sinking with the mean age of passengers who have died"
   ]
  },
  {
   "cell_type": "code",
   "execution_count": 61,
   "metadata": {
    "ExecuteTime": {
     "end_time": "2024-03-14T12:01:12.780353400Z",
     "start_time": "2024-03-14T12:01:12.483631700Z"
    }
   },
   "outputs": [
    {
     "name": "stdout",
     "output_type": "stream",
     "text": [
      "Unexpected exception formatting exception. Falling back to standard exception\n"
     ]
    },
    {
     "name": "stderr",
     "output_type": "stream",
     "text": [
      "Traceback (most recent call last):\n",
      "  File \"C:\\Users\\Karol\\AppData\\Local\\Programs\\Python\\Python39\\lib\\site-packages\\IPython\\core\\interactiveshell.py\", line 3526, in run_code\n",
      "    exec(code_obj, self.user_global_ns, self.user_ns)\n",
      "  File \"C:\\Users\\Karol\\AppData\\Local\\Temp\\ipykernel_9024\\2624276088.py\", line 6, in <module>\n",
      "    survived.plot(kind='bar')\n",
      "  File \"C:\\Users\\Karol\\AppData\\Local\\Programs\\Python\\Python39\\lib\\site-packages\\pandas\\plotting\\_core.py\", line 951, in __call__\n",
      "    )\n",
      "  File \"C:\\Users\\Karol\\AppData\\Local\\Programs\\Python\\Python39\\lib\\site-packages\\pandas\\plotting\\_core.py\", line 1947, in _get_plot_backend\n",
      "  File \"C:\\Users\\Karol\\AppData\\Local\\Programs\\Python\\Python39\\lib\\site-packages\\pandas\\plotting\\_core.py\", line 1877, in _load_backend\n",
      "    ) from None\n",
      "ImportError: matplotlib is required for plotting when the default backend \"matplotlib\" is selected.\n",
      "\n",
      "During handling of the above exception, another exception occurred:\n",
      "\n",
      "Traceback (most recent call last):\n",
      "  File \"C:\\Users\\Karol\\AppData\\Local\\Programs\\Python\\Python39\\lib\\site-packages\\IPython\\core\\interactiveshell.py\", line 2120, in showtraceback\n",
      "    stb = self.InteractiveTB.structured_traceback(\n",
      "  File \"C:\\Users\\Karol\\AppData\\Local\\Programs\\Python\\Python39\\lib\\site-packages\\IPython\\core\\ultratb.py\", line 1435, in structured_traceback\n",
      "    return FormattedTB.structured_traceback(\n",
      "  File \"C:\\Users\\Karol\\AppData\\Local\\Programs\\Python\\Python39\\lib\\site-packages\\IPython\\core\\ultratb.py\", line 1326, in structured_traceback\n",
      "    return VerboseTB.structured_traceback(\n",
      "  File \"C:\\Users\\Karol\\AppData\\Local\\Programs\\Python\\Python39\\lib\\site-packages\\IPython\\core\\ultratb.py\", line 1173, in structured_traceback\n",
      "    formatted_exception = self.format_exception_as_a_whole(etype, evalue, etb, number_of_lines_of_context,\n",
      "  File \"C:\\Users\\Karol\\AppData\\Local\\Programs\\Python\\Python39\\lib\\site-packages\\IPython\\core\\ultratb.py\", line 1088, in format_exception_as_a_whole\n",
      "    frames.append(self.format_record(record))\n",
      "  File \"C:\\Users\\Karol\\AppData\\Local\\Programs\\Python\\Python39\\lib\\site-packages\\IPython\\core\\ultratb.py\", line 970, in format_record\n",
      "    frame_info.lines, Colors, self.has_colors, lvals\n",
      "  File \"C:\\Users\\Karol\\AppData\\Local\\Programs\\Python\\Python39\\lib\\site-packages\\IPython\\core\\ultratb.py\", line 792, in lines\n",
      "    return self._sd.lines\n",
      "  File \"C:\\Users\\Karol\\AppData\\Local\\Programs\\Python\\Python39\\lib\\site-packages\\stack_data\\utils.py\", line 145, in cached_property_wrapper\n",
      "    value = obj.__dict__[self.func.__name__] = self.func(obj)\n",
      "  File \"C:\\Users\\Karol\\AppData\\Local\\Programs\\Python\\Python39\\lib\\site-packages\\stack_data\\core.py\", line 734, in lines\n",
      "    pieces = self.included_pieces\n",
      "  File \"C:\\Users\\Karol\\AppData\\Local\\Programs\\Python\\Python39\\lib\\site-packages\\stack_data\\utils.py\", line 145, in cached_property_wrapper\n",
      "    value = obj.__dict__[self.func.__name__] = self.func(obj)\n",
      "  File \"C:\\Users\\Karol\\AppData\\Local\\Programs\\Python\\Python39\\lib\\site-packages\\stack_data\\core.py\", line 681, in included_pieces\n",
      "    pos = scope_pieces.index(self.executing_piece)\n",
      "  File \"C:\\Users\\Karol\\AppData\\Local\\Programs\\Python\\Python39\\lib\\site-packages\\stack_data\\utils.py\", line 145, in cached_property_wrapper\n",
      "    value = obj.__dict__[self.func.__name__] = self.func(obj)\n",
      "  File \"C:\\Users\\Karol\\AppData\\Local\\Programs\\Python\\Python39\\lib\\site-packages\\stack_data\\core.py\", line 660, in executing_piece\n",
      "    return only(\n",
      "  File \"C:\\Users\\Karol\\AppData\\Local\\Programs\\Python\\Python39\\lib\\site-packages\\executing\\executing.py\", line 116, in only\n",
      "    raise NotOneValueFound('Expected one value, found 0')\n",
      "executing.executing.NotOneValueFound: Expected one value, found 0\n"
     ]
    }
   ],
   "source": [
    "%matplotlib inline\n",
    "num_passengers_avg_ticket = titanic.groupby(titanic.Embarked).agg({'ID':'count', 'Fare':'mean'})\n",
    "num_passengers_avg_ticket\n",
    "survived = titanic.groupby('Sex').Survived.sum()\n",
    "survived\n",
    "survived.plot(kind='bar')\n",
    "\n",
    "# titanic.groupby('Survived').Age.mean()"
   ]
  },
  {
   "cell_type": "markdown",
   "metadata": {},
   "source": [
    "## Exploring the data frame\n",
    "\n",
    "Here we list some useful functions to run after reading the data to get some better understanding of the data."
   ]
  },
  {
   "cell_type": "code",
   "execution_count": null,
   "metadata": {
    "ExecuteTime": {
     "end_time": "2021-03-11T13:28:34.724264Z",
     "start_time": "2021-03-11T13:28:33.901849Z"
    }
   },
   "outputs": [],
   "source": [
    "movies = pd.read_csv('https://bit.ly/imdbratings')\n",
    "\n",
    "movies.head()"
   ]
  },
  {
   "cell_type": "code",
   "execution_count": null,
   "metadata": {
    "ExecuteTime": {
     "end_time": "2021-03-11T13:28:41.064339Z",
     "start_time": "2021-03-11T13:28:41.029170Z"
    }
   },
   "outputs": [],
   "source": [
    "movies.star_rating.describe()"
   ]
  },
  {
   "cell_type": "code",
   "execution_count": null,
   "metadata": {
    "ExecuteTime": {
     "end_time": "2021-03-11T10:12:06.542979Z",
     "start_time": "2021-03-11T10:12:06.527191Z"
    }
   },
   "outputs": [],
   "source": [
    "movies.genre.describe()"
   ]
  },
  {
   "cell_type": "code",
   "execution_count": null,
   "metadata": {
    "ExecuteTime": {
     "end_time": "2021-03-11T13:29:19.235697Z",
     "start_time": "2021-03-11T13:29:19.227645Z"
    }
   },
   "outputs": [],
   "source": [
    "movies.genre.value_counts().plot(kind='barh')"
   ]
  },
  {
   "cell_type": "code",
   "execution_count": null,
   "metadata": {
    "ExecuteTime": {
     "end_time": "2021-03-11T13:29:36.989947Z",
     "start_time": "2021-03-11T13:29:36.972660Z"
    }
   },
   "outputs": [],
   "source": [
    "movies.genre.value_counts(normalize=True)"
   ]
  },
  {
   "cell_type": "markdown",
   "metadata": {},
   "source": [
    "Since the result of the `value_counts()` function is a `Series` object, we can process it further."
   ]
  },
  {
   "cell_type": "code",
   "execution_count": null,
   "metadata": {
    "ExecuteTime": {
     "end_time": "2021-03-11T13:30:00.854800Z",
     "start_time": "2021-03-11T13:30:00.572468Z"
    }
   },
   "outputs": [],
   "source": [
    "movies.genre.value_counts(normalize=True).plot(kind='bar')"
   ]
  },
  {
   "cell_type": "code",
   "execution_count": null,
   "metadata": {
    "ExecuteTime": {
     "end_time": "2021-03-11T13:30:20.312654Z",
     "start_time": "2021-03-11T13:30:20.031975Z"
    }
   },
   "outputs": [],
   "source": [
    "movies.duration.plot(kind='hist')"
   ]
  },
  {
   "cell_type": "code",
   "execution_count": null,
   "metadata": {
    "ExecuteTime": {
     "end_time": "2021-03-11T13:30:32.521434Z",
     "start_time": "2021-03-11T13:30:32.513065Z"
    }
   },
   "outputs": [],
   "source": [
    "movies.genre.unique()"
   ]
  },
  {
   "cell_type": "code",
   "execution_count": null,
   "metadata": {
    "ExecuteTime": {
     "end_time": "2021-03-11T13:31:27.596125Z",
     "start_time": "2021-03-11T13:31:27.542535Z"
    }
   },
   "outputs": [],
   "source": [
    "genres = movies.genre.unique()\n",
    "\n",
    "for g in genres:\n",
    "    df = movies[movies.genre == g]\n",
    "    ..."
   ]
  },
  {
   "cell_type": "markdown",
   "metadata": {},
   "source": [
    "A useful method allows you to quickly create pivot tables from series objects."
   ]
  },
  {
   "cell_type": "code",
   "execution_count": null,
   "metadata": {
    "ExecuteTime": {
     "end_time": "2021-03-11T13:31:45.856982Z",
     "start_time": "2021-03-11T13:31:45.844298Z"
    }
   },
   "outputs": [],
   "source": [
    "genres = movies.genre\n",
    "\n",
    "ratings = movies.content_rating"
   ]
  },
  {
   "cell_type": "code",
   "execution_count": null,
   "metadata": {
    "ExecuteTime": {
     "end_time": "2021-03-11T13:31:47.784920Z",
     "start_time": "2021-03-11T13:31:47.768661Z"
    }
   },
   "outputs": [],
   "source": [
    "genres"
   ]
  },
  {
   "cell_type": "code",
   "execution_count": null,
   "metadata": {
    "ExecuteTime": {
     "end_time": "2021-03-11T13:31:56.671708Z",
     "start_time": "2021-03-11T13:31:56.652899Z"
    }
   },
   "outputs": [],
   "source": [
    "ratings"
   ]
  },
  {
   "cell_type": "code",
   "execution_count": null,
   "metadata": {
    "ExecuteTime": {
     "end_time": "2021-03-11T13:32:11.732925Z",
     "start_time": "2021-03-11T13:32:11.683731Z"
    }
   },
   "outputs": [],
   "source": [
    "pd.crosstab(genres, ratings)"
   ]
  },
  {
   "cell_type": "markdown",
   "metadata": {},
   "source": [
    "## Handling missing values\n",
    "\n",
    "When working with a data frame, we must be careful when the data contains missing values. Two functions are very useful when working with missing values:\n",
    "- `isnull()`: returns `True` if a value is missing\n",
    "- `dropna()`: allows to remove rows and/or columns with missing values"
   ]
  },
  {
   "cell_type": "code",
   "execution_count": null,
   "metadata": {
    "ExecuteTime": {
     "end_time": "2021-03-11T13:32:57.889396Z",
     "start_time": "2021-03-11T13:32:56.230476Z"
    }
   },
   "outputs": [],
   "source": [
    "ufo = pd.read_csv('https://bit.ly/uforeports')\n",
    "\n",
    "ufo.head()"
   ]
  },
  {
   "cell_type": "code",
   "execution_count": null,
   "metadata": {
    "ExecuteTime": {
     "end_time": "2021-03-11T13:33:23.242950Z",
     "start_time": "2021-03-11T13:33:23.221410Z"
    }
   },
   "outputs": [],
   "source": [
    "ufo['Colors Reported'].isnull()"
   ]
  },
  {
   "cell_type": "code",
   "execution_count": null,
   "metadata": {
    "ExecuteTime": {
     "end_time": "2021-03-11T13:33:33.361626Z",
     "start_time": "2021-03-11T13:33:33.349802Z"
    }
   },
   "outputs": [],
   "source": [
    "ufo['Colors Reported'].isnull().sum()"
   ]
  },
  {
   "cell_type": "code",
   "execution_count": null,
   "metadata": {
    "ExecuteTime": {
     "end_time": "2021-03-11T13:34:25.557556Z",
     "start_time": "2021-03-11T13:34:25.518044Z"
    }
   },
   "outputs": [],
   "source": [
    "ufo.isnull().sum()"
   ]
  },
  {
   "cell_type": "code",
   "execution_count": null,
   "metadata": {
    "ExecuteTime": {
     "end_time": "2021-03-11T13:35:10.546056Z",
     "start_time": "2021-03-11T13:35:10.526434Z"
    }
   },
   "outputs": [],
   "source": [
    "ufo.shape"
   ]
  },
  {
   "cell_type": "code",
   "execution_count": null,
   "metadata": {
    "ExecuteTime": {
     "end_time": "2021-03-11T13:36:28.587433Z",
     "start_time": "2021-03-11T13:36:28.564289Z"
    }
   },
   "outputs": [],
   "source": [
    "ufo.dropna(how='all', axis=0, subset=['City', 'Colors Reported']) # all, subset"
   ]
  },
  {
   "cell_type": "markdown",
   "metadata": {},
   "source": [
    "## Exercise\n",
    "\n",
    "1. Remove from the `titanic` dataframe records which do not have the age of the passenger registered\n",
    "2. Compute the number of missing cabin numbers for each class of passengers"
   ]
  },
  {
   "cell_type": "code",
   "execution_count": 47,
   "outputs": [
    {
     "data": {
      "text/plain": "      ID  Survived  Pclass last_name                              first_name  \\\n88    89         1       1   Fortune                       Miss. Mabel Helen   \n27    28         0       1   Fortune                   Mr. Charles Alexander   \n118  119         0       1    Baxter                        Mr. Quigg Edmond   \n31    32         1       1   Spencer   Mrs. William Augustus (Marie Eugenie)   \n62    63         0       1    Harris                     Mr. Henry Birkhardt   \n\n        Sex   Age  SibSp  Parch    Ticket      Fare        Cabin Embarked  \n88   female  23.0      3      2     19950  263.0000  C23 C25 C27        S  \n27     male  19.0      3      2     19950  263.0000  C23 C25 C27        S  \n118    male  24.0      0      1  PC 17558  247.5208      B58 B60        C  \n31   female   NaN      1      0  PC 17569  146.5208          B78        C  \n62     male  45.0      1      0     36973   83.4750          C83        S  ",
      "text/html": "<div>\n<style scoped>\n    .dataframe tbody tr th:only-of-type {\n        vertical-align: middle;\n    }\n\n    .dataframe tbody tr th {\n        vertical-align: top;\n    }\n\n    .dataframe thead th {\n        text-align: right;\n    }\n</style>\n<table border=\"1\" class=\"dataframe\">\n  <thead>\n    <tr style=\"text-align: right;\">\n      <th></th>\n      <th>ID</th>\n      <th>Survived</th>\n      <th>Pclass</th>\n      <th>last_name</th>\n      <th>first_name</th>\n      <th>Sex</th>\n      <th>Age</th>\n      <th>SibSp</th>\n      <th>Parch</th>\n      <th>Ticket</th>\n      <th>Fare</th>\n      <th>Cabin</th>\n      <th>Embarked</th>\n    </tr>\n  </thead>\n  <tbody>\n    <tr>\n      <th>88</th>\n      <td>89</td>\n      <td>1</td>\n      <td>1</td>\n      <td>Fortune</td>\n      <td>Miss. Mabel Helen</td>\n      <td>female</td>\n      <td>23.0</td>\n      <td>3</td>\n      <td>2</td>\n      <td>19950</td>\n      <td>263.0000</td>\n      <td>C23 C25 C27</td>\n      <td>S</td>\n    </tr>\n    <tr>\n      <th>27</th>\n      <td>28</td>\n      <td>0</td>\n      <td>1</td>\n      <td>Fortune</td>\n      <td>Mr. Charles Alexander</td>\n      <td>male</td>\n      <td>19.0</td>\n      <td>3</td>\n      <td>2</td>\n      <td>19950</td>\n      <td>263.0000</td>\n      <td>C23 C25 C27</td>\n      <td>S</td>\n    </tr>\n    <tr>\n      <th>118</th>\n      <td>119</td>\n      <td>0</td>\n      <td>1</td>\n      <td>Baxter</td>\n      <td>Mr. Quigg Edmond</td>\n      <td>male</td>\n      <td>24.0</td>\n      <td>0</td>\n      <td>1</td>\n      <td>PC 17558</td>\n      <td>247.5208</td>\n      <td>B58 B60</td>\n      <td>C</td>\n    </tr>\n    <tr>\n      <th>31</th>\n      <td>32</td>\n      <td>1</td>\n      <td>1</td>\n      <td>Spencer</td>\n      <td>Mrs. William Augustus (Marie Eugenie)</td>\n      <td>female</td>\n      <td>NaN</td>\n      <td>1</td>\n      <td>0</td>\n      <td>PC 17569</td>\n      <td>146.5208</td>\n      <td>B78</td>\n      <td>C</td>\n    </tr>\n    <tr>\n      <th>62</th>\n      <td>63</td>\n      <td>0</td>\n      <td>1</td>\n      <td>Harris</td>\n      <td>Mr. Henry Birkhardt</td>\n      <td>male</td>\n      <td>45.0</td>\n      <td>1</td>\n      <td>0</td>\n      <td>36973</td>\n      <td>83.4750</td>\n      <td>C83</td>\n      <td>S</td>\n    </tr>\n  </tbody>\n</table>\n</div>"
     },
     "execution_count": 47,
     "metadata": {},
     "output_type": "execute_result"
    }
   ],
   "source": [
    "titanic.head()"
   ],
   "metadata": {
    "collapsed": false,
    "ExecuteTime": {
     "end_time": "2024-03-14T11:50:24.546958500Z",
     "start_time": "2024-03-14T11:50:24.296963500Z"
    }
   }
  },
  {
   "cell_type": "code",
   "execution_count": 63,
   "outputs": [
    {
     "ename": "AttributeError",
     "evalue": "'SeriesGroupBy' object has no attribute 'isnull'",
     "output_type": "error",
     "traceback": [
      "\u001B[1;31m---------------------------------------------------------------------------\u001B[0m",
      "\u001B[1;31mAttributeError\u001B[0m                            Traceback (most recent call last)",
      "Cell \u001B[1;32mIn[63], line 2\u001B[0m\n\u001B[0;32m      1\u001B[0m titanic[\u001B[38;5;124m'\u001B[39m\u001B[38;5;124mAge\u001B[39m\u001B[38;5;124m'\u001B[39m]\u001B[38;5;241m.\u001B[39mdropna()\n\u001B[1;32m----> 2\u001B[0m \u001B[43mtitanic\u001B[49m\u001B[38;5;241;43m.\u001B[39;49m\u001B[43mgroupby\u001B[49m\u001B[43m(\u001B[49m\u001B[38;5;124;43m'\u001B[39;49m\u001B[38;5;124;43mPclass\u001B[39;49m\u001B[38;5;124;43m'\u001B[39;49m\u001B[43m)\u001B[49m\u001B[38;5;241;43m.\u001B[39;49m\u001B[43mCabin\u001B[49m\u001B[38;5;241;43m.\u001B[39;49m\u001B[43misnull\u001B[49m()\u001B[38;5;241m.\u001B[39mcount()\n",
      "File \u001B[1;32m~\\AppData\\Local\\Programs\\Python\\Python39\\lib\\site-packages\\pandas\\core\\groupby\\groupby.py:1308\u001B[0m, in \u001B[0;36m__getattr__\u001B[1;34m(self, attr)\u001B[0m\n\u001B[0;32m   1293\u001B[0m _grouper: ops\u001B[38;5;241m.\u001B[39mBaseGrouper\n\u001B[0;32m   1294\u001B[0m as_index: \u001B[38;5;28mbool\u001B[39m\n\u001B[0;32m   1296\u001B[0m \u001B[38;5;129m@final\u001B[39m\n\u001B[0;32m   1297\u001B[0m \u001B[38;5;28;01mdef\u001B[39;00m \u001B[38;5;21m__init__\u001B[39m(\n\u001B[0;32m   1298\u001B[0m     \u001B[38;5;28mself\u001B[39m,\n\u001B[0;32m   1299\u001B[0m     obj: NDFrameT,\n\u001B[0;32m   1300\u001B[0m     keys: _KeysArgType \u001B[38;5;241m|\u001B[39m \u001B[38;5;28;01mNone\u001B[39;00m \u001B[38;5;241m=\u001B[39m \u001B[38;5;28;01mNone\u001B[39;00m,\n\u001B[0;32m   1301\u001B[0m     axis: Axis \u001B[38;5;241m=\u001B[39m \u001B[38;5;241m0\u001B[39m,\n\u001B[0;32m   1302\u001B[0m     level: IndexLabel \u001B[38;5;241m|\u001B[39m \u001B[38;5;28;01mNone\u001B[39;00m \u001B[38;5;241m=\u001B[39m \u001B[38;5;28;01mNone\u001B[39;00m,\n\u001B[0;32m   1303\u001B[0m     grouper: ops\u001B[38;5;241m.\u001B[39mBaseGrouper \u001B[38;5;241m|\u001B[39m \u001B[38;5;28;01mNone\u001B[39;00m \u001B[38;5;241m=\u001B[39m \u001B[38;5;28;01mNone\u001B[39;00m,\n\u001B[0;32m   1304\u001B[0m     exclusions: \u001B[38;5;28mfrozenset\u001B[39m[Hashable] \u001B[38;5;241m|\u001B[39m \u001B[38;5;28;01mNone\u001B[39;00m \u001B[38;5;241m=\u001B[39m \u001B[38;5;28;01mNone\u001B[39;00m,\n\u001B[0;32m   1305\u001B[0m     selection: IndexLabel \u001B[38;5;241m|\u001B[39m \u001B[38;5;28;01mNone\u001B[39;00m \u001B[38;5;241m=\u001B[39m \u001B[38;5;28;01mNone\u001B[39;00m,\n\u001B[0;32m   1306\u001B[0m     as_index: \u001B[38;5;28mbool\u001B[39m \u001B[38;5;241m=\u001B[39m \u001B[38;5;28;01mTrue\u001B[39;00m,\n\u001B[0;32m   1307\u001B[0m     sort: \u001B[38;5;28mbool\u001B[39m \u001B[38;5;241m=\u001B[39m \u001B[38;5;28;01mTrue\u001B[39;00m,\n\u001B[1;32m-> 1308\u001B[0m     group_keys: \u001B[38;5;28mbool\u001B[39m \u001B[38;5;241m=\u001B[39m \u001B[38;5;28;01mTrue\u001B[39;00m,\n\u001B[0;32m   1309\u001B[0m     observed: \u001B[38;5;28mbool\u001B[39m \u001B[38;5;241m|\u001B[39m lib\u001B[38;5;241m.\u001B[39mNoDefault \u001B[38;5;241m=\u001B[39m lib\u001B[38;5;241m.\u001B[39mno_default,\n\u001B[0;32m   1310\u001B[0m     dropna: \u001B[38;5;28mbool\u001B[39m \u001B[38;5;241m=\u001B[39m \u001B[38;5;28;01mTrue\u001B[39;00m,\n\u001B[0;32m   1311\u001B[0m ) \u001B[38;5;241m-\u001B[39m\u001B[38;5;241m>\u001B[39m \u001B[38;5;28;01mNone\u001B[39;00m:\n\u001B[0;32m   1312\u001B[0m     \u001B[38;5;28mself\u001B[39m\u001B[38;5;241m.\u001B[39m_selection \u001B[38;5;241m=\u001B[39m selection\n\u001B[0;32m   1314\u001B[0m     \u001B[38;5;28;01massert\u001B[39;00m \u001B[38;5;28misinstance\u001B[39m(obj, NDFrame), \u001B[38;5;28mtype\u001B[39m(obj)\n",
      "\u001B[1;31mAttributeError\u001B[0m: 'SeriesGroupBy' object has no attribute 'isnull'"
     ]
    }
   ],
   "source": [
    "titanic['Age'].dropna()\n",
    "titanic.groupby('Pclass').Cabin.isnull().count()"
   ],
   "metadata": {
    "collapsed": false,
    "ExecuteTime": {
     "end_time": "2024-03-14T12:02:34.831494100Z",
     "start_time": "2024-03-14T12:02:34.363387500Z"
    }
   }
  },
  {
   "cell_type": "markdown",
   "metadata": {},
   "source": [
    "## What is an index?\n",
    "\n",
    "An `Index` is a special type that can be used to access rows and columns. There are three main uses for an index:\n",
    "- identification of rows/columns\n",
    "- selection of rows/columns\n",
    "- alignment of rows"
   ]
  },
  {
   "cell_type": "code",
   "execution_count": null,
   "metadata": {
    "ExecuteTime": {
     "end_time": "2021-03-11T13:37:32.605150Z",
     "start_time": "2021-03-11T13:37:31.656393Z"
    }
   },
   "outputs": [],
   "source": [
    "drinks = pd.read_csv('https://bit.ly/drinksbycountry')\n",
    "\n",
    "drinks.head()"
   ]
  },
  {
   "cell_type": "code",
   "execution_count": null,
   "metadata": {
    "ExecuteTime": {
     "end_time": "2021-03-11T13:37:59.355206Z",
     "start_time": "2021-03-11T13:37:59.333298Z"
    }
   },
   "outputs": [],
   "source": [
    "drinks.set_index('country', inplace=True)\n",
    "\n",
    "drinks.head()"
   ]
  },
  {
   "cell_type": "markdown",
   "metadata": {},
   "source": [
    "Notice that the index of a data frame is inherited by all series."
   ]
  },
  {
   "cell_type": "code",
   "execution_count": null,
   "metadata": {
    "ExecuteTime": {
     "end_time": "2021-03-11T13:38:53.939891Z",
     "start_time": "2021-03-11T13:38:53.933809Z"
    }
   },
   "outputs": [],
   "source": [
    "drinks.continent.head()"
   ]
  },
  {
   "cell_type": "code",
   "execution_count": null,
   "metadata": {
    "ExecuteTime": {
     "end_time": "2021-03-11T13:39:27.685253Z",
     "start_time": "2021-03-11T13:39:27.674078Z"
    }
   },
   "outputs": [],
   "source": [
    "drinks.continent.value_counts().values"
   ]
  },
  {
   "cell_type": "code",
   "execution_count": null,
   "metadata": {
    "ExecuteTime": {
     "end_time": "2021-03-11T13:39:32.162991Z",
     "start_time": "2021-03-11T13:39:32.152763Z"
    }
   },
   "outputs": [],
   "source": [
    "drinks.continent.value_counts().index"
   ]
  },
  {
   "cell_type": "markdown",
   "metadata": {},
   "source": [
    "Index is very useful to select both rows and columns. All you need to remember is that `pd.loc` function expects you to provide index entries for rows and columns that you want to retrieve."
   ]
  },
  {
   "cell_type": "markdown",
   "metadata": {},
   "source": [
    "## Indexing with `loc`, `iloc`, and `ix`\n",
    "\n",
    "This is quite confusing. Try to remember the following rules:\n",
    "- `loc` uses row/column indexes (aka labels), the ranges are **inclusive**\n",
    "- `iloc` uses integer positions on the list of rows and columns, the ranges are **exclusive**\n",
    "- `ix` was an old way of indexing a dataframe allowing to use both labels and integer positions, it is deprecated"
   ]
  },
  {
   "cell_type": "code",
   "execution_count": null,
   "metadata": {
    "ExecuteTime": {
     "end_time": "2021-03-11T13:40:10.826458Z",
     "start_time": "2021-03-11T13:40:10.815074Z"
    }
   },
   "outputs": [],
   "source": [
    "drinks.head()"
   ]
  },
  {
   "cell_type": "code",
   "execution_count": null,
   "metadata": {
    "ExecuteTime": {
     "end_time": "2021-03-11T13:41:38.693653Z",
     "start_time": "2021-03-11T13:41:38.686695Z"
    }
   },
   "outputs": [],
   "source": [
    "drinks.loc[ :,: ]"
   ]
  },
  {
   "cell_type": "code",
   "execution_count": null,
   "metadata": {
    "ExecuteTime": {
     "end_time": "2021-03-11T13:42:16.885907Z",
     "start_time": "2021-03-11T13:42:16.862367Z"
    }
   },
   "outputs": [],
   "source": [
    "drinks.loc['Gabon':'Guyana', 'beer_servings':'wine_servings']"
   ]
  },
  {
   "cell_type": "code",
   "execution_count": null,
   "metadata": {
    "ExecuteTime": {
     "end_time": "2021-03-11T13:43:06.214095Z",
     "start_time": "2021-03-11T13:43:06.209634Z"
    }
   },
   "outputs": [],
   "source": [
    "drinks.columns"
   ]
  },
  {
   "cell_type": "code",
   "execution_count": null,
   "metadata": {
    "ExecuteTime": {
     "end_time": "2021-03-11T13:42:42.564954Z",
     "start_time": "2021-03-11T13:42:42.533333Z"
    }
   },
   "outputs": [],
   "source": [
    "drinks.loc['Poland': 'Romania', 'beer_servings':'wine_servings']"
   ]
  },
  {
   "cell_type": "code",
   "execution_count": null,
   "metadata": {},
   "outputs": [],
   "source": [
    "drinks.head()"
   ]
  },
  {
   "cell_type": "code",
   "execution_count": null,
   "metadata": {},
   "outputs": [],
   "source": [
    "drinks.iloc[0:4,1:3]"
   ]
  },
  {
   "cell_type": "markdown",
   "metadata": {},
   "source": [
    "Let's create a `Series` object with an index that can be aligned with our `drinks` data frame."
   ]
  },
  {
   "cell_type": "code",
   "execution_count": null,
   "metadata": {
    "ExecuteTime": {
     "end_time": "2021-03-11T13:43:30.582157Z",
     "start_time": "2021-03-11T13:43:30.553889Z"
    }
   },
   "outputs": [],
   "source": [
    "population = pd.Series([4000000, 38000000, 80000000, 70000000], \n",
    "                       index=['Albania', 'Poland', 'Germany', 'France'], \n",
    "                       name='population')\n",
    "\n",
    "population"
   ]
  },
  {
   "cell_type": "code",
   "execution_count": null,
   "metadata": {
    "ExecuteTime": {
     "end_time": "2021-03-11T13:45:03.986353Z",
     "start_time": "2021-03-11T13:45:03.945295Z"
    }
   },
   "outputs": [],
   "source": [
    "drinks.loc[['Albania', 'Poland', 'Germany', 'France', 'Greece']].beer_servings * population"
   ]
  },
  {
   "cell_type": "code",
   "execution_count": null,
   "metadata": {
    "ExecuteTime": {
     "end_time": "2021-03-11T13:45:43.088719Z",
     "start_time": "2021-03-11T13:45:43.060580Z"
    }
   },
   "outputs": [],
   "source": [
    "pd.concat([drinks, population], axis=1)"
   ]
  },
  {
   "cell_type": "markdown",
   "metadata": {},
   "source": [
    "You can always revert to a default \"row number\" index and move the index column to the column list."
   ]
  },
  {
   "cell_type": "code",
   "execution_count": null,
   "metadata": {
    "ExecuteTime": {
     "end_time": "2021-03-11T13:46:13.073743Z",
     "start_time": "2021-03-11T13:46:13.059455Z"
    }
   },
   "outputs": [],
   "source": [
    "drinks.reset_index(inplace=True)\n",
    "\n",
    "drinks.head()"
   ]
  },
  {
   "cell_type": "code",
   "execution_count": null,
   "metadata": {
    "ExecuteTime": {
     "end_time": "2021-03-11T13:47:40.016035Z",
     "start_time": "2021-03-11T13:47:37.365122Z"
    }
   },
   "outputs": [],
   "source": [
    "ufo = pd.read_csv('https://bit.ly/uforeports')\n",
    "\n",
    "ufo.head()"
   ]
  },
  {
   "cell_type": "code",
   "execution_count": null,
   "metadata": {
    "ExecuteTime": {
     "end_time": "2021-03-11T13:48:17.728151Z",
     "start_time": "2021-03-11T13:48:17.695077Z"
    }
   },
   "outputs": [],
   "source": [
    "ufo.loc[0:3, :]"
   ]
  },
  {
   "cell_type": "code",
   "execution_count": null,
   "metadata": {
    "ExecuteTime": {
     "end_time": "2021-03-11T13:49:17.041295Z",
     "start_time": "2021-03-11T13:49:16.996290Z"
    }
   },
   "outputs": [],
   "source": [
    "ufo.loc[[0,2,4], 'City':'State']"
   ]
  },
  {
   "cell_type": "code",
   "execution_count": null,
   "metadata": {
    "ExecuteTime": {
     "end_time": "2021-03-11T13:49:54.270593Z",
     "start_time": "2021-03-11T13:49:54.229731Z"
    }
   },
   "outputs": [],
   "source": [
    "ufo.iloc[0:3, 1:3]"
   ]
  },
  {
   "cell_type": "markdown",
   "metadata": {},
   "source": [
    "## Categories and ordered categories\n",
    "\n",
    "For certain types of columns the data frame can be optimized by switching the type of a column (especially a column used in selection or grouping) into a category type."
   ]
  },
  {
   "cell_type": "code",
   "execution_count": null,
   "metadata": {
    "ExecuteTime": {
     "end_time": "2021-03-11T13:50:56.737390Z",
     "start_time": "2021-03-11T13:50:50.657224Z"
    }
   },
   "outputs": [],
   "source": [
    "drinks = pd.read_csv('https://bit.ly/drinksbycountry')\n",
    "\n",
    "drinks.head()"
   ]
  },
  {
   "cell_type": "code",
   "execution_count": null,
   "metadata": {
    "ExecuteTime": {
     "end_time": "2021-03-11T13:51:05.947402Z",
     "start_time": "2021-03-11T13:51:05.919245Z"
    }
   },
   "outputs": [],
   "source": [
    "drinks.info()"
   ]
  },
  {
   "cell_type": "code",
   "execution_count": null,
   "metadata": {
    "ExecuteTime": {
     "end_time": "2021-03-11T13:52:03.097386Z",
     "start_time": "2021-03-11T13:52:03.075953Z"
    }
   },
   "outputs": [],
   "source": [
    "drinks.info(memory_usage='deep')"
   ]
  },
  {
   "cell_type": "code",
   "execution_count": null,
   "metadata": {
    "ExecuteTime": {
     "end_time": "2021-03-11T13:52:23.306520Z",
     "start_time": "2021-03-11T13:52:23.301108Z"
    }
   },
   "outputs": [],
   "source": [
    "drinks.continent.memory_usage(deep=True)"
   ]
  },
  {
   "cell_type": "code",
   "execution_count": null,
   "metadata": {
    "ExecuteTime": {
     "end_time": "2021-03-11T13:52:41.610675Z",
     "start_time": "2021-03-11T13:52:41.603918Z"
    }
   },
   "outputs": [],
   "source": [
    "drinks.continent"
   ]
  },
  {
   "cell_type": "code",
   "execution_count": null,
   "metadata": {
    "ExecuteTime": {
     "end_time": "2021-03-11T13:53:11.448291Z",
     "start_time": "2021-03-11T13:53:11.417334Z"
    }
   },
   "outputs": [],
   "source": [
    "drinks.continent = drinks.continent.astype('category')\n",
    "\n",
    "drinks.continent.memory_usage(deep=True)"
   ]
  },
  {
   "cell_type": "code",
   "execution_count": null,
   "metadata": {
    "ExecuteTime": {
     "end_time": "2021-03-11T13:54:02.401200Z",
     "start_time": "2021-03-11T13:54:02.376161Z"
    }
   },
   "outputs": [],
   "source": [
    "drinks.continent"
   ]
  },
  {
   "cell_type": "markdown",
   "metadata": {},
   "source": [
    "You can perform various operations on a category, just remember to access it via `cat` property."
   ]
  },
  {
   "cell_type": "code",
   "execution_count": null,
   "metadata": {
    "ExecuteTime": {
     "end_time": "2021-03-11T13:54:15.246235Z",
     "start_time": "2021-03-11T13:54:15.237657Z"
    }
   },
   "outputs": [],
   "source": [
    "drinks.continent.cat.codes"
   ]
  },
  {
   "cell_type": "code",
   "execution_count": null,
   "metadata": {
    "ExecuteTime": {
     "end_time": "2021-03-11T13:54:17.601886Z",
     "start_time": "2021-03-11T13:54:17.587825Z"
    }
   },
   "outputs": [],
   "source": [
    "drinks.continent.cat.as_ordered()"
   ]
  },
  {
   "cell_type": "markdown",
   "metadata": {},
   "source": [
    "Ordered category can be used to allow for logical sorting of rows."
   ]
  },
  {
   "cell_type": "code",
   "execution_count": null,
   "metadata": {
    "ExecuteTime": {
     "end_time": "2021-03-11T13:54:37.105651Z",
     "start_time": "2021-03-11T13:54:37.093806Z"
    }
   },
   "outputs": [],
   "source": [
    "df = pd.DataFrame({\n",
    "    'name': ['Mount Everest', 'Kilimanjaro', 'Rysy'],\n",
    "    'height': ['very high', 'high', 'low']\n",
    "})\n",
    "\n",
    "df"
   ]
  },
  {
   "cell_type": "code",
   "execution_count": null,
   "metadata": {
    "ExecuteTime": {
     "end_time": "2021-03-11T13:55:00.909490Z",
     "start_time": "2021-03-11T13:55:00.897306Z"
    }
   },
   "outputs": [],
   "source": [
    "df.sort_values('height')"
   ]
  },
  {
   "cell_type": "code",
   "execution_count": null,
   "metadata": {
    "ExecuteTime": {
     "end_time": "2021-03-11T13:56:03.774958Z",
     "start_time": "2021-03-11T13:56:03.757452Z"
    }
   },
   "outputs": [],
   "source": [
    "from pandas.api.types import CategoricalDtype\n",
    "\n",
    "heights = CategoricalDtype(categories=['low', 'high', 'very high'], ordered=True)\n",
    "\n",
    "df['height'] = df.height.astype(heights) "
   ]
  },
  {
   "cell_type": "code",
   "execution_count": null,
   "metadata": {
    "ExecuteTime": {
     "end_time": "2021-03-11T13:56:04.879828Z",
     "start_time": "2021-03-11T13:56:04.848946Z"
    }
   },
   "outputs": [],
   "source": [
    "df.sort_values('height')"
   ]
  },
  {
   "cell_type": "markdown",
   "metadata": {},
   "source": [
    "## Exercise\n",
    "\n",
    "1. Change the index of the `titanic` dataframe to the ticket number\n",
    "2. Change the `Pclass` attribute into a category. "
   ]
  },
  {
   "cell_type": "markdown",
   "metadata": {},
   "source": [
    "## Creating binary variables from categorical columns\n",
    "\n",
    "Often in data mining we want to binarize categorical features. One of the most common encodings is the dummy encoding, where a feature with `n` values is turned into `n-1` binary columns"
   ]
  },
  {
   "cell_type": "code",
   "execution_count": null,
   "metadata": {
    "ExecuteTime": {
     "end_time": "2021-03-11T13:56:38.859663Z",
     "start_time": "2021-03-11T13:56:37.199738Z"
    }
   },
   "outputs": [],
   "source": [
    "ufo = pd.read_csv('https://bit.ly/uforeports')\n",
    "\n",
    "ufo.head()"
   ]
  },
  {
   "cell_type": "code",
   "execution_count": null,
   "metadata": {
    "ExecuteTime": {
     "end_time": "2021-03-11T13:57:04.349659Z",
     "start_time": "2021-03-11T13:57:04.319224Z"
    }
   },
   "outputs": [],
   "source": [
    "ufo.State.map({'NY': 'New York', 'NJ': 'New Jersey', 'CO': 'Colorado'})"
   ]
  },
  {
   "cell_type": "code",
   "execution_count": null,
   "metadata": {
    "ExecuteTime": {
     "end_time": "2021-03-11T13:58:18.886008Z",
     "start_time": "2021-03-11T13:58:18.854336Z"
    }
   },
   "outputs": [],
   "source": [
    "pd.get_dummies(ufo.State)"
   ]
  },
  {
   "cell_type": "code",
   "execution_count": null,
   "metadata": {
    "ExecuteTime": {
     "end_time": "2021-03-11T13:58:43.198537Z",
     "start_time": "2021-03-11T13:58:43.146353Z"
    }
   },
   "outputs": [],
   "source": [
    "pd.get_dummies(ufo.State, prefix='state')"
   ]
  },
  {
   "cell_type": "code",
   "execution_count": null,
   "metadata": {
    "ExecuteTime": {
     "end_time": "2021-03-11T11:17:15.704705Z",
     "start_time": "2021-03-11T11:17:15.681894Z"
    }
   },
   "outputs": [],
   "source": [
    "pd.get_dummies(ufo.State, prefix='state').sum(axis=0)"
   ]
  },
  {
   "cell_type": "code",
   "execution_count": null,
   "metadata": {
    "ExecuteTime": {
     "end_time": "2021-03-11T11:17:26.911909Z",
     "start_time": "2021-03-11T11:17:26.896132Z"
    }
   },
   "outputs": [],
   "source": [
    "pd.get_dummies(ufo.State, prefix='state').sum(axis=1)"
   ]
  },
  {
   "cell_type": "code",
   "execution_count": null,
   "metadata": {
    "ExecuteTime": {
     "end_time": "2021-03-11T13:59:46.122875Z",
     "start_time": "2021-03-11T13:59:46.111370Z"
    }
   },
   "outputs": [],
   "source": [
    "df = pd.DataFrame({'gender': ['M', 'F', 'F', 'M', 'F', 'M', 'N', 'N']})\n",
    "df"
   ]
  },
  {
   "cell_type": "code",
   "execution_count": null,
   "metadata": {
    "ExecuteTime": {
     "end_time": "2021-03-11T13:59:51.409886Z",
     "start_time": "2021-03-11T13:59:51.390526Z"
    }
   },
   "outputs": [],
   "source": [
    "pd.get_dummies(df.gender)"
   ]
  },
  {
   "cell_type": "code",
   "execution_count": null,
   "metadata": {
    "ExecuteTime": {
     "end_time": "2021-03-11T14:00:00.790876Z",
     "start_time": "2021-03-11T14:00:00.773688Z"
    }
   },
   "outputs": [],
   "source": [
    "pd.get_dummies(df.gender, drop_first=True)"
   ]
  },
  {
   "cell_type": "markdown",
   "metadata": {},
   "source": [
    "## Display options \n",
    "\n",
    "The way `pandas` dataframes are displayed insied a notebook can be modified by accessing display options. Two functions are handy for that:\n",
    "- `get_option()`: check the current setting\n",
    "- `set_option()`: modify the current setting\n",
    "\n",
    "Let's change the following settings:\n",
    "- the number of rows displayed\n",
    "- the precision of floats\n",
    "- the maximum width of a column"
   ]
  },
  {
   "cell_type": "code",
   "execution_count": null,
   "metadata": {
    "ExecuteTime": {
     "end_time": "2021-03-11T11:21:25.503941Z",
     "start_time": "2021-03-11T11:21:24.625563Z"
    }
   },
   "outputs": [],
   "source": [
    "movies = pd.read_csv('https://bit.ly/imdbratings')\n",
    "\n",
    "movies.head()"
   ]
  },
  {
   "cell_type": "code",
   "execution_count": null,
   "metadata": {
    "ExecuteTime": {
     "end_time": "2021-03-11T11:25:14.731517Z",
     "start_time": "2021-03-11T11:25:14.726686Z"
    }
   },
   "outputs": [],
   "source": [
    "pd.set_option('display.max_rows', None)\n",
    "pd.set_option('display.precision', 0)\n",
    "pd.set_option('display.max_colwidth', 25)"
   ]
  },
  {
   "cell_type": "code",
   "execution_count": null,
   "metadata": {
    "ExecuteTime": {
     "end_time": "2021-03-11T11:25:17.411724Z",
     "start_time": "2021-03-11T11:25:17.220014Z"
    }
   },
   "outputs": [],
   "source": [
    "movies"
   ]
  },
  {
   "cell_type": "code",
   "execution_count": null,
   "metadata": {
    "ExecuteTime": {
     "end_time": "2021-03-11T11:25:37.535511Z",
     "start_time": "2021-03-11T11:25:37.531446Z"
    }
   },
   "outputs": [],
   "source": [
    "pd.reset_option('display.max_rows')\n",
    "pd.reset_option('display.precision')\n",
    "pd.reset_option('display.max_colwidth')"
   ]
  },
  {
   "cell_type": "markdown",
   "metadata": {},
   "source": [
    "## Applying functions to data frame columns\n",
    "\n",
    "We can easily apply functions to data frame columns on the fly, or create new columns as the result of applying a function to an existing column. We've seen this behavior before. Two of the most common ways to do it are the `map()` function and the `apply()` function."
   ]
  },
  {
   "cell_type": "code",
   "execution_count": null,
   "metadata": {
    "ExecuteTime": {
     "end_time": "2021-03-11T14:00:45.143182Z",
     "start_time": "2021-03-11T14:00:33.240708Z"
    }
   },
   "outputs": [],
   "source": [
    "drinks = pd.read_csv('https://bit.ly/drinksbycountry')\n",
    "\n",
    "drinks.head()"
   ]
  },
  {
   "cell_type": "code",
   "execution_count": null,
   "metadata": {
    "ExecuteTime": {
     "end_time": "2021-03-11T14:00:50.275856Z",
     "start_time": "2021-03-11T14:00:50.265678Z"
    }
   },
   "outputs": [],
   "source": [
    "drinks.country.str.lower()"
   ]
  },
  {
   "cell_type": "code",
   "execution_count": null,
   "metadata": {},
   "outputs": [],
   "source": [
    "lst = list(range(10))"
   ]
  },
  {
   "cell_type": "code",
   "execution_count": null,
   "metadata": {},
   "outputs": [],
   "source": [
    "import numpy as np\n",
    "\n",
    "list(map(lambda x: x**2, lst))"
   ]
  },
  {
   "cell_type": "code",
   "execution_count": null,
   "metadata": {
    "ExecuteTime": {
     "end_time": "2021-03-11T14:01:12.879369Z",
     "start_time": "2021-03-11T14:01:12.869117Z"
    }
   },
   "outputs": [],
   "source": [
    "drinks.country.map(str.lower)"
   ]
  },
  {
   "cell_type": "code",
   "execution_count": null,
   "metadata": {
    "ExecuteTime": {
     "end_time": "2021-03-11T14:03:47.302649Z",
     "start_time": "2021-03-11T14:03:47.288398Z"
    }
   },
   "outputs": [],
   "source": [
    "def get_serious_drinkers(total_alcohol: float) -> bool:\n",
    "    if total_alcohol >= 10.0:\n",
    "        return True\n",
    "    else:\n",
    "        return False"
   ]
  },
  {
   "cell_type": "code",
   "execution_count": null,
   "metadata": {},
   "outputs": [],
   "source": [
    "drinks.total_litres_of_pure_alcohol.apply(get_serious_drinkers)"
   ]
  },
  {
   "cell_type": "code",
   "execution_count": null,
   "metadata": {
    "ExecuteTime": {
     "end_time": "2021-03-11T14:04:42.095800Z",
     "start_time": "2021-03-11T14:04:42.089527Z"
    }
   },
   "outputs": [],
   "source": [
    "drinks['heavy_drinkers'] = drinks.total_litres_of_pure_alcohol.apply(get_serious_drinkers)"
   ]
  },
  {
   "cell_type": "code",
   "execution_count": null,
   "metadata": {
    "ExecuteTime": {
     "end_time": "2021-03-11T14:04:45.744618Z",
     "start_time": "2021-03-11T14:04:45.726939Z"
    }
   },
   "outputs": [],
   "source": [
    "drinks[drinks.heavy_drinkers]"
   ]
  },
  {
   "cell_type": "code",
   "execution_count": null,
   "metadata": {
    "ExecuteTime": {
     "end_time": "2021-03-11T14:06:45.376400Z",
     "start_time": "2021-03-11T14:06:45.346989Z"
    }
   },
   "outputs": [],
   "source": [
    "drinks.total_litres_of_pure_alcohol.apply(lambda x: True if x > 10 else False )"
   ]
  },
  {
   "cell_type": "markdown",
   "metadata": {},
   "source": [
    "Instead of writing a separate function, many people prefer to use anonymous lambda funciton instead. What you see below is a very common pattern for `pandas` processing."
   ]
  },
  {
   "cell_type": "code",
   "execution_count": null,
   "metadata": {
    "ExecuteTime": {
     "end_time": "2021-03-11T14:07:31.170536Z",
     "start_time": "2021-03-11T14:07:31.146925Z"
    }
   },
   "outputs": [],
   "source": [
    "drinks['country_initial'] = drinks.country.apply(lambda x: x[0])\n",
    "\n",
    "drinks.head(20)"
   ]
  },
  {
   "cell_type": "markdown",
   "metadata": {},
   "source": [
    "If the function takes long to apply, it makes sense to start monitoring the progress via `tqdm`"
   ]
  },
  {
   "cell_type": "code",
   "execution_count": null,
   "metadata": {},
   "outputs": [],
   "source": [
    "import time\n",
    "from tqdm import tqdm\n",
    "\n",
    "tqdm.pandas()\n",
    "\n",
    "def dummy_func(x):\n",
    "    time.sleep(0.1)\n",
    "    return x\n",
    "\n",
    "drinks.total_litres_of_pure_alcohol.progress_apply(dummy_func)"
   ]
  },
  {
   "cell_type": "markdown",
   "metadata": {},
   "source": [
    "Sometimes, we want to apply a min/max function to a set of columns and find which column produces the result. This can be achieved using the `idxmax` function."
   ]
  },
  {
   "cell_type": "code",
   "execution_count": null,
   "metadata": {
    "ExecuteTime": {
     "end_time": "2021-03-11T14:07:54.965933Z",
     "start_time": "2021-03-11T14:07:54.953063Z"
    }
   },
   "outputs": [],
   "source": [
    "drinks.loc[:, 'beer_servings':'wine_servings']"
   ]
  },
  {
   "cell_type": "code",
   "execution_count": null,
   "metadata": {
    "ExecuteTime": {
     "end_time": "2021-03-11T14:08:07.517835Z",
     "start_time": "2021-03-11T14:08:07.476380Z"
    }
   },
   "outputs": [],
   "source": [
    "drinks.loc[:, 'beer_servings':'wine_servings'].apply(max, axis=1)"
   ]
  },
  {
   "cell_type": "code",
   "execution_count": null,
   "metadata": {
    "ExecuteTime": {
     "end_time": "2021-03-11T14:08:50.808176Z",
     "start_time": "2021-03-11T14:08:50.798260Z"
    }
   },
   "outputs": [],
   "source": [
    "drinks.loc[:, 'beer_servings':'wine_servings'].idxmax(axis=1)"
   ]
  },
  {
   "cell_type": "markdown",
   "metadata": {},
   "source": [
    "## Exercise\n",
    "\n",
    "1. Create a new column which contains the age each of the passengers would have had today (Titanic sunk in 1912)\n",
    "2. Create a new column with the string value *survived* or *died* for each passenger\n",
    "3. Create a new column `Deck` containig the symbol of the deck on which the passenger was travelling (the first letter of the cabin number)"
   ]
  },
  {
   "cell_type": "markdown",
   "metadata": {},
   "source": [
    "## Joining data frames\n",
    "\n",
    "There are multiple methods to join data frames, but we will focus on only two methods and forget about the rest:\n",
    "- `pd.concat`: joins data frames vertically or horizontally\n",
    "- `pd.merge`: performs database-like inner, outer, left, and right-joins based on an index or a column"
   ]
  },
  {
   "cell_type": "code",
   "execution_count": null,
   "metadata": {
    "ExecuteTime": {
     "end_time": "2021-03-11T11:54:27.023947Z",
     "start_time": "2021-03-11T11:54:27.014070Z"
    }
   },
   "outputs": [],
   "source": [
    "cities = pd.DataFrame({\n",
    "    'country': ['Germany', 'Germany', 'Poland', 'Poland', 'Russia', 'Russia'],\n",
    "    'city': ['Berlin', 'Munich', 'Warsaw', 'Cracow', 'Moscow', 'St Petersburg'],\n",
    "    'is_capital': [True, False, True, False, True, False]\n",
    "})\n",
    "\n",
    "banks = pd.DataFrame({\n",
    "    'country': ['Germany', 'Germany', 'Poland', 'France', 'France'],\n",
    "    'name': ['Deutsche Bank', 'Commerzbank', 'Santander', 'Credit Agricole', 'BNP Paribas']\n",
    "    \n",
    "})"
   ]
  },
  {
   "cell_type": "code",
   "execution_count": null,
   "metadata": {
    "ExecuteTime": {
     "end_time": "2021-03-11T11:54:28.214341Z",
     "start_time": "2021-03-11T11:54:28.202039Z"
    }
   },
   "outputs": [],
   "source": [
    "pd.concat([cities, banks], axis=0)"
   ]
  },
  {
   "cell_type": "code",
   "execution_count": null,
   "metadata": {
    "ExecuteTime": {
     "end_time": "2021-03-11T11:54:29.589876Z",
     "start_time": "2021-03-11T11:54:29.576899Z"
    }
   },
   "outputs": [],
   "source": [
    "pd.concat([cities, banks], axis=1)"
   ]
  },
  {
   "cell_type": "code",
   "execution_count": null,
   "metadata": {
    "ExecuteTime": {
     "end_time": "2021-03-11T11:54:41.367601Z",
     "start_time": "2021-03-11T11:54:41.348748Z"
    }
   },
   "outputs": [],
   "source": [
    "pd.merge(cities, banks)"
   ]
  },
  {
   "cell_type": "code",
   "execution_count": null,
   "metadata": {
    "ExecuteTime": {
     "end_time": "2021-03-11T11:55:21.818218Z",
     "start_time": "2021-03-11T11:55:21.802449Z"
    }
   },
   "outputs": [],
   "source": [
    "banks.columns = ['country_name', 'bank_name']\n",
    "\n",
    "pd.merge(cities, banks)"
   ]
  },
  {
   "cell_type": "code",
   "execution_count": null,
   "metadata": {
    "ExecuteTime": {
     "end_time": "2021-03-11T11:56:03.116676Z",
     "start_time": "2021-03-11T11:56:03.100183Z"
    }
   },
   "outputs": [],
   "source": [
    "pd.merge(cities, banks, left_on='country', right_on='country_name')"
   ]
  },
  {
   "cell_type": "code",
   "execution_count": null,
   "metadata": {
    "ExecuteTime": {
     "end_time": "2021-03-11T12:00:07.528835Z",
     "start_time": "2021-03-11T12:00:07.513433Z"
    }
   },
   "outputs": [],
   "source": [
    "cities.set_index('country', inplace=True)\n",
    "banks.set_index('country_name', inplace=True)\n",
    "\n",
    "pd.merge(cities, banks, left_index=True, right_index=True)"
   ]
  },
  {
   "cell_type": "code",
   "execution_count": null,
   "metadata": {
    "ExecuteTime": {
     "end_time": "2021-03-11T12:00:17.651411Z",
     "start_time": "2021-03-11T12:00:17.639359Z"
    }
   },
   "outputs": [],
   "source": [
    "pd.merge(cities, banks, left_index=True, right_index=True, how='inner')"
   ]
  },
  {
   "cell_type": "code",
   "execution_count": null,
   "metadata": {
    "ExecuteTime": {
     "end_time": "2021-03-11T12:00:20.422163Z",
     "start_time": "2021-03-11T12:00:20.389535Z"
    }
   },
   "outputs": [],
   "source": [
    "pd.merge(cities, banks, left_index=True, right_index=True, how='left')"
   ]
  },
  {
   "cell_type": "code",
   "execution_count": null,
   "metadata": {
    "ExecuteTime": {
     "end_time": "2021-03-11T12:00:26.659976Z",
     "start_time": "2021-03-11T12:00:26.637860Z"
    }
   },
   "outputs": [],
   "source": [
    "pd.merge(cities, banks, left_index=True, right_index=True, how='right')"
   ]
  },
  {
   "cell_type": "code",
   "execution_count": null,
   "metadata": {
    "ExecuteTime": {
     "end_time": "2021-03-11T12:01:00.278210Z",
     "start_time": "2021-03-11T12:01:00.261335Z"
    }
   },
   "outputs": [],
   "source": [
    "pd.merge(cities, banks, left_index=True, right_index=True, how='outer')"
   ]
  },
  {
   "cell_type": "markdown",
   "metadata": {},
   "source": [
    "## Using pipes for data processing\n",
    "\n",
    "The most pythonic way of performing a sequence of operations is to chain operators. However, this may not result in the most readable code. A simple library called `pipe` solves this problem by borrowing the chaining syntax from R.\n",
    "\n",
    "Before observing `pipe` in action, let us first analyze the behavior of traditional `map()` and `filter()` functions."
   ]
  },
  {
   "cell_type": "code",
   "execution_count": null,
   "metadata": {},
   "outputs": [],
   "source": [
    "numbers = list(range(10))\n",
    "\n",
    "even_numbers = list(filter(lambda x: x % 2 == 0, numbers))\n",
    "even_numbers"
   ]
  },
  {
   "cell_type": "code",
   "execution_count": null,
   "metadata": {},
   "outputs": [],
   "source": [
    "squares = list(map(lambda x: x**2, numbers))\n",
    "squares"
   ]
  },
  {
   "cell_type": "code",
   "execution_count": null,
   "metadata": {},
   "outputs": [],
   "source": [
    "def square(x): return x**2\n",
    "def is_even(x): return x % 2 == 0\n",
    "\n",
    "squares_of_even_numbers = list(map(square, filter(is_even, numbers)))\n",
    "\n",
    "squares_of_even_numbers"
   ]
  },
  {
   "cell_type": "markdown",
   "metadata": {},
   "source": [
    "The same functionality can be much easier achieved using pipes."
   ]
  },
  {
   "cell_type": "code",
   "execution_count": null,
   "metadata": {},
   "outputs": [],
   "source": [
    "from pipe import where, select\n",
    "\n",
    "list(numbers \n",
    "     | where(is_even)\n",
    "     | select(square)\n",
    "    )"
   ]
  },
  {
   "cell_type": "markdown",
   "metadata": {},
   "source": [
    "pipe operator `|` simply passes the output of one function as the input to another function. The remaining functions perform the following:\n",
    "- `where`: filter out only those element of the iterable which fulfill the condition\n",
    "- `select`: applies a function to each element of the iterable\n",
    "- `traverse`: recursively unchain a sequence of iterables\n",
    "- `groupby`: groups elements of an iterable \n",
    "- `dedup`: removes duplicates from an iterable"
   ]
  },
  {
   "cell_type": "code",
   "execution_count": null,
   "metadata": {},
   "outputs": [],
   "source": [
    "from pipe import dedup\n",
    "\n",
    "numbers = [1, 2, 3, 4, 5] * 3\n",
    "\n",
    "print(f\"Before deduplication: {numbers}\")\n",
    "print(f\"After deduplication: {list(numbers | dedup)}\")"
   ]
  },
  {
   "cell_type": "code",
   "execution_count": null,
   "metadata": {},
   "outputs": [],
   "source": [
    "from pipe import traverse\n",
    "\n",
    "nested_numbers = [1, 2, 3, [4, 5], [6, 7], 8, [9, 0]]\n",
    "\n",
    "print(f\"Unnested numbers: {list(nested_numbers | traverse)}\")"
   ]
  },
  {
   "cell_type": "code",
   "execution_count": null,
   "metadata": {},
   "outputs": [],
   "source": [
    "from pipe import groupby\n",
    "\n",
    "numbers = list(range(10))\n",
    "\n",
    "even_odd_numbers = list(\n",
    "    numbers \n",
    "    | groupby(lambda x: \"even\" if x % 2 == 0 else \"odd\") \n",
    "    | select(lambda x: {x[0]: list(x[1])})\n",
    "    )\n",
    "    \n",
    "print(f\"Even and odd numbers: {even_odd_numbers}\")"
   ]
  },
  {
   "cell_type": "markdown",
   "metadata": {},
   "source": [
    "## Exercise\n",
    "\n",
    "Using pipes, perform the following queries:\n",
    "\n",
    "1. List unique ages of women who survived the sinking\n",
    "2. Compute the mean age of passengers based on the port of embarkment\n",
    "3. Create a list of titles (Mr., Mrs., etc.) and last names of passengers who died.\n",
    "\n",
    "---"
   ]
  },
  {
   "cell_type": "markdown",
   "metadata": {},
   "source": [
    "## PyJanitor\n",
    "\n",
    "`pyjanitor` is the Python implementation of the `R` package `janitor`. It provides a very clean and coherent API to perform data cleaning and data transformation. Current functionality include:\n",
    "- Cleaning columns name (multi-indexes are possible!)\n",
    "- Removing empty rows and columns\n",
    "- Identifying duplicate entries\n",
    "- Encoding columns as categorical\n",
    "- Splitting your data into features and targets (for machine learning)\n",
    "- Adding, removing, and renaming columns\n",
    "- Coalesce multiple columns into a single column\n",
    "- Date conversions (from matlab, excel, unix) to Python datetime format\n",
    "- Expand a single column that has delimited, categorical values into dummy-encoded variables\n",
    "- Concatenating and deconcatenating columns, based on a delimiter\n",
    "- Syntactic sugar for filtering the dataframe based on queries on a column\n",
    "- Experimental submodules for finance, biology, chemistry, engineering, and pyspark\n",
    "\n",
    "For full API documentation check the [project website](https://pyjanitor-devs.github.io/pyjanitor/)\n",
    "\n",
    "Below is just a quick presentation of the idea behind the package"
   ]
  },
  {
   "cell_type": "code",
   "execution_count": null,
   "metadata": {},
   "outputs": [],
   "source": [
    "import janitor\n",
    "import numpy as np\n",
    "\n",
    "dirty_df = {\n",
    "    'column with bad name': ['a', 'b', 'c', 'd'],\n",
    "    'column_duplicate': [150.0, 200.0, 300.0, 400.0],\n",
    "    'column_duplicate': [180.0, 250.0, 900, 500.0],\n",
    "    'column_empty': [np.nan, np.nan, np.nan, np.nan],\n",
    "    'rename_later': [8, 2, 5, 4],\n",
    "    'column_constant': [1, 1, 1, 1]\n",
    "}\n"
   ]
  },
  {
   "cell_type": "code",
   "execution_count": null,
   "metadata": {},
   "outputs": [],
   "source": [
    "pd.DataFrame.from_dict(dirty_df).clean_names().remove_empty().rename_column(\n",
    "    \"rename_later\", \"column_renamed\"\n",
    ").sort_naturally(\"column_renamed\").min_max_scale(\n",
    "    feature_range=(0, 1), column_name=\"column_duplicate\"\n",
    ").drop_constant_columns()"
   ]
  },
  {
   "cell_type": "markdown",
   "metadata": {},
   "source": [
    "You can even add your own cleaning functions with ease"
   ]
  },
  {
   "cell_type": "code",
   "execution_count": null,
   "metadata": {},
   "outputs": [],
   "source": [
    "import pandas_flavor as pf\n",
    "\n",
    "\n",
    "@pf.register_dataframe_method\n",
    "def make_lower(df, col_name):\n",
    "    df[col_name] = df[col_name].str.lower()\n",
    "    \n",
    "    return df"
   ]
  },
  {
   "cell_type": "code",
   "execution_count": null,
   "metadata": {},
   "outputs": [],
   "source": [
    "df_with_uppercase = pd.DataFrame.from_dict(\n",
    "{\n",
    "    'col_lower': ['mary', 'had', 'a', 'little', 'lamb'],\n",
    "    'col_upper': ['MARY', 'HAD', 'A', 'LITTLE', 'LAMB']\n",
    "})\n",
    "\n",
    "df_with_uppercase"
   ]
  },
  {
   "cell_type": "code",
   "execution_count": null,
   "metadata": {},
   "outputs": [],
   "source": [
    "df_with_uppercase.make_lower('col_upper')"
   ]
  },
  {
   "cell_type": "markdown",
   "metadata": {},
   "source": [
    "# Homework \n",
    "\n",
    "During the exercise you will be using the data from the 1987 National Indonesia Contraceptive Prevalence Survey. The detailed description of the dataset can be found at [UCI ML Repository website](https://archive.ics.uci.edu/ml/datasets/Contraceptive+Method+Choice). Read the raw data from the following URL: [https://archive.ics.uci.edu/ml/machine-learning-databases/cmc/cmc.data](https://archive.ics.uci.edu/ml/machine-learning-databases/cmc/cmc.data)\n",
    "\n",
    "Your tasks are as follows:\n",
    "\n",
    "- Identify the format of the raw data and read it into a dataframe correctly. Remember to provide a list of meaningful attribute names\n",
    "- Normalize the `Age` attribute\n",
    "- Remove the column containing the information about religion\n",
    "- Create a second dataframe containig only women with highest degree of education\n",
    "- Recode the `Wife working now` attribute, changing 0 to 'no' and 1 to 'yes'\n",
    "- Compute the frequency of contraceptive methods grouping by the woman's education level\n",
    "- Create a new column which will contain the average degree of education between a wife and a husband\n",
    "- Create a new binary column which will indicate if a given woman has given birth to more than the average number of children\n",
    "- Change `Standard of living` column into an ordered category\n",
    "- Recode `Wife's education` attribute into a set of binary attributes using dummy variables\n",
    "- Plot the histogram of the number of children\n",
    "- Plot the bar chart of the standard of living\n",
    "\n",
    "Save your notebook as *firstname.lastname.ipynb* and upload it to [the shared folder](https://drive.google.com/drive/folders/1ndFqSdZ7evS5KdplDsZN7vr7xfMA_Aw_?usp=sharing). The deadline for submitting your solutions is **Sunday, March 31, 21:00**. For this assignement you can get the maximum of **10 pts**.\n"
   ]
  },
  {
   "cell_type": "code",
   "execution_count": 1,
   "outputs": [],
   "source": [
    "import pandas as pd"
   ],
   "metadata": {
    "collapsed": false,
    "ExecuteTime": {
     "end_time": "2024-03-15T06:42:39.687208700Z",
     "start_time": "2024-03-15T06:42:37.325285400Z"
    }
   }
  },
  {
   "cell_type": "code",
   "execution_count": 2,
   "outputs": [
    {
     "data": {
      "text/plain": "   wife_age  wife_edu  husband_edu  num_children  wife_religion  wife_working  \\\n0        24         2            3             3              1             1   \n1        45         1            3            10              1             1   \n2        43         2            3             7              1             1   \n3        42         3            2             9              1             1   \n4        36         3            3             8              1             1   \n\n   husband_occupation  standard_of_living_index  media_exposure  \\\n0                   2                         3               0   \n1                   3                         4               0   \n2                   3                         4               0   \n3                   3                         3               0   \n4                   3                         2               0   \n\n   contraceptive_method  \n0                     1  \n1                     1  \n2                     1  \n3                     1  \n4                     1  ",
      "text/html": "<div>\n<style scoped>\n    .dataframe tbody tr th:only-of-type {\n        vertical-align: middle;\n    }\n\n    .dataframe tbody tr th {\n        vertical-align: top;\n    }\n\n    .dataframe thead th {\n        text-align: right;\n    }\n</style>\n<table border=\"1\" class=\"dataframe\">\n  <thead>\n    <tr style=\"text-align: right;\">\n      <th></th>\n      <th>wife_age</th>\n      <th>wife_edu</th>\n      <th>husband_edu</th>\n      <th>num_children</th>\n      <th>wife_religion</th>\n      <th>wife_working</th>\n      <th>husband_occupation</th>\n      <th>standard_of_living_index</th>\n      <th>media_exposure</th>\n      <th>contraceptive_method</th>\n    </tr>\n  </thead>\n  <tbody>\n    <tr>\n      <th>0</th>\n      <td>24</td>\n      <td>2</td>\n      <td>3</td>\n      <td>3</td>\n      <td>1</td>\n      <td>1</td>\n      <td>2</td>\n      <td>3</td>\n      <td>0</td>\n      <td>1</td>\n    </tr>\n    <tr>\n      <th>1</th>\n      <td>45</td>\n      <td>1</td>\n      <td>3</td>\n      <td>10</td>\n      <td>1</td>\n      <td>1</td>\n      <td>3</td>\n      <td>4</td>\n      <td>0</td>\n      <td>1</td>\n    </tr>\n    <tr>\n      <th>2</th>\n      <td>43</td>\n      <td>2</td>\n      <td>3</td>\n      <td>7</td>\n      <td>1</td>\n      <td>1</td>\n      <td>3</td>\n      <td>4</td>\n      <td>0</td>\n      <td>1</td>\n    </tr>\n    <tr>\n      <th>3</th>\n      <td>42</td>\n      <td>3</td>\n      <td>2</td>\n      <td>9</td>\n      <td>1</td>\n      <td>1</td>\n      <td>3</td>\n      <td>3</td>\n      <td>0</td>\n      <td>1</td>\n    </tr>\n    <tr>\n      <th>4</th>\n      <td>36</td>\n      <td>3</td>\n      <td>3</td>\n      <td>8</td>\n      <td>1</td>\n      <td>1</td>\n      <td>3</td>\n      <td>2</td>\n      <td>0</td>\n      <td>1</td>\n    </tr>\n  </tbody>\n</table>\n</div>"
     },
     "execution_count": 2,
     "metadata": {},
     "output_type": "execute_result"
    }
   ],
   "source": [
    "data = pd.read_csv('cmc.csv', header=None) # do poprawy\n",
    "\n",
    "data.columns = ['wife_age', 'wife_edu', 'husband_edu', 'num_children', 'wife_religion', 'wife_working', 'husband_occupation', 'standard_of_living_index', 'media_exposure', 'contraceptive_method']\n",
    "data.drop('wife_religion', axis=1)\n",
    "data.head()"
   ],
   "metadata": {
    "collapsed": false,
    "ExecuteTime": {
     "end_time": "2024-03-15T06:42:39.843464300Z",
     "start_time": "2024-03-15T06:42:39.687208700Z"
    }
   }
  },
  {
   "cell_type": "code",
   "execution_count": 3,
   "outputs": [
    {
     "data": {
      "text/plain": "   wife_age  wife_edu  husband_edu  num_children  wife_religion  wife_working  \\\n0  0.242424         2            3             3              1             1   \n1  0.878788         1            3            10              1             1   \n2  0.818182         2            3             7              1             1   \n3  0.787879         3            2             9              1             1   \n4  0.606061         3            3             8              1             1   \n\n   husband_occupation  standard_of_living_index  media_exposure  \\\n0                   2                         3               0   \n1                   3                         4               0   \n2                   3                         4               0   \n3                   3                         3               0   \n4                   3                         2               0   \n\n   contraceptive_method  \n0                     1  \n1                     1  \n2                     1  \n3                     1  \n4                     1  ",
      "text/html": "<div>\n<style scoped>\n    .dataframe tbody tr th:only-of-type {\n        vertical-align: middle;\n    }\n\n    .dataframe tbody tr th {\n        vertical-align: top;\n    }\n\n    .dataframe thead th {\n        text-align: right;\n    }\n</style>\n<table border=\"1\" class=\"dataframe\">\n  <thead>\n    <tr style=\"text-align: right;\">\n      <th></th>\n      <th>wife_age</th>\n      <th>wife_edu</th>\n      <th>husband_edu</th>\n      <th>num_children</th>\n      <th>wife_religion</th>\n      <th>wife_working</th>\n      <th>husband_occupation</th>\n      <th>standard_of_living_index</th>\n      <th>media_exposure</th>\n      <th>contraceptive_method</th>\n    </tr>\n  </thead>\n  <tbody>\n    <tr>\n      <th>0</th>\n      <td>0.242424</td>\n      <td>2</td>\n      <td>3</td>\n      <td>3</td>\n      <td>1</td>\n      <td>1</td>\n      <td>2</td>\n      <td>3</td>\n      <td>0</td>\n      <td>1</td>\n    </tr>\n    <tr>\n      <th>1</th>\n      <td>0.878788</td>\n      <td>1</td>\n      <td>3</td>\n      <td>10</td>\n      <td>1</td>\n      <td>1</td>\n      <td>3</td>\n      <td>4</td>\n      <td>0</td>\n      <td>1</td>\n    </tr>\n    <tr>\n      <th>2</th>\n      <td>0.818182</td>\n      <td>2</td>\n      <td>3</td>\n      <td>7</td>\n      <td>1</td>\n      <td>1</td>\n      <td>3</td>\n      <td>4</td>\n      <td>0</td>\n      <td>1</td>\n    </tr>\n    <tr>\n      <th>3</th>\n      <td>0.787879</td>\n      <td>3</td>\n      <td>2</td>\n      <td>9</td>\n      <td>1</td>\n      <td>1</td>\n      <td>3</td>\n      <td>3</td>\n      <td>0</td>\n      <td>1</td>\n    </tr>\n    <tr>\n      <th>4</th>\n      <td>0.606061</td>\n      <td>3</td>\n      <td>3</td>\n      <td>8</td>\n      <td>1</td>\n      <td>1</td>\n      <td>3</td>\n      <td>2</td>\n      <td>0</td>\n      <td>1</td>\n    </tr>\n  </tbody>\n</table>\n</div>"
     },
     "execution_count": 3,
     "metadata": {},
     "output_type": "execute_result"
    }
   ],
   "source": [
    "data.wife_age = (data['wife_age'] - data['wife_age'].min()) / (data['wife_age'].max() - data['wife_age'].min())\n",
    "data.head()\n",
    "    "
   ],
   "metadata": {
    "collapsed": false,
    "ExecuteTime": {
     "end_time": "2024-03-15T06:42:39.843464300Z",
     "start_time": "2024-03-15T06:42:39.749713900Z"
    }
   }
  },
  {
   "cell_type": "code",
   "execution_count": 5,
   "outputs": [
    {
     "data": {
      "text/plain": "    wife_age  wife_edu  husband_edu  num_children  wife_religion  \\\n5   0.090909         4            4             0              1   \n12  0.848485         4            4             1              1   \n22  0.909091         4            4             1              0   \n23  0.696970         4            4             1              1   \n24  0.969697         4            4             5              1   \n\n    wife_working  husband_occupation  standard_of_living_index  \\\n5              1                   3                         3   \n12             0                   1                         4   \n22             1                   1                         4   \n23             1                   1                         4   \n24             1                   1                         4   \n\n    media_exposure  contraceptive_method  \n5                0                     1  \n12               0                     1  \n22               0                     1  \n23               0                     1  \n24               0                     1  ",
      "text/html": "<div>\n<style scoped>\n    .dataframe tbody tr th:only-of-type {\n        vertical-align: middle;\n    }\n\n    .dataframe tbody tr th {\n        vertical-align: top;\n    }\n\n    .dataframe thead th {\n        text-align: right;\n    }\n</style>\n<table border=\"1\" class=\"dataframe\">\n  <thead>\n    <tr style=\"text-align: right;\">\n      <th></th>\n      <th>wife_age</th>\n      <th>wife_edu</th>\n      <th>husband_edu</th>\n      <th>num_children</th>\n      <th>wife_religion</th>\n      <th>wife_working</th>\n      <th>husband_occupation</th>\n      <th>standard_of_living_index</th>\n      <th>media_exposure</th>\n      <th>contraceptive_method</th>\n    </tr>\n  </thead>\n  <tbody>\n    <tr>\n      <th>5</th>\n      <td>0.090909</td>\n      <td>4</td>\n      <td>4</td>\n      <td>0</td>\n      <td>1</td>\n      <td>1</td>\n      <td>3</td>\n      <td>3</td>\n      <td>0</td>\n      <td>1</td>\n    </tr>\n    <tr>\n      <th>12</th>\n      <td>0.848485</td>\n      <td>4</td>\n      <td>4</td>\n      <td>1</td>\n      <td>1</td>\n      <td>0</td>\n      <td>1</td>\n      <td>4</td>\n      <td>0</td>\n      <td>1</td>\n    </tr>\n    <tr>\n      <th>22</th>\n      <td>0.909091</td>\n      <td>4</td>\n      <td>4</td>\n      <td>1</td>\n      <td>0</td>\n      <td>1</td>\n      <td>1</td>\n      <td>4</td>\n      <td>0</td>\n      <td>1</td>\n    </tr>\n    <tr>\n      <th>23</th>\n      <td>0.696970</td>\n      <td>4</td>\n      <td>4</td>\n      <td>1</td>\n      <td>1</td>\n      <td>1</td>\n      <td>1</td>\n      <td>4</td>\n      <td>0</td>\n      <td>1</td>\n    </tr>\n    <tr>\n      <th>24</th>\n      <td>0.969697</td>\n      <td>4</td>\n      <td>4</td>\n      <td>5</td>\n      <td>1</td>\n      <td>1</td>\n      <td>1</td>\n      <td>4</td>\n      <td>0</td>\n      <td>1</td>\n    </tr>\n  </tbody>\n</table>\n</div>"
     },
     "execution_count": 5,
     "metadata": {},
     "output_type": "execute_result"
    }
   ],
   "source": [
    "women_highest = data[data.wife_edu == data.wife_edu.max()]\n",
    "women_highest = women_highest.copy()\n",
    "women_highest.head()"
   ],
   "metadata": {
    "collapsed": false,
    "ExecuteTime": {
     "end_time": "2024-03-15T06:45:11.247088600Z",
     "start_time": "2024-03-15T06:45:10.934564300Z"
    }
   }
  },
  {
   "cell_type": "code",
   "execution_count": 6,
   "outputs": [
    {
     "data": {
      "text/plain": "   wife_age  wife_edu  husband_edu  num_children  wife_religion wife_working  \\\n0  0.242424         2            3             3              1          yes   \n1  0.878788         1            3            10              1          yes   \n2  0.818182         2            3             7              1          yes   \n3  0.787879         3            2             9              1          yes   \n4  0.606061         3            3             8              1          yes   \n\n   husband_occupation  standard_of_living_index  media_exposure  \\\n0                   2                         3               0   \n1                   3                         4               0   \n2                   3                         4               0   \n3                   3                         3               0   \n4                   3                         2               0   \n\n   contraceptive_method  \n0                     1  \n1                     1  \n2                     1  \n3                     1  \n4                     1  ",
      "text/html": "<div>\n<style scoped>\n    .dataframe tbody tr th:only-of-type {\n        vertical-align: middle;\n    }\n\n    .dataframe tbody tr th {\n        vertical-align: top;\n    }\n\n    .dataframe thead th {\n        text-align: right;\n    }\n</style>\n<table border=\"1\" class=\"dataframe\">\n  <thead>\n    <tr style=\"text-align: right;\">\n      <th></th>\n      <th>wife_age</th>\n      <th>wife_edu</th>\n      <th>husband_edu</th>\n      <th>num_children</th>\n      <th>wife_religion</th>\n      <th>wife_working</th>\n      <th>husband_occupation</th>\n      <th>standard_of_living_index</th>\n      <th>media_exposure</th>\n      <th>contraceptive_method</th>\n    </tr>\n  </thead>\n  <tbody>\n    <tr>\n      <th>0</th>\n      <td>0.242424</td>\n      <td>2</td>\n      <td>3</td>\n      <td>3</td>\n      <td>1</td>\n      <td>yes</td>\n      <td>2</td>\n      <td>3</td>\n      <td>0</td>\n      <td>1</td>\n    </tr>\n    <tr>\n      <th>1</th>\n      <td>0.878788</td>\n      <td>1</td>\n      <td>3</td>\n      <td>10</td>\n      <td>1</td>\n      <td>yes</td>\n      <td>3</td>\n      <td>4</td>\n      <td>0</td>\n      <td>1</td>\n    </tr>\n    <tr>\n      <th>2</th>\n      <td>0.818182</td>\n      <td>2</td>\n      <td>3</td>\n      <td>7</td>\n      <td>1</td>\n      <td>yes</td>\n      <td>3</td>\n      <td>4</td>\n      <td>0</td>\n      <td>1</td>\n    </tr>\n    <tr>\n      <th>3</th>\n      <td>0.787879</td>\n      <td>3</td>\n      <td>2</td>\n      <td>9</td>\n      <td>1</td>\n      <td>yes</td>\n      <td>3</td>\n      <td>3</td>\n      <td>0</td>\n      <td>1</td>\n    </tr>\n    <tr>\n      <th>4</th>\n      <td>0.606061</td>\n      <td>3</td>\n      <td>3</td>\n      <td>8</td>\n      <td>1</td>\n      <td>yes</td>\n      <td>3</td>\n      <td>2</td>\n      <td>0</td>\n      <td>1</td>\n    </tr>\n  </tbody>\n</table>\n</div>"
     },
     "execution_count": 6,
     "metadata": {},
     "output_type": "execute_result"
    }
   ],
   "source": [
    "data.wife_working = data.wife_working.apply(lambda x: 'yes' if x == 1 else 'no')\n",
    "data.head()"
   ],
   "metadata": {
    "collapsed": false,
    "ExecuteTime": {
     "end_time": "2024-03-15T06:46:39.285907500Z",
     "start_time": "2024-03-15T06:46:38.769777300Z"
    }
   }
  },
  {
   "cell_type": "code",
   "execution_count": 35,
   "outputs": [
    {
     "data": {
      "text/plain": "                                  count\nwife_edu contraceptive_method          \n1        1                     0.677632\n         2                     0.059211\n         3                     0.263158\n2        1                     0.526946\n         2                     0.110778\n         3                     0.362275\n3        1                     0.426829\n         2                     0.195122\n         3                     0.378049\n4        1                     0.303293\n         2                     0.358752\n         3                     0.337955",
      "text/html": "<div>\n<style scoped>\n    .dataframe tbody tr th:only-of-type {\n        vertical-align: middle;\n    }\n\n    .dataframe tbody tr th {\n        vertical-align: top;\n    }\n\n    .dataframe thead th {\n        text-align: right;\n    }\n</style>\n<table border=\"1\" class=\"dataframe\">\n  <thead>\n    <tr style=\"text-align: right;\">\n      <th></th>\n      <th></th>\n      <th>count</th>\n    </tr>\n    <tr>\n      <th>wife_edu</th>\n      <th>contraceptive_method</th>\n      <th></th>\n    </tr>\n  </thead>\n  <tbody>\n    <tr>\n      <th rowspan=\"3\" valign=\"top\">1</th>\n      <th>1</th>\n      <td>0.677632</td>\n    </tr>\n    <tr>\n      <th>2</th>\n      <td>0.059211</td>\n    </tr>\n    <tr>\n      <th>3</th>\n      <td>0.263158</td>\n    </tr>\n    <tr>\n      <th rowspan=\"3\" valign=\"top\">2</th>\n      <th>1</th>\n      <td>0.526946</td>\n    </tr>\n    <tr>\n      <th>2</th>\n      <td>0.110778</td>\n    </tr>\n    <tr>\n      <th>3</th>\n      <td>0.362275</td>\n    </tr>\n    <tr>\n      <th rowspan=\"3\" valign=\"top\">3</th>\n      <th>1</th>\n      <td>0.426829</td>\n    </tr>\n    <tr>\n      <th>2</th>\n      <td>0.195122</td>\n    </tr>\n    <tr>\n      <th>3</th>\n      <td>0.378049</td>\n    </tr>\n    <tr>\n      <th rowspan=\"3\" valign=\"top\">4</th>\n      <th>1</th>\n      <td>0.303293</td>\n    </tr>\n    <tr>\n      <th>2</th>\n      <td>0.358752</td>\n    </tr>\n    <tr>\n      <th>3</th>\n      <td>0.337955</td>\n    </tr>\n  </tbody>\n</table>\n</div>"
     },
     "execution_count": 35,
     "metadata": {},
     "output_type": "execute_result"
    }
   ],
   "source": [
    "temp = data.groupby([data.wife_edu, data.contraceptive_method]).size().reset_index(name='count')\n",
    "counts = data.wife_edu.value_counts()\n",
    "temp['count'] = temp['count'].div(temp['wife_edu'].map(counts))\n",
    "temp = temp.set_index(['wife_edu', 'contraceptive_method'])\n",
    "temp"
   ],
   "metadata": {
    "collapsed": false,
    "ExecuteTime": {
     "end_time": "2024-03-15T07:48:19.063099600Z",
     "start_time": "2024-03-15T07:48:18.875260800Z"
    }
   }
  },
  {
   "cell_type": "code",
   "execution_count": 40,
   "outputs": [
    {
     "name": "stdout",
     "output_type": "stream",
     "text": [
      "0       0.242424\n",
      "1       0.878788\n",
      "2       0.818182\n",
      "3       0.787879\n",
      "4       0.606061\n",
      "          ...   \n",
      "1468    0.515152\n",
      "1469    0.515152\n",
      "1470    0.696970\n",
      "1471    0.515152\n",
      "1472    0.030303\n",
      "Name: wife_age, Length: 1473, dtype: float64\n",
      "0       2\n",
      "1       1\n",
      "2       2\n",
      "3       3\n",
      "4       3\n",
      "       ..\n",
      "1468    4\n",
      "1469    4\n",
      "1470    3\n",
      "1471    3\n",
      "1472    3\n",
      "Name: wife_edu, Length: 1473, dtype: int64\n",
      "0       3\n",
      "1       3\n",
      "2       3\n",
      "3       2\n",
      "4       3\n",
      "       ..\n",
      "1468    4\n",
      "1469    4\n",
      "1470    3\n",
      "1471    3\n",
      "1472    3\n",
      "Name: husband_edu, Length: 1473, dtype: int64\n",
      "0        3\n",
      "1       10\n",
      "2        7\n",
      "3        9\n",
      "4        8\n",
      "        ..\n",
      "1468     2\n",
      "1469     3\n",
      "1470     8\n",
      "1471     4\n",
      "1472     1\n",
      "Name: num_children, Length: 1473, dtype: int64\n",
      "0       1\n",
      "1       1\n",
      "2       1\n",
      "3       1\n",
      "4       1\n",
      "       ..\n",
      "1468    1\n",
      "1469    1\n",
      "1470    1\n",
      "1471    1\n",
      "1472    1\n",
      "Name: wife_religion, Length: 1473, dtype: int64\n",
      "0       yes\n",
      "1       yes\n",
      "2       yes\n",
      "3       yes\n",
      "4       yes\n",
      "       ... \n",
      "1468     no\n",
      "1469    yes\n",
      "1470     no\n",
      "1471     no\n",
      "1472    yes\n",
      "Name: wife_working, Length: 1473, dtype: object\n",
      "0       2\n",
      "1       3\n",
      "2       3\n",
      "3       3\n",
      "4       3\n",
      "       ..\n",
      "1468    2\n",
      "1469    1\n",
      "1470    1\n",
      "1471    2\n",
      "1472    2\n",
      "Name: husband_occupation, Length: 1473, dtype: int64\n",
      "0       3\n",
      "1       4\n",
      "2       4\n",
      "3       3\n",
      "4       2\n",
      "       ..\n",
      "1468    4\n",
      "1469    4\n",
      "1470    4\n",
      "1471    2\n",
      "1472    4\n",
      "Name: standard_of_living_index, Length: 1473, dtype: int64\n",
      "0       0\n",
      "1       0\n",
      "2       0\n",
      "3       0\n",
      "4       0\n",
      "       ..\n",
      "1468    0\n",
      "1469    0\n",
      "1470    0\n",
      "1471    0\n",
      "1472    0\n",
      "Name: media_exposure, Length: 1473, dtype: int64\n",
      "0       1\n",
      "1       1\n",
      "2       1\n",
      "3       1\n",
      "4       1\n",
      "       ..\n",
      "1468    3\n",
      "1469    3\n",
      "1470    3\n",
      "1471    3\n",
      "1472    3\n",
      "Name: contraceptive_method, Length: 1473, dtype: int64\n"
     ]
    },
    {
     "ename": "KeyError",
     "evalue": "'wife_edu'",
     "output_type": "error",
     "traceback": [
      "\u001B[1;31m---------------------------------------------------------------------------\u001B[0m",
      "\u001B[1;31mKeyError\u001B[0m                                  Traceback (most recent call last)",
      "Cell \u001B[1;32mIn[40], line 3\u001B[0m\n\u001B[0;32m      1\u001B[0m data\u001B[38;5;241m.\u001B[39mapply(\u001B[38;5;28;01mlambda\u001B[39;00m x: \u001B[38;5;28mprint\u001B[39m(x))\n\u001B[1;32m----> 3\u001B[0m data[\u001B[38;5;124m'\u001B[39m\u001B[38;5;124mavg_edu\u001B[39m\u001B[38;5;124m'\u001B[39m] \u001B[38;5;241m=\u001B[39m \u001B[43mdata\u001B[49m\u001B[38;5;241;43m.\u001B[39;49m\u001B[43mapply\u001B[49m\u001B[43m(\u001B[49m\u001B[38;5;28;43;01mlambda\u001B[39;49;00m\u001B[43m \u001B[49m\u001B[43mx\u001B[49m\u001B[43m:\u001B[49m\u001B[43m \u001B[49m\u001B[38;5;28;43mint\u001B[39;49m\u001B[43m(\u001B[49m\u001B[43m(\u001B[49m\u001B[43mx\u001B[49m\u001B[38;5;241;43m.\u001B[39;49m\u001B[43mloc\u001B[49m\u001B[43m[\u001B[49m\u001B[38;5;124;43m'\u001B[39;49m\u001B[38;5;124;43mwife_edu\u001B[39;49m\u001B[38;5;124;43m'\u001B[39;49m\u001B[43m]\u001B[49m\u001B[43m \u001B[49m\u001B[38;5;241;43m+\u001B[39;49m\u001B[43m \u001B[49m\u001B[43mx\u001B[49m\u001B[38;5;241;43m.\u001B[39;49m\u001B[43mloc\u001B[49m\u001B[43m[\u001B[49m\u001B[38;5;124;43m'\u001B[39;49m\u001B[38;5;124;43mhusband_edu\u001B[39;49m\u001B[38;5;124;43m'\u001B[39;49m\u001B[43m]\u001B[49m\u001B[43m)\u001B[49m\u001B[38;5;241;43m/\u001B[39;49m\u001B[38;5;241;43m2\u001B[39;49m\u001B[43m)\u001B[49m\u001B[43m)\u001B[49m\n\u001B[0;32m      4\u001B[0m data\u001B[38;5;241m.\u001B[39mhead()\n",
      "File \u001B[1;32m~\\AppData\\Local\\Programs\\Python\\Python39\\lib\\site-packages\\pandas\\core\\frame.py:10361\u001B[0m, in \u001B[0;36mDataFrame.apply\u001B[1;34m(self, func, axis, raw, result_type, args, by_row, engine, engine_kwargs, **kwargs)\u001B[0m\n\u001B[0;32m  10347\u001B[0m \u001B[38;5;28;01mfrom\u001B[39;00m \u001B[38;5;21;01mpandas\u001B[39;00m\u001B[38;5;21;01m.\u001B[39;00m\u001B[38;5;21;01mcore\u001B[39;00m\u001B[38;5;21;01m.\u001B[39;00m\u001B[38;5;21;01mapply\u001B[39;00m \u001B[38;5;28;01mimport\u001B[39;00m frame_apply\n\u001B[0;32m  10349\u001B[0m op \u001B[38;5;241m=\u001B[39m frame_apply(\n\u001B[0;32m  10350\u001B[0m     \u001B[38;5;28mself\u001B[39m,\n\u001B[0;32m  10351\u001B[0m     func\u001B[38;5;241m=\u001B[39mfunc,\n\u001B[1;32m   (...)\u001B[0m\n\u001B[0;32m  10359\u001B[0m     kwargs\u001B[38;5;241m=\u001B[39mkwargs,\n\u001B[0;32m  10360\u001B[0m )\n\u001B[1;32m> 10361\u001B[0m \u001B[38;5;28;01mreturn\u001B[39;00m \u001B[43mop\u001B[49m\u001B[38;5;241;43m.\u001B[39;49m\u001B[43mapply\u001B[49m\u001B[43m(\u001B[49m\u001B[43m)\u001B[49m\u001B[38;5;241m.\u001B[39m__finalize__(\u001B[38;5;28mself\u001B[39m, method\u001B[38;5;241m=\u001B[39m\u001B[38;5;124m\"\u001B[39m\u001B[38;5;124mapply\u001B[39m\u001B[38;5;124m\"\u001B[39m)\n",
      "File \u001B[1;32m~\\AppData\\Local\\Programs\\Python\\Python39\\lib\\site-packages\\pandas\\core\\apply.py:916\u001B[0m, in \u001B[0;36mFrameApply.apply\u001B[1;34m(self)\u001B[0m\n\u001B[0;32m    913\u001B[0m \u001B[38;5;28;01melif\u001B[39;00m \u001B[38;5;28mself\u001B[39m\u001B[38;5;241m.\u001B[39mraw:\n\u001B[0;32m    914\u001B[0m     \u001B[38;5;28;01mreturn\u001B[39;00m \u001B[38;5;28mself\u001B[39m\u001B[38;5;241m.\u001B[39mapply_raw(engine\u001B[38;5;241m=\u001B[39m\u001B[38;5;28mself\u001B[39m\u001B[38;5;241m.\u001B[39mengine, engine_kwargs\u001B[38;5;241m=\u001B[39m\u001B[38;5;28mself\u001B[39m\u001B[38;5;241m.\u001B[39mengine_kwargs)\n\u001B[1;32m--> 916\u001B[0m \u001B[38;5;28;01mreturn\u001B[39;00m \u001B[38;5;28;43mself\u001B[39;49m\u001B[38;5;241;43m.\u001B[39;49m\u001B[43mapply_standard\u001B[49m\u001B[43m(\u001B[49m\u001B[43m)\u001B[49m\n",
      "File \u001B[1;32m~\\AppData\\Local\\Programs\\Python\\Python39\\lib\\site-packages\\pandas\\core\\apply.py:1063\u001B[0m, in \u001B[0;36mFrameApply.apply_standard\u001B[1;34m(self)\u001B[0m\n\u001B[0;32m   1061\u001B[0m \u001B[38;5;28;01mdef\u001B[39;00m \u001B[38;5;21mapply_standard\u001B[39m(\u001B[38;5;28mself\u001B[39m):\n\u001B[0;32m   1062\u001B[0m     \u001B[38;5;28;01mif\u001B[39;00m \u001B[38;5;28mself\u001B[39m\u001B[38;5;241m.\u001B[39mengine \u001B[38;5;241m==\u001B[39m \u001B[38;5;124m\"\u001B[39m\u001B[38;5;124mpython\u001B[39m\u001B[38;5;124m\"\u001B[39m:\n\u001B[1;32m-> 1063\u001B[0m         results, res_index \u001B[38;5;241m=\u001B[39m \u001B[38;5;28;43mself\u001B[39;49m\u001B[38;5;241;43m.\u001B[39;49m\u001B[43mapply_series_generator\u001B[49m\u001B[43m(\u001B[49m\u001B[43m)\u001B[49m\n\u001B[0;32m   1064\u001B[0m     \u001B[38;5;28;01melse\u001B[39;00m:\n\u001B[0;32m   1065\u001B[0m         results, res_index \u001B[38;5;241m=\u001B[39m \u001B[38;5;28mself\u001B[39m\u001B[38;5;241m.\u001B[39mapply_series_numba()\n",
      "File \u001B[1;32m~\\AppData\\Local\\Programs\\Python\\Python39\\lib\\site-packages\\pandas\\core\\apply.py:1081\u001B[0m, in \u001B[0;36mFrameApply.apply_series_generator\u001B[1;34m(self)\u001B[0m\n\u001B[0;32m   1078\u001B[0m \u001B[38;5;28;01mwith\u001B[39;00m option_context(\u001B[38;5;124m\"\u001B[39m\u001B[38;5;124mmode.chained_assignment\u001B[39m\u001B[38;5;124m\"\u001B[39m, \u001B[38;5;28;01mNone\u001B[39;00m):\n\u001B[0;32m   1079\u001B[0m     \u001B[38;5;28;01mfor\u001B[39;00m i, v \u001B[38;5;129;01min\u001B[39;00m \u001B[38;5;28menumerate\u001B[39m(series_gen):\n\u001B[0;32m   1080\u001B[0m         \u001B[38;5;66;03m# ignore SettingWithCopy here in case the user mutates\u001B[39;00m\n\u001B[1;32m-> 1081\u001B[0m         results[i] \u001B[38;5;241m=\u001B[39m \u001B[38;5;28mself\u001B[39m\u001B[38;5;241m.\u001B[39mfunc(v, \u001B[38;5;241m*\u001B[39m\u001B[38;5;28mself\u001B[39m\u001B[38;5;241m.\u001B[39margs, \u001B[38;5;241m*\u001B[39m\u001B[38;5;241m*\u001B[39m\u001B[38;5;28mself\u001B[39m\u001B[38;5;241m.\u001B[39mkwargs)\n\u001B[0;32m   1082\u001B[0m         \u001B[38;5;28;01mif\u001B[39;00m \u001B[38;5;28misinstance\u001B[39m(results[i], ABCSeries):\n\u001B[0;32m   1083\u001B[0m             \u001B[38;5;66;03m# If we have a view on v, we need to make a copy because\u001B[39;00m\n\u001B[0;32m   1084\u001B[0m             \u001B[38;5;66;03m#  series_generator will swap out the underlying data\u001B[39;00m\n\u001B[0;32m   1085\u001B[0m             results[i] \u001B[38;5;241m=\u001B[39m results[i]\u001B[38;5;241m.\u001B[39mcopy(deep\u001B[38;5;241m=\u001B[39m\u001B[38;5;28;01mFalse\u001B[39;00m)\n",
      "Cell \u001B[1;32mIn[40], line 3\u001B[0m, in \u001B[0;36m<lambda>\u001B[1;34m(x)\u001B[0m\n\u001B[0;32m      1\u001B[0m data\u001B[38;5;241m.\u001B[39mapply(\u001B[38;5;28;01mlambda\u001B[39;00m x: \u001B[38;5;28mprint\u001B[39m(x))\n\u001B[1;32m----> 3\u001B[0m data[\u001B[38;5;124m'\u001B[39m\u001B[38;5;124mavg_edu\u001B[39m\u001B[38;5;124m'\u001B[39m] \u001B[38;5;241m=\u001B[39m data\u001B[38;5;241m.\u001B[39mapply(\u001B[38;5;28;01mlambda\u001B[39;00m x: \u001B[38;5;28mint\u001B[39m((\u001B[43mx\u001B[49m\u001B[38;5;241;43m.\u001B[39;49m\u001B[43mloc\u001B[49m\u001B[43m[\u001B[49m\u001B[38;5;124;43m'\u001B[39;49m\u001B[38;5;124;43mwife_edu\u001B[39;49m\u001B[38;5;124;43m'\u001B[39;49m\u001B[43m]\u001B[49m \u001B[38;5;241m+\u001B[39m x\u001B[38;5;241m.\u001B[39mloc[\u001B[38;5;124m'\u001B[39m\u001B[38;5;124mhusband_edu\u001B[39m\u001B[38;5;124m'\u001B[39m])\u001B[38;5;241m/\u001B[39m\u001B[38;5;241m2\u001B[39m))\n\u001B[0;32m      4\u001B[0m data\u001B[38;5;241m.\u001B[39mhead()\n",
      "File \u001B[1;32m~\\AppData\\Local\\Programs\\Python\\Python39\\lib\\site-packages\\pandas\\core\\indexing.py:1191\u001B[0m, in \u001B[0;36m_LocationIndexer.__getitem__\u001B[1;34m(self, key)\u001B[0m\n\u001B[0;32m   1189\u001B[0m maybe_callable \u001B[38;5;241m=\u001B[39m com\u001B[38;5;241m.\u001B[39mapply_if_callable(key, \u001B[38;5;28mself\u001B[39m\u001B[38;5;241m.\u001B[39mobj)\n\u001B[0;32m   1190\u001B[0m maybe_callable \u001B[38;5;241m=\u001B[39m \u001B[38;5;28mself\u001B[39m\u001B[38;5;241m.\u001B[39m_check_deprecated_callable_usage(key, maybe_callable)\n\u001B[1;32m-> 1191\u001B[0m \u001B[38;5;28;01mreturn\u001B[39;00m \u001B[38;5;28;43mself\u001B[39;49m\u001B[38;5;241;43m.\u001B[39;49m\u001B[43m_getitem_axis\u001B[49m\u001B[43m(\u001B[49m\u001B[43mmaybe_callable\u001B[49m\u001B[43m,\u001B[49m\u001B[43m \u001B[49m\u001B[43maxis\u001B[49m\u001B[38;5;241;43m=\u001B[39;49m\u001B[43maxis\u001B[49m\u001B[43m)\u001B[49m\n",
      "File \u001B[1;32m~\\AppData\\Local\\Programs\\Python\\Python39\\lib\\site-packages\\pandas\\core\\indexing.py:1431\u001B[0m, in \u001B[0;36m_LocIndexer._getitem_axis\u001B[1;34m(self, key, axis)\u001B[0m\n\u001B[0;32m   1429\u001B[0m \u001B[38;5;66;03m# fall thru to straight lookup\u001B[39;00m\n\u001B[0;32m   1430\u001B[0m \u001B[38;5;28mself\u001B[39m\u001B[38;5;241m.\u001B[39m_validate_key(key, axis)\n\u001B[1;32m-> 1431\u001B[0m \u001B[38;5;28;01mreturn\u001B[39;00m \u001B[38;5;28;43mself\u001B[39;49m\u001B[38;5;241;43m.\u001B[39;49m\u001B[43m_get_label\u001B[49m\u001B[43m(\u001B[49m\u001B[43mkey\u001B[49m\u001B[43m,\u001B[49m\u001B[43m \u001B[49m\u001B[43maxis\u001B[49m\u001B[38;5;241;43m=\u001B[39;49m\u001B[43maxis\u001B[49m\u001B[43m)\u001B[49m\n",
      "File \u001B[1;32m~\\AppData\\Local\\Programs\\Python\\Python39\\lib\\site-packages\\pandas\\core\\indexing.py:1381\u001B[0m, in \u001B[0;36m_LocIndexer._get_label\u001B[1;34m(self, label, axis)\u001B[0m\n\u001B[0;32m   1379\u001B[0m \u001B[38;5;28;01mdef\u001B[39;00m \u001B[38;5;21m_get_label\u001B[39m(\u001B[38;5;28mself\u001B[39m, label, axis: AxisInt):\n\u001B[0;32m   1380\u001B[0m     \u001B[38;5;66;03m# GH#5567 this will fail if the label is not present in the axis.\u001B[39;00m\n\u001B[1;32m-> 1381\u001B[0m     \u001B[38;5;28;01mreturn\u001B[39;00m \u001B[38;5;28;43mself\u001B[39;49m\u001B[38;5;241;43m.\u001B[39;49m\u001B[43mobj\u001B[49m\u001B[38;5;241;43m.\u001B[39;49m\u001B[43mxs\u001B[49m\u001B[43m(\u001B[49m\u001B[43mlabel\u001B[49m\u001B[43m,\u001B[49m\u001B[43m \u001B[49m\u001B[43maxis\u001B[49m\u001B[38;5;241;43m=\u001B[39;49m\u001B[43maxis\u001B[49m\u001B[43m)\u001B[49m\n",
      "File \u001B[1;32m~\\AppData\\Local\\Programs\\Python\\Python39\\lib\\site-packages\\pandas\\core\\generic.py:4298\u001B[0m, in \u001B[0;36mNDFrame.xs\u001B[1;34m(self, key, axis, level, drop_level)\u001B[0m\n\u001B[0;32m   4296\u001B[0m             new_index \u001B[38;5;241m=\u001B[39m index[loc]\n\u001B[0;32m   4297\u001B[0m \u001B[38;5;28;01melse\u001B[39;00m:\n\u001B[1;32m-> 4298\u001B[0m     loc \u001B[38;5;241m=\u001B[39m \u001B[43mindex\u001B[49m\u001B[38;5;241;43m.\u001B[39;49m\u001B[43mget_loc\u001B[49m\u001B[43m(\u001B[49m\u001B[43mkey\u001B[49m\u001B[43m)\u001B[49m\n\u001B[0;32m   4300\u001B[0m     \u001B[38;5;28;01mif\u001B[39;00m \u001B[38;5;28misinstance\u001B[39m(loc, np\u001B[38;5;241m.\u001B[39mndarray):\n\u001B[0;32m   4301\u001B[0m         \u001B[38;5;28;01mif\u001B[39;00m loc\u001B[38;5;241m.\u001B[39mdtype \u001B[38;5;241m==\u001B[39m np\u001B[38;5;241m.\u001B[39mbool_:\n",
      "File \u001B[1;32m~\\AppData\\Local\\Programs\\Python\\Python39\\lib\\site-packages\\pandas\\core\\indexes\\range.py:417\u001B[0m, in \u001B[0;36mRangeIndex.get_loc\u001B[1;34m(self, key)\u001B[0m\n\u001B[0;32m    415\u001B[0m         \u001B[38;5;28;01mraise\u001B[39;00m \u001B[38;5;167;01mKeyError\u001B[39;00m(key) \u001B[38;5;28;01mfrom\u001B[39;00m \u001B[38;5;21;01merr\u001B[39;00m\n\u001B[0;32m    416\u001B[0m \u001B[38;5;28;01mif\u001B[39;00m \u001B[38;5;28misinstance\u001B[39m(key, Hashable):\n\u001B[1;32m--> 417\u001B[0m     \u001B[38;5;28;01mraise\u001B[39;00m \u001B[38;5;167;01mKeyError\u001B[39;00m(key)\n\u001B[0;32m    418\u001B[0m \u001B[38;5;28mself\u001B[39m\u001B[38;5;241m.\u001B[39m_check_indexing_error(key)\n\u001B[0;32m    419\u001B[0m \u001B[38;5;28;01mraise\u001B[39;00m \u001B[38;5;167;01mKeyError\u001B[39;00m(key)\n",
      "\u001B[1;31mKeyError\u001B[0m: 'wife_edu'"
     ]
    }
   ],
   "source": [
    "data['avg_edu'] = data.apply(lambda x: int((x.loc['wife_edu'] + x.loc['husband_edu'])/2))\n",
    "data.head()"
   ],
   "metadata": {
    "collapsed": false,
    "ExecuteTime": {
     "end_time": "2024-03-15T07:58:40.616081900Z",
     "start_time": "2024-03-15T07:58:39.346700300Z"
    }
   }
  },
  {
   "cell_type": "code",
   "execution_count": null,
   "outputs": [],
   "source": [],
   "metadata": {
    "collapsed": false
   }
  }
 ],
 "metadata": {
  "kernelspec": {
   "display_name": "Python 3 (ipykernel)",
   "language": "python",
   "name": "python3"
  },
  "language_info": {
   "codemirror_mode": {
    "name": "ipython",
    "version": 3
   },
   "file_extension": ".py",
   "mimetype": "text/x-python",
   "name": "python",
   "nbconvert_exporter": "python",
   "pygments_lexer": "ipython3",
   "version": "3.11.6"
  },
  "toc": {
   "base_numbering": 1,
   "nav_menu": {},
   "number_sections": true,
   "sideBar": true,
   "skip_h1_title": false,
   "title_cell": "Table of Contents",
   "title_sidebar": "Contents",
   "toc_cell": false,
   "toc_position": {},
   "toc_section_display": true,
   "toc_window_display": true
  },
  "varInspector": {
   "cols": {
    "lenName": 16,
    "lenType": 16,
    "lenVar": 40
   },
   "kernels_config": {
    "python": {
     "delete_cmd_postfix": "",
     "delete_cmd_prefix": "del ",
     "library": "var_list.py",
     "varRefreshCmd": "print(var_dic_list())"
    },
    "r": {
     "delete_cmd_postfix": ") ",
     "delete_cmd_prefix": "rm(",
     "library": "var_list.r",
     "varRefreshCmd": "cat(var_dic_list()) "
    }
   },
   "types_to_exclude": [
    "module",
    "function",
    "builtin_function_or_method",
    "instance",
    "_Feature"
   ],
   "window_display": false
  }
 },
 "nbformat": 4,
 "nbformat_minor": 4
}
