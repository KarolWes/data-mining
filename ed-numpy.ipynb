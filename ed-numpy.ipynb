{
 "cells": [
  {
   "cell_type": "markdown",
   "metadata": {},
   "source": [
    "# NumPy tutorial\n",
    "\n",
    "[Numerical Python](https://numpy.org) is one of the most fundamental tools in each data miner's toolbox. It is impossible to do serious data pre-processing and transformation without the understanding of `NumPy` and its most commonly used methods. The goal of this tutorial is to familiarize students with this awesome library."
   ]
  },
  {
   "cell_type": "markdown",
   "metadata": {},
   "source": [
    "## Introduction\n",
    "\n",
    "99% of `NumPy` is one data structure and operations on that structure. `NumPy` stores everything in multidimensional arrays and vectorizes all operations on these arrays. For a motivating example, let's compare the speed of computing an average of 10 mln of random numbers stored in a list vs an array"
   ]
  },
  {
   "cell_type": "code",
   "execution_count": 1,
   "metadata": {
    "ExecuteTime": {
     "end_time": "2024-03-07T10:55:28.492292800Z",
     "start_time": "2024-03-07T10:55:10.515425800Z"
    }
   },
   "outputs": [],
   "source": [
    "import numpy as np\n",
    "from numpy.random import randint\n",
    "\n",
    "randoms = randint(low=0, high=1000, size=100000000)\n",
    "lst = list(randoms)"
   ]
  },
  {
   "cell_type": "code",
   "execution_count": 2,
   "metadata": {
    "ExecuteTime": {
     "end_time": "2024-03-07T10:56:01.796140800Z",
     "start_time": "2024-03-07T10:56:01.685672900Z"
    }
   },
   "outputs": [
    {
     "data": {
      "text/plain": "100000000"
     },
     "execution_count": 2,
     "metadata": {},
     "output_type": "execute_result"
    }
   ],
   "source": [
    "len(lst)"
   ]
  },
  {
   "cell_type": "code",
   "execution_count": 3,
   "metadata": {
    "ExecuteTime": {
     "end_time": "2024-03-07T10:56:38.810045100Z",
     "start_time": "2024-03-07T10:56:01.724496500Z"
    }
   },
   "outputs": [
    {
     "name": "stderr",
     "output_type": "stream",
     "text": [
      "<timed exec>:4: RuntimeWarning: overflow encountered in scalar add\n"
     ]
    },
    {
     "name": "stdout",
     "output_type": "stream",
     "text": [
      "Average = -15.90953887\n",
      "CPU times: total: 30.7 s\n",
      "Wall time: 36.9 s\n"
     ]
    }
   ],
   "source": [
    "%%time\n",
    "\n",
    "# old-school iteration\n",
    "summ = 0\n",
    "for i in range(len(lst)):\n",
    "    summ += lst[i]\n",
    "    \n",
    "print(f'Average = {summ/len(lst)}')"
   ]
  },
  {
   "cell_type": "code",
   "execution_count": 4,
   "metadata": {
    "ExecuteTime": {
     "end_time": "2024-03-07T10:57:07.728129100Z",
     "start_time": "2024-03-07T10:56:38.775252200Z"
    }
   },
   "outputs": [
    {
     "name": "stdout",
     "output_type": "stream",
     "text": [
      "Average = -15.90953887\n",
      "CPU times: total: 23.2 s\n",
      "Wall time: 28.4 s\n"
     ]
    },
    {
     "name": "stderr",
     "output_type": "stream",
     "text": [
      "<timed eval>:2: RuntimeWarning: overflow encountered in scalar add\n"
     ]
    }
   ],
   "source": [
    "%%time\n",
    "\n",
    "# using built-ins sum() and len()\n",
    "print(f'Average = {sum(lst)/len(lst)}')"
   ]
  },
  {
   "cell_type": "code",
   "execution_count": 5,
   "metadata": {
    "ExecuteTime": {
     "end_time": "2024-03-07T10:57:11.038099700Z",
     "start_time": "2024-03-07T10:57:07.489323400Z"
    }
   },
   "outputs": [
    {
     "name": "stdout",
     "output_type": "stream",
     "text": [
      "Average = 499.48653665\n",
      "CPU times: total: 2.53 s\n",
      "Wall time: 3.48 s\n"
     ]
    }
   ],
   "source": [
    "%%time\n",
    "\n",
    "# using NumPy\n",
    "print(f'Average = {np.mean(randoms)}')"
   ]
  },
  {
   "cell_type": "markdown",
   "metadata": {},
   "source": [
    "There are only two rules regarding `NumPy` arrays:\n",
    "- every element must be of the same type and size\n",
    "- if an array has arrays, they must match as well\n",
    "\n",
    "Let's see how to create an array and what happens when we start messing with the types and sizes of objects"
   ]
  },
  {
   "cell_type": "code",
   "execution_count": 6,
   "metadata": {
    "ExecuteTime": {
     "end_time": "2024-03-07T10:57:19.730499900Z",
     "start_time": "2024-03-07T10:57:19.398730400Z"
    }
   },
   "outputs": [
    {
     "name": "stdout",
     "output_type": "stream",
     "text": [
      "Shape (sizes of dimensions): (5,)\n",
      "Number of dimensions: 1\n",
      "Length (number of elements): 5\n",
      "Size (number of nested elements): 5\n",
      "Type : <class 'numpy.ndarray'>\n",
      "Data type (type of array elements): int16\n"
     ]
    }
   ],
   "source": [
    "a = np.array([1, 2, 3, 4, 5], dtype=np.int16)\n",
    "\n",
    "print(f'Shape (sizes of dimensions): {a.shape}')\n",
    "print(f'Number of dimensions: {a.ndim}')\n",
    "print(f'Length (number of elements): {len(a)}')\n",
    "print(f'Size (number of nested elements): {a.size}')\n",
    "print(f'Type : {type(a)}')\n",
    "print(f'Data type (type of array elements): {a.dtype}')"
   ]
  },
  {
   "cell_type": "markdown",
   "metadata": {},
   "source": [
    "Now let's see how the same descriptors can be applied to a two-dimensional array"
   ]
  },
  {
   "cell_type": "code",
   "execution_count": 7,
   "metadata": {
    "ExecuteTime": {
     "end_time": "2024-03-07T10:57:27.332502300Z",
     "start_time": "2024-03-07T10:57:27.163256900Z"
    }
   },
   "outputs": [
    {
     "name": "stdout",
     "output_type": "stream",
     "text": [
      "Shape (sizes of dimensions): (2, 5)\n",
      "Number of dimensions: 2\n",
      "Length (number of elements): 2\n",
      "Size (number of nested elements): 10\n",
      "Type : <class 'numpy.ndarray'>\n",
      "Data type (type of array elements): int16\n"
     ]
    }
   ],
   "source": [
    "a = np.array([\n",
    "    [1, 2, 3, 4, 5],\n",
    "    [1, 4, 9, 16, 25]\n",
    "], dtype=np.int16)\n",
    "\n",
    "print(f'Shape (sizes of dimensions): {a.shape}')\n",
    "print(f'Number of dimensions: {a.ndim}')\n",
    "print(f'Length (number of elements): {len(a)}')\n",
    "print(f'Size (number of nested elements): {a.size}')\n",
    "print(f'Type : {type(a)}')\n",
    "print(f'Data type (type of array elements): {a.dtype}')"
   ]
  },
  {
   "cell_type": "markdown",
   "metadata": {},
   "source": [
    "Array elements should be of the same type. Let's see what happens if we mix two types."
   ]
  },
  {
   "cell_type": "code",
   "execution_count": 8,
   "metadata": {
    "ExecuteTime": {
     "end_time": "2024-03-07T10:57:49.166176100Z",
     "start_time": "2024-03-07T10:57:48.943861500Z"
    }
   },
   "outputs": [
    {
     "data": {
      "text/plain": "array(['1', '2', 'mary', 'had', '2', 'lambs', 'True'], dtype='<U11')"
     },
     "execution_count": 8,
     "metadata": {},
     "output_type": "execute_result"
    }
   ],
   "source": [
    "a = np.array([1, 2, 'mary', 'had', 2, 'lambs', True])\n",
    "\n",
    "a"
   ]
  },
  {
   "cell_type": "code",
   "execution_count": 9,
   "metadata": {
    "ExecuteTime": {
     "end_time": "2024-03-07T10:57:56.645933700Z",
     "start_time": "2024-03-07T10:57:56.372840Z"
    }
   },
   "outputs": [
    {
     "data": {
      "text/plain": "dtype('<U11')"
     },
     "execution_count": 9,
     "metadata": {},
     "output_type": "execute_result"
    }
   ],
   "source": [
    "a.dtype"
   ]
  },
  {
   "cell_type": "markdown",
   "metadata": {},
   "source": [
    "We can also try to modify the length of array's elements"
   ]
  },
  {
   "cell_type": "code",
   "execution_count": 10,
   "metadata": {
    "ExecuteTime": {
     "end_time": "2024-03-07T10:58:45.195569300Z",
     "start_time": "2024-03-07T10:58:44.972938400Z"
    }
   },
   "outputs": [],
   "source": [
    "a = np.array(['mary', 'had', 'a', 'little', 'lamb'])"
   ]
  },
  {
   "cell_type": "code",
   "execution_count": 11,
   "metadata": {
    "ExecuteTime": {
     "end_time": "2024-03-07T10:58:46.450226Z",
     "start_time": "2024-03-07T10:58:46.250357400Z"
    }
   },
   "outputs": [
    {
     "data": {
      "text/plain": "(dtype('<U6'), array(['mary', 'had', 'a', 'little', 'lamb'], dtype='<U6'))"
     },
     "execution_count": 11,
     "metadata": {},
     "output_type": "execute_result"
    }
   ],
   "source": [
    "a.dtype, a"
   ]
  },
  {
   "cell_type": "code",
   "execution_count": 12,
   "metadata": {
    "ExecuteTime": {
     "end_time": "2024-03-07T10:58:52.747377500Z",
     "start_time": "2024-03-07T10:58:52.564656Z"
    }
   },
   "outputs": [
    {
     "name": "stdout",
     "output_type": "stream",
     "text": [
      "['mary' 'had' 'a' 'little' 'and ve']\n"
     ]
    }
   ],
   "source": [
    "a[4] = 'and very very very very long snake'\n",
    "\n",
    "print(a)"
   ]
  },
  {
   "cell_type": "markdown",
   "metadata": {},
   "source": [
    "After an array has been created, it can be reshaped to whatever shape one desires. A special function is provided for transposing an array (changing rows into columns and vice versa)"
   ]
  },
  {
   "cell_type": "code",
   "execution_count": 13,
   "metadata": {
    "ExecuteTime": {
     "end_time": "2024-03-07T11:00:09.345875Z",
     "start_time": "2024-03-07T11:00:09.211249800Z"
    }
   },
   "outputs": [],
   "source": [
    "a = np.array([0,1,2,3,4,5,6,7,8,9,10,11])"
   ]
  },
  {
   "cell_type": "code",
   "execution_count": 14,
   "metadata": {
    "ExecuteTime": {
     "end_time": "2024-03-07T11:00:10.500930400Z",
     "start_time": "2024-03-07T11:00:10.252567Z"
    }
   },
   "outputs": [
    {
     "data": {
      "text/plain": "(12,)"
     },
     "execution_count": 14,
     "metadata": {},
     "output_type": "execute_result"
    }
   ],
   "source": [
    "a.shape"
   ]
  },
  {
   "cell_type": "code",
   "execution_count": 15,
   "metadata": {
    "ExecuteTime": {
     "end_time": "2024-03-07T11:00:11.849045300Z",
     "start_time": "2024-03-07T11:00:11.641432200Z"
    }
   },
   "outputs": [
    {
     "data": {
      "text/plain": "array([[ 0,  1,  2,  3,  4,  5,  6,  7,  8,  9, 10, 11]])"
     },
     "execution_count": 15,
     "metadata": {},
     "output_type": "execute_result"
    }
   ],
   "source": [
    "a.shape = (1, 12)\n",
    "a"
   ]
  },
  {
   "cell_type": "code",
   "execution_count": 16,
   "metadata": {
    "ExecuteTime": {
     "end_time": "2024-03-07T11:00:16.905487700Z",
     "start_time": "2024-03-07T11:00:16.469281300Z"
    }
   },
   "outputs": [],
   "source": [
    "??np.reshape"
   ]
  },
  {
   "cell_type": "code",
   "execution_count": 17,
   "metadata": {
    "ExecuteTime": {
     "end_time": "2024-03-07T11:00:37.892793600Z",
     "start_time": "2024-03-07T11:00:37.692050300Z"
    }
   },
   "outputs": [
    {
     "data": {
      "text/plain": "array([[ 0,  1,  2,  3],\n       [ 4,  5,  6,  7],\n       [ 8,  9, 10, 11]])"
     },
     "execution_count": 17,
     "metadata": {},
     "output_type": "execute_result"
    }
   ],
   "source": [
    "a = a.reshape(3, 4)\n",
    "\n",
    "a"
   ]
  },
  {
   "cell_type": "code",
   "execution_count": 18,
   "metadata": {
    "ExecuteTime": {
     "end_time": "2024-03-07T11:00:40.538175600Z",
     "start_time": "2024-03-07T11:00:40.287585400Z"
    }
   },
   "outputs": [
    {
     "data": {
      "text/plain": "array([[ 0,  4,  8],\n       [ 1,  5,  9],\n       [ 2,  6, 10],\n       [ 3,  7, 11]])"
     },
     "execution_count": 18,
     "metadata": {},
     "output_type": "execute_result"
    }
   ],
   "source": [
    "# transposition of an arary\n",
    "\n",
    "a.T"
   ]
  },
  {
   "cell_type": "markdown",
   "metadata": {},
   "source": [
    "## Creating arrays\n",
    "\n",
    "The easiest way to create a 1-d array is to use a list. If you want a 2-d array, you use a list of lists. 3-d arrays are created using a list of lists of lists. You get the gist."
   ]
  },
  {
   "cell_type": "code",
   "execution_count": 19,
   "metadata": {
    "ExecuteTime": {
     "end_time": "2024-03-07T11:00:58.825912700Z",
     "start_time": "2024-03-07T11:00:58.660236900Z"
    }
   },
   "outputs": [],
   "source": [
    "a_1d = np.array([1, 2, 3, 4])\n",
    "\n",
    "a_2d = np.array([\n",
    "    [1, 2, 3, 4],\n",
    "    [1, 4, 9, 16],\n",
    "    [1, 8, 27, 64]\n",
    "])\n",
    "\n",
    "a_3d = np.array([\n",
    "    [\n",
    "        [0, 0],\n",
    "        [0, 1],\n",
    "    ],\n",
    "    [\n",
    "        [1, 0],\n",
    "        [1, 1],\n",
    "    ],\n",
    "])"
   ]
  },
  {
   "cell_type": "code",
   "execution_count": 22,
   "metadata": {
    "ExecuteTime": {
     "end_time": "2024-03-07T11:01:30.189105600Z",
     "start_time": "2024-03-07T11:01:30.016190300Z"
    }
   },
   "outputs": [
    {
     "data": {
      "text/plain": "array([[ 1,  2,  3,  4],\n       [ 1,  4,  9, 16],\n       [ 1,  8, 27, 64]])"
     },
     "execution_count": 22,
     "metadata": {},
     "output_type": "execute_result"
    }
   ],
   "source": [
    "a_2d"
   ]
  },
  {
   "cell_type": "markdown",
   "metadata": {},
   "source": [
    "There are utility functions in the `np` module for creating popular types of arrays:\n",
    "- an array filled with zeros\n",
    "- an array filled with ones\n",
    "- an array filled with any value\n",
    "- an array of consecutive (or stepped) values\n",
    "- an array filled with random values\n",
    "- a diagonal array"
   ]
  },
  {
   "cell_type": "code",
   "execution_count": 26,
   "metadata": {
    "ExecuteTime": {
     "end_time": "2024-03-07T11:02:47.076639900Z",
     "start_time": "2024-03-07T11:02:43.124985200Z"
    }
   },
   "outputs": [
    {
     "ename": "TypeError",
     "evalue": "eye() got an unexpected keyword argument 'shape'",
     "output_type": "error",
     "traceback": [
      "\u001B[1;31m---------------------------------------------------------------------------\u001B[0m",
      "\u001B[1;31mTypeError\u001B[0m                                 Traceback (most recent call last)",
      "Cell \u001B[1;32mIn[26], line 1\u001B[0m\n\u001B[1;32m----> 1\u001B[0m \u001B[43mnp\u001B[49m\u001B[38;5;241;43m.\u001B[39;49m\u001B[43meye\u001B[49m\u001B[43m(\u001B[49m\u001B[43mshape\u001B[49m\u001B[38;5;241;43m=\u001B[39;49m\u001B[43m(\u001B[49m\u001B[38;5;241;43m3\u001B[39;49m\u001B[43m,\u001B[49m\u001B[38;5;241;43m3\u001B[39;49m\u001B[43m)\u001B[49m\u001B[43m)\u001B[49m\n",
      "\u001B[1;31mTypeError\u001B[0m: eye() got an unexpected keyword argument 'shape'"
     ]
    }
   ],
   "source": [
    "np.zeros(shape=(3,3))"
   ]
  },
  {
   "cell_type": "code",
   "execution_count": 24,
   "metadata": {
    "ExecuteTime": {
     "end_time": "2024-03-07T11:02:27.201244600Z",
     "start_time": "2024-03-07T11:02:26.975700800Z"
    }
   },
   "outputs": [
    {
     "data": {
      "text/plain": "array([[0., 0., 0., 0., 0.],\n       [0., 0., 0., 0., 0.],\n       [0., 0., 0., 0., 0.]])"
     },
     "execution_count": 24,
     "metadata": {},
     "output_type": "execute_result"
    }
   ],
   "source": [
    "np.zeros(shape=(3,5))"
   ]
  },
  {
   "cell_type": "code",
   "execution_count": 25,
   "metadata": {
    "ExecuteTime": {
     "end_time": "2024-03-07T11:02:32.281452900Z",
     "start_time": "2024-03-07T11:02:32.041601Z"
    }
   },
   "outputs": [
    {
     "data": {
      "text/plain": "array([[[1, 1, 1],\n        [1, 1, 1]],\n\n       [[1, 1, 1],\n        [1, 1, 1]],\n\n       [[1, 1, 1],\n        [1, 1, 1]]], dtype=int16)"
     },
     "execution_count": 25,
     "metadata": {},
     "output_type": "execute_result"
    }
   ],
   "source": [
    "np.ones((3,2,3), dtype=np.int16)"
   ]
  },
  {
   "cell_type": "code",
   "execution_count": 27,
   "metadata": {
    "ExecuteTime": {
     "end_time": "2024-03-07T11:03:26.081035900Z",
     "start_time": "2024-03-07T11:03:25.816765800Z"
    }
   },
   "outputs": [
    {
     "data": {
      "text/plain": "array([['mary had a little lamb', 'mary had a little lamb'],\n       ['mary had a little lamb', 'mary had a little lamb'],\n       ['mary had a little lamb', 'mary had a little lamb'],\n       ['mary had a little lamb', 'mary had a little lamb']], dtype='<U22')"
     },
     "execution_count": 27,
     "metadata": {},
     "output_type": "execute_result"
    }
   ],
   "source": [
    "np.full(shape=(4,2), fill_value='mary had a little lamb')"
   ]
  },
  {
   "cell_type": "code",
   "execution_count": null,
   "metadata": {
    "ExecuteTime": {
     "end_time": "2021-03-04T13:12:46.553556Z",
     "start_time": "2021-03-04T13:12:46.538365Z"
    }
   },
   "outputs": [],
   "source": [
    "??np.arange"
   ]
  },
  {
   "cell_type": "code",
   "execution_count": 28,
   "metadata": {
    "ExecuteTime": {
     "end_time": "2024-03-07T11:03:33.814377Z",
     "start_time": "2024-03-07T11:03:33.582235500Z"
    }
   },
   "outputs": [
    {
     "data": {
      "text/plain": "array([-2. , -1.5, -1. , -0.5,  0. ,  0.5,  1. ,  1.5])"
     },
     "execution_count": 28,
     "metadata": {},
     "output_type": "execute_result"
    }
   ],
   "source": [
    "np.arange(-2, 2, 0.5)"
   ]
  },
  {
   "cell_type": "code",
   "execution_count": null,
   "metadata": {},
   "outputs": [],
   "source": [
    "??np.random.randn"
   ]
  },
  {
   "cell_type": "code",
   "execution_count": 29,
   "metadata": {
    "ExecuteTime": {
     "end_time": "2024-03-07T11:04:26.941896900Z",
     "start_time": "2024-03-07T11:04:26.723683400Z"
    }
   },
   "outputs": [
    {
     "data": {
      "text/plain": "array([[ 0.41287774,  0.03713273, -2.22907911],\n       [-0.35766646, -0.79245354, -0.37765507],\n       [-1.072974  ,  0.6942253 , -0.08393147]])"
     },
     "execution_count": 29,
     "metadata": {},
     "output_type": "execute_result"
    }
   ],
   "source": [
    "np.random.randn(3, 3)"
   ]
  },
  {
   "cell_type": "code",
   "execution_count": 30,
   "metadata": {
    "ExecuteTime": {
     "end_time": "2024-03-07T11:05:04.513931400Z",
     "start_time": "2024-03-07T11:05:04.315174900Z"
    }
   },
   "outputs": [
    {
     "data": {
      "text/plain": "array([[1, 6, 4],\n       [6, 2, 6],\n       [6, 5, 4]])"
     },
     "execution_count": 30,
     "metadata": {},
     "output_type": "execute_result"
    }
   ],
   "source": [
    "np.random.randint(low=1, high=7, size=(3,3))"
   ]
  },
  {
   "cell_type": "code",
   "execution_count": 31,
   "metadata": {
    "ExecuteTime": {
     "end_time": "2024-03-07T11:05:10.624791800Z",
     "start_time": "2024-03-07T11:05:10.369427500Z"
    }
   },
   "outputs": [
    {
     "data": {
      "text/plain": "array([[1., 0., 0., 0., 0.],\n       [0., 1., 0., 0., 0.],\n       [0., 0., 1., 0., 0.],\n       [0., 0., 0., 1., 0.],\n       [0., 0., 0., 0., 1.]])"
     },
     "execution_count": 31,
     "metadata": {},
     "output_type": "execute_result"
    }
   ],
   "source": [
    "np.eye(5)"
   ]
  },
  {
   "cell_type": "code",
   "execution_count": 32,
   "metadata": {
    "ExecuteTime": {
     "end_time": "2024-03-07T11:05:14.684031900Z",
     "start_time": "2024-03-07T11:05:14.445516600Z"
    }
   },
   "outputs": [
    {
     "data": {
      "text/plain": "array([[1., 0., 0., 0., 0., 0., 0., 0.],\n       [0., 1., 0., 0., 0., 0., 0., 0.],\n       [0., 0., 1., 0., 0., 0., 0., 0.],\n       [0., 0., 0., 1., 0., 0., 0., 0.],\n       [0., 0., 0., 0., 1., 0., 0., 0.]])"
     },
     "execution_count": 32,
     "metadata": {},
     "output_type": "execute_result"
    }
   ],
   "source": [
    "np.eye(5, 8)"
   ]
  },
  {
   "cell_type": "markdown",
   "metadata": {},
   "source": [
    "## Indexing arrays\n",
    "\n",
    "Arrays in `NumPy` are 0-indexed. Indexing of 1-d arrays is very easy, just follow the pattern of *start*:*end*:*step*"
   ]
  },
  {
   "cell_type": "code",
   "execution_count": 33,
   "metadata": {
    "ExecuteTime": {
     "end_time": "2024-03-07T11:06:49.035586400Z",
     "start_time": "2024-03-07T11:06:48.853110400Z"
    }
   },
   "outputs": [
    {
     "name": "stdout",
     "output_type": "stream",
     "text": [
      "Full array: [0 1 2 3 4 5 6 7 8 9]\n",
      "First element: 0\n",
      "First three elements: [0 1 2]\n",
      "Last element: 9 and 9\n",
      "Even elements: [0 2 4 6 8]\n"
     ]
    }
   ],
   "source": [
    "a = np.arange(0, 10)\n",
    "\n",
    "print(f'Full array: {a}')\n",
    "print(f'First element: {a[0]}')\n",
    "print(f'First three elements: {a[0:3]}')\n",
    "print(f'Last element: {a[len(a)-1]} and {a[-1]}')\n",
    "print(f'Even elements: {a[::2]}')"
   ]
  },
  {
   "cell_type": "markdown",
   "metadata": {},
   "source": [
    "Indexing of n-dim arrays is a bit more tricky. Keep in mind that axis 0 refers to rows and axis 1 refers to columns. For high dimensional arrays try to build the following intuition:\n",
    "- 1-d: a row of values\n",
    "- 2-d: a matrix (rows and columns) of values\n",
    "- 3-d: a row of arrays\n",
    "- 4-d: a matrix of arrays\n",
    "- and so on..."
   ]
  },
  {
   "cell_type": "code",
   "execution_count": 34,
   "metadata": {
    "ExecuteTime": {
     "end_time": "2024-03-07T11:07:51.502266400Z",
     "start_time": "2024-03-07T11:07:51.282938800Z"
    }
   },
   "outputs": [
    {
     "name": "stdout",
     "output_type": "stream",
     "text": [
      "[[  1   2   3   4]\n",
      " [ 10  20  30  40]\n",
      " [100 200 300 400]]\n",
      "Element at second row, third column: 30\n",
      "Entire first row: [1 2 3 4]\n",
      "Entire first row as 2-d array: [[1 2 3 4]]\n",
      "First and second rows, last column: [ 4 40]\n"
     ]
    }
   ],
   "source": [
    "a = np.array([\n",
    "    [1, 2, 3, 4],\n",
    "    [10, 20, 30, 40],\n",
    "    [100, 200, 300, 400],\n",
    "])\n",
    "\n",
    "print(a)\n",
    "\n",
    "print(f'Element at second row, third column: {a[1,2]}')\n",
    "print(f'Entire first row: {a[0,]}')\n",
    "print(f'Entire first row as 2-d array: {a[0, None]}')\n",
    "print(f'First and second rows, last column: {a[:2,-1]}')\n"
   ]
  },
  {
   "cell_type": "markdown",
   "metadata": {},
   "source": [
    "The same goes with all n-dim arrays. For instance, let's extract first matrix, all rows, first column. You can also use indexing to assign multiple values to array cell at once."
   ]
  },
  {
   "cell_type": "code",
   "execution_count": 35,
   "metadata": {
    "ExecuteTime": {
     "end_time": "2024-03-07T11:07:58.789541300Z",
     "start_time": "2024-03-07T11:07:58.529867600Z"
    }
   },
   "outputs": [
    {
     "data": {
      "text/plain": "array([[[0, 0],\n        [0, 1]],\n\n       [[1, 0],\n        [1, 1]]])"
     },
     "execution_count": 35,
     "metadata": {},
     "output_type": "execute_result"
    }
   ],
   "source": [
    "a_3d"
   ]
  },
  {
   "cell_type": "code",
   "execution_count": 36,
   "metadata": {
    "ExecuteTime": {
     "end_time": "2024-03-07T11:07:59.014781100Z",
     "start_time": "2024-03-07T11:07:58.620746800Z"
    }
   },
   "outputs": [
    {
     "data": {
      "text/plain": "array([1, 1])"
     },
     "execution_count": 36,
     "metadata": {},
     "output_type": "execute_result"
    }
   ],
   "source": [
    "a_3d[1, :, 0]"
   ]
  },
  {
   "cell_type": "code",
   "execution_count": 37,
   "metadata": {
    "ExecuteTime": {
     "end_time": "2024-03-07T11:07:59.399026300Z",
     "start_time": "2024-03-07T11:07:58.888472Z"
    }
   },
   "outputs": [
    {
     "name": "stdout",
     "output_type": "stream",
     "text": [
      "[[[ 0  0]\n",
      "  [ 0  1]]\n",
      "\n",
      " [[ 1 -1]\n",
      "  [ 1 -1]]]\n"
     ]
    }
   ],
   "source": [
    "a_3d[1, :, 1] = -1\n",
    "\n",
    "print(a_3d)"
   ]
  },
  {
   "cell_type": "markdown",
   "metadata": {},
   "source": [
    "## Basic operations on arrays\n",
    "\n",
    "All array operations are vectorized, so they tend to be very quick. By default, `NumPy` performs element-wise array operations. If you want to correctly multiply arrays, use `@` operator as shown below."
   ]
  },
  {
   "cell_type": "code",
   "execution_count": 38,
   "metadata": {
    "ExecuteTime": {
     "end_time": "2024-03-07T11:08:09.345525100Z",
     "start_time": "2024-03-07T11:08:09.233276Z"
    }
   },
   "outputs": [],
   "source": [
    "a = np.arange(0, 12)\n",
    "b = np.arange(12, 24)\n",
    "\n",
    "a.shape = b.shape = 3, 4"
   ]
  },
  {
   "cell_type": "code",
   "execution_count": 39,
   "metadata": {
    "ExecuteTime": {
     "end_time": "2024-03-07T11:08:09.896836400Z",
     "start_time": "2024-03-07T11:08:09.453152300Z"
    }
   },
   "outputs": [
    {
     "data": {
      "text/plain": "array([[ 0,  1,  2,  3],\n       [ 4,  5,  6,  7],\n       [ 8,  9, 10, 11]])"
     },
     "execution_count": 39,
     "metadata": {},
     "output_type": "execute_result"
    }
   ],
   "source": [
    "a"
   ]
  },
  {
   "cell_type": "code",
   "execution_count": 40,
   "metadata": {
    "ExecuteTime": {
     "end_time": "2024-03-07T11:08:10.205305300Z",
     "start_time": "2024-03-07T11:08:09.586388600Z"
    }
   },
   "outputs": [
    {
     "data": {
      "text/plain": "array([[12, 13, 14, 15],\n       [16, 17, 18, 19],\n       [20, 21, 22, 23]])"
     },
     "execution_count": 40,
     "metadata": {},
     "output_type": "execute_result"
    }
   ],
   "source": [
    "b"
   ]
  },
  {
   "cell_type": "code",
   "execution_count": 41,
   "metadata": {
    "ExecuteTime": {
     "end_time": "2024-03-07T11:08:10.431727400Z",
     "start_time": "2024-03-07T11:08:09.743640700Z"
    }
   },
   "outputs": [
    {
     "data": {
      "text/plain": "array([[12, 14, 16, 18],\n       [20, 22, 24, 26],\n       [28, 30, 32, 34]])"
     },
     "execution_count": 41,
     "metadata": {},
     "output_type": "execute_result"
    }
   ],
   "source": [
    "a + b"
   ]
  },
  {
   "cell_type": "code",
   "execution_count": 42,
   "metadata": {
    "ExecuteTime": {
     "end_time": "2024-03-07T11:08:10.868530500Z",
     "start_time": "2024-03-07T11:08:09.929899500Z"
    }
   },
   "outputs": [
    {
     "data": {
      "text/plain": "array([[12, 12, 12, 12],\n       [12, 12, 12, 12],\n       [12, 12, 12, 12]])"
     },
     "execution_count": 42,
     "metadata": {},
     "output_type": "execute_result"
    }
   ],
   "source": [
    "b - a"
   ]
  },
  {
   "cell_type": "code",
   "execution_count": 43,
   "metadata": {
    "ExecuteTime": {
     "end_time": "2024-03-07T11:08:10.968421Z",
     "start_time": "2024-03-07T11:08:10.054659100Z"
    }
   },
   "outputs": [
    {
     "data": {
      "text/plain": "array([[10, 11, 12, 13],\n       [14, 15, 16, 17],\n       [18, 19, 20, 21]])"
     },
     "execution_count": 43,
     "metadata": {},
     "output_type": "execute_result"
    }
   ],
   "source": [
    "a + 10"
   ]
  },
  {
   "cell_type": "code",
   "execution_count": 44,
   "metadata": {
    "ExecuteTime": {
     "end_time": "2024-03-07T11:08:11.076257400Z",
     "start_time": "2024-03-07T11:08:10.172355400Z"
    }
   },
   "outputs": [
    {
     "data": {
      "text/plain": "((3, 4), (3, 4))"
     },
     "execution_count": 44,
     "metadata": {},
     "output_type": "execute_result"
    }
   ],
   "source": [
    "a.shape, b.shape"
   ]
  },
  {
   "cell_type": "code",
   "execution_count": 45,
   "metadata": {
    "ExecuteTime": {
     "end_time": "2024-03-07T11:08:11.249971400Z",
     "start_time": "2024-03-07T11:08:10.332307300Z"
    }
   },
   "outputs": [
    {
     "data": {
      "text/plain": "array([[ 86, 110, 134],\n       [302, 390, 478],\n       [518, 670, 822]])"
     },
     "execution_count": 45,
     "metadata": {},
     "output_type": "execute_result"
    }
   ],
   "source": [
    "a @ b.T "
   ]
  },
  {
   "cell_type": "markdown",
   "metadata": {},
   "source": [
    "## Exercises"
   ]
  },
  {
   "cell_type": "markdown",
   "metadata": {},
   "source": [
    "### Calculating sliding averages\n",
    "\n",
    "Given an array of daily measurements, create a new array with averages computed over each pair of consecutive days"
   ]
  },
  {
   "cell_type": "code",
   "execution_count": 50,
   "metadata": {
    "ExecuteTime": {
     "end_time": "2024-03-07T11:29:21.072740500Z",
     "start_time": "2024-03-07T11:29:20.939561900Z"
    }
   },
   "outputs": [
    {
     "name": "stdout",
     "output_type": "stream",
     "text": [
      "[ 0.5  1.5  2.5  3.5  4.5  5.5  6.5  7.5  8.5  9.5 10.5 11.5 12.5 13.5\n",
      " 14.5 15.5 16.5 17.5 18.5 19.5 20.5 21.5 22.5 23.5 24.5 25.5 26.5 27.5\n",
      " 28.5 29.5 30.5 31.5 32.5 33.5 34.5 35.5 36.5 37.5 38.5 39.5 40.5 41.5\n",
      " 42.5 43.5 44.5 45.5 46.5 47.5 48.5 49.5 50.5 51.5 52.5 53.5 54.5 55.5\n",
      " 56.5 57.5 58.5 59.5 60.5 61.5 62.5 63.5 64.5 65.5 66.5 67.5 68.5 69.5\n",
      " 70.5 71.5 72.5 73.5 74.5 75.5 76.5 77.5 78.5 79.5 80.5 81.5 82.5 83.5\n",
      " 84.5 85.5 86.5 87.5 88.5 89.5 90.5 91.5 92.5 93.5 94.5 95.5 96.5 97.5\n",
      " 98.5]\n",
      "[ 0.5  1.5  2.5  3.5  4.5  5.5  6.5  7.5  8.5  9.5 10.5 11.5 12.5 13.5\n",
      " 14.5 15.5 16.5 17.5 18.5 19.5 20.5 21.5 22.5 23.5 24.5 25.5 26.5 27.5\n",
      " 28.5 29.5 30.5 31.5 32.5 33.5 34.5 35.5 36.5 37.5 38.5 39.5 40.5 41.5\n",
      " 42.5 43.5 44.5 45.5 46.5 47.5 48.5 49.5 50.5 51.5 52.5 53.5 54.5 55.5\n",
      " 56.5 57.5 58.5 59.5 60.5 61.5 62.5 63.5 64.5 65.5 66.5 67.5 68.5 69.5\n",
      " 70.5 71.5 72.5 73.5 74.5 75.5 76.5 77.5 78.5 79.5 80.5 81.5 82.5 83.5\n",
      " 84.5 85.5 86.5 87.5 88.5 89.5 90.5 91.5 92.5 93.5 94.5 95.5 96.5 97.5\n",
      " 98.5]\n"
     ]
    }
   ],
   "source": [
    "measurements = np.arange(100)\n",
    "avgs = np.convolve(measurements, [0.5, 0.5], mode='valid')\n",
    "\n",
    "print(avgs)\n",
    "\n",
    "\n",
    "left = measurements[1:]\n",
    "right = measurements[:-1]\n",
    "avgs = left + right\n",
    "avgs = avgs /2\n",
    "print(avgs)"
   ]
  },
  {
   "cell_type": "markdown",
   "metadata": {},
   "source": [
    "### Battleships\n",
    "\n",
    "Given a 10x10 playing field with hidden battleships and a list of shooting targets, compute the number of hits."
   ]
  },
  {
   "cell_type": "code",
   "execution_count": 51,
   "metadata": {
    "ExecuteTime": {
     "end_time": "2024-03-07T11:29:36.951305600Z",
     "start_time": "2024-03-07T11:29:36.732433700Z"
    }
   },
   "outputs": [
    {
     "data": {
      "text/plain": "array([[1, 0, 0, 1, 1, 1, 1, 1, 1, 1],\n       [1, 0, 1, 1, 0, 0, 1, 1, 0, 1],\n       [1, 0, 0, 0, 0, 0, 1, 1, 1, 0],\n       [0, 1, 0, 1, 1, 1, 1, 0, 1, 1],\n       [1, 0, 0, 1, 0, 1, 0, 0, 0, 0],\n       [0, 1, 0, 0, 0, 0, 0, 0, 1, 1],\n       [0, 1, 1, 0, 1, 1, 1, 1, 0, 0],\n       [1, 0, 1, 0, 0, 0, 0, 0, 1, 0],\n       [1, 1, 1, 0, 1, 1, 1, 1, 0, 1],\n       [1, 1, 0, 1, 1, 1, 1, 1, 0, 1]])"
     },
     "execution_count": 51,
     "metadata": {},
     "output_type": "execute_result"
    }
   ],
   "source": [
    "sea = np.random.randint(low=0, high=2, size=(10,10))\n",
    "\n",
    "sea"
   ]
  },
  {
   "cell_type": "code",
   "execution_count": 53,
   "metadata": {
    "ExecuteTime": {
     "end_time": "2024-03-07T11:32:15.182514500Z",
     "start_time": "2024-03-07T11:32:14.865543100Z"
    }
   },
   "outputs": [
    {
     "data": {
      "text/plain": "4"
     },
     "execution_count": 53,
     "metadata": {},
     "output_type": "execute_result"
    }
   ],
   "source": [
    "targets = np.array([\n",
    "    [0,3],\n",
    "    [1,7],\n",
    "    [2,2],\n",
    "    [3,5],\n",
    "    [8,2]\n",
    "])\n",
    "\n",
    "sea[targets[:, 0], targets[:,1]].sum()"
   ]
  },
  {
   "cell_type": "markdown",
   "metadata": {},
   "source": [
    "## Broadcasting\n",
    "\n",
    "This is by far the most important concept in `NumPy`. Broadcasting is an automatic expansion of arrays so that they match with their operands.\n",
    "\n",
    "Let's start with the simplest example."
   ]
  },
  {
   "cell_type": "code",
   "execution_count": 54,
   "metadata": {
    "ExecuteTime": {
     "end_time": "2024-03-07T11:32:23.790787700Z",
     "start_time": "2024-03-07T11:32:23.650495800Z"
    }
   },
   "outputs": [
    {
     "data": {
      "text/plain": "array([10, 11, 12, 13, 14, 15, 16, 17, 18, 19])"
     },
     "execution_count": 54,
     "metadata": {},
     "output_type": "execute_result"
    }
   ],
   "source": [
    "a = np.arange(10)\n",
    "\n",
    "a + 10"
   ]
  },
  {
   "cell_type": "markdown",
   "metadata": {},
   "source": [
    "The same happens for 2-d arrays"
   ]
  },
  {
   "cell_type": "code",
   "execution_count": 55,
   "metadata": {
    "ExecuteTime": {
     "end_time": "2024-03-07T11:32:31.535626100Z",
     "start_time": "2024-03-07T11:32:31.290031300Z"
    }
   },
   "outputs": [],
   "source": [
    "a = np.array([\n",
    "    [1, 2, 3, 4],\n",
    "    [1, 4, 9, 16],\n",
    "])\n",
    "\n",
    "b = np.array([\n",
    "    [0.1, 0.2]]\n",
    ")"
   ]
  },
  {
   "cell_type": "code",
   "execution_count": 56,
   "metadata": {
    "ExecuteTime": {
     "end_time": "2024-03-07T11:32:33.025263Z",
     "start_time": "2024-03-07T11:32:32.844019100Z"
    }
   },
   "outputs": [
    {
     "data": {
      "text/plain": "((2, 4), (2, 1))"
     },
     "execution_count": 56,
     "metadata": {},
     "output_type": "execute_result"
    }
   ],
   "source": [
    "a.shape, b.T.shape"
   ]
  },
  {
   "cell_type": "code",
   "execution_count": 57,
   "metadata": {
    "ExecuteTime": {
     "end_time": "2024-03-07T11:32:35.579871800Z",
     "start_time": "2024-03-07T11:32:35.393606400Z"
    }
   },
   "outputs": [
    {
     "data": {
      "text/plain": "array([[ 1.1,  2.1,  3.1,  4.1],\n       [ 1.2,  4.2,  9.2, 16.2]])"
     },
     "execution_count": 57,
     "metadata": {},
     "output_type": "execute_result"
    }
   ],
   "source": [
    "a + b.T"
   ]
  },
  {
   "cell_type": "markdown",
   "metadata": {},
   "source": [
    "The simple rule for broadcasting is the following:\n",
    "\n",
    "If we want to operate on two arrays `a` and `b`:\n",
    "- moving backwards from the last dimension of each array, we check if their dimensions are the same or one equals 1\n",
    "- if all of `a`'s dimensions are compatible with `b`'s dimensions, arrays `a` and `b` are compatible."
   ]
  },
  {
   "cell_type": "code",
   "execution_count": 58,
   "metadata": {
    "ExecuteTime": {
     "end_time": "2024-03-07T11:32:48.292235800Z",
     "start_time": "2024-03-07T11:32:48.081514800Z"
    }
   },
   "outputs": [
    {
     "name": "stdout",
     "output_type": "stream",
     "text": [
      "[[4 7 6 5]\n",
      " [9 2 8 7]\n",
      " [9 1 6 1]]\n",
      "[[7]\n",
      " [3]\n",
      " [1]]\n"
     ]
    }
   ],
   "source": [
    "np.random.seed(1234)\n",
    "\n",
    "a = np.random.randint(low = 1, high = 10, size = (3, 4))\n",
    "print(a)\n",
    "\n",
    "b = np.random.randint(low = 1, high = 10, size = (3, 1))\n",
    "print(b)"
   ]
  },
  {
   "cell_type": "code",
   "execution_count": 59,
   "metadata": {
    "ExecuteTime": {
     "end_time": "2024-03-07T11:32:51.972786700Z",
     "start_time": "2024-03-07T11:32:51.812734700Z"
    }
   },
   "outputs": [
    {
     "data": {
      "text/plain": "array([[11, 14, 13, 12],\n       [12,  5, 11, 10],\n       [10,  2,  7,  2]])"
     },
     "execution_count": 59,
     "metadata": {},
     "output_type": "execute_result"
    }
   ],
   "source": [
    "a + b"
   ]
  },
  {
   "cell_type": "code",
   "execution_count": 60,
   "metadata": {
    "ExecuteTime": {
     "end_time": "2024-03-07T11:33:00.221167100Z",
     "start_time": "2024-03-07T11:33:00.011472200Z"
    }
   },
   "outputs": [
    {
     "name": "stdout",
     "output_type": "stream",
     "text": [
      "[[[4 7 6 5]]\n",
      "\n",
      " [[9 2 8 7]]\n",
      "\n",
      " [[9 1 6 1]]]\n",
      "[[7]\n",
      " [3]]\n"
     ]
    }
   ],
   "source": [
    "np.random.seed(1234)\n",
    "\n",
    "a = np.random.randint(low = 1, high = 10, size = (3, 1, 4))\n",
    "print(a)\n",
    "\n",
    "b = np.random.randint(low = 1, high = 10, size = (2, 1))\n",
    "print(b)"
   ]
  },
  {
   "cell_type": "code",
   "execution_count": 62,
   "metadata": {
    "ExecuteTime": {
     "end_time": "2024-03-07T11:33:34.131086500Z",
     "start_time": "2024-03-07T11:33:33.907736700Z"
    }
   },
   "outputs": [
    {
     "data": {
      "text/plain": "array([[[11, 14, 13, 12],\n        [ 7, 10,  9,  8]],\n\n       [[16,  9, 15, 14],\n        [12,  5, 11, 10]],\n\n       [[16,  8, 13,  8],\n        [12,  4,  9,  4]]])"
     },
     "execution_count": 62,
     "metadata": {},
     "output_type": "execute_result"
    }
   ],
   "source": [
    "(a + b).shape"
   ]
  },
  {
   "cell_type": "markdown",
   "metadata": {},
   "source": [
    "Sometimes it is useful to be able to manually modify the shape of the array. This can be done using the `np.newaxis` function (which is simply an alias for the `None` keyword)"
   ]
  },
  {
   "cell_type": "code",
   "execution_count": 63,
   "metadata": {
    "ExecuteTime": {
     "end_time": "2024-03-07T11:34:55.461771200Z",
     "start_time": "2024-03-07T11:34:55.296049800Z"
    }
   },
   "outputs": [],
   "source": [
    "a = np.array([1, 2, 3, 5, 7, 11, 13])"
   ]
  },
  {
   "cell_type": "code",
   "execution_count": 64,
   "metadata": {
    "ExecuteTime": {
     "end_time": "2024-03-07T11:34:56.735712100Z",
     "start_time": "2024-03-07T11:34:56.551402600Z"
    }
   },
   "outputs": [
    {
     "data": {
      "text/plain": "(7,)"
     },
     "execution_count": 64,
     "metadata": {},
     "output_type": "execute_result"
    }
   ],
   "source": [
    "a.shape"
   ]
  },
  {
   "cell_type": "code",
   "execution_count": 65,
   "metadata": {
    "ExecuteTime": {
     "end_time": "2024-03-07T11:34:58.668890300Z",
     "start_time": "2024-03-07T11:34:58.462196200Z"
    }
   },
   "outputs": [
    {
     "data": {
      "text/plain": "(7, 1)"
     },
     "execution_count": 65,
     "metadata": {},
     "output_type": "execute_result"
    }
   ],
   "source": [
    "a[:, np.newaxis].shape"
   ]
  },
  {
   "cell_type": "code",
   "execution_count": 66,
   "metadata": {
    "ExecuteTime": {
     "end_time": "2024-03-07T11:35:01.334105600Z",
     "start_time": "2024-03-07T11:35:01.137565300Z"
    }
   },
   "outputs": [
    {
     "data": {
      "text/plain": "(1, 7)"
     },
     "execution_count": 66,
     "metadata": {},
     "output_type": "execute_result"
    }
   ],
   "source": [
    "a[None, :].shape"
   ]
  },
  {
   "cell_type": "markdown",
   "metadata": {},
   "source": [
    "This can be very useful if one wants to build an array containing the results of a cross-join operation on two matrices. Suppose we are trying to create $c_{ij} = a_i - b_j$."
   ]
  },
  {
   "cell_type": "code",
   "execution_count": 67,
   "metadata": {
    "ExecuteTime": {
     "end_time": "2024-03-07T11:35:11.071565100Z",
     "start_time": "2024-03-07T11:35:10.956876300Z"
    }
   },
   "outputs": [
    {
     "name": "stdout",
     "output_type": "stream",
     "text": [
      "[[ 1  0 -1 -2 -3 -4 -5]\n",
      " [ 2  1  0 -1 -2 -3 -4]\n",
      " [ 3  2  1  0 -1 -2 -3]\n",
      " [ 5  4  3  2  1  0 -1]\n",
      " [ 7  6  5  4  3  2  1]\n",
      " [11 10  9  8  7  6  5]\n",
      " [13 12 11 10  9  8  7]]\n"
     ]
    }
   ],
   "source": [
    "b = np.arange(7)\n",
    "\n",
    "c = a[:, None] - b[None, :]\n",
    "\n",
    "print(c)"
   ]
  },
  {
   "cell_type": "markdown",
   "metadata": {},
   "source": [
    "## Boolean indexing\n",
    "\n",
    "Anytime you have a boolean array, you can use it to mask entries in another array."
   ]
  },
  {
   "cell_type": "code",
   "execution_count": 68,
   "metadata": {
    "ExecuteTime": {
     "end_time": "2024-03-07T11:36:17.859587200Z",
     "start_time": "2024-03-07T11:36:17.678547600Z"
    }
   },
   "outputs": [
    {
     "data": {
      "text/plain": "array([[76, 37, 34, 38, 67],\n       [11,  0, 75, 80,  3],\n       [ 2, 19, 12, 65, 75],\n       [81, 14, 71, 60, 46],\n       [28, 81, 87, 13, 96]])"
     },
     "execution_count": 68,
     "metadata": {},
     "output_type": "execute_result"
    }
   ],
   "source": [
    "a = np.random.randint(0, 100, size=(5,5))\n",
    "\n",
    "a"
   ]
  },
  {
   "cell_type": "code",
   "execution_count": 69,
   "metadata": {
    "ExecuteTime": {
     "end_time": "2024-03-07T11:36:24.314821900Z",
     "start_time": "2024-03-07T11:36:24.122945300Z"
    }
   },
   "outputs": [],
   "source": [
    "temps_greater_than_50 = a > 50"
   ]
  },
  {
   "cell_type": "code",
   "execution_count": 70,
   "metadata": {
    "ExecuteTime": {
     "end_time": "2024-03-07T11:36:26.069002100Z",
     "start_time": "2024-03-07T11:36:25.815081100Z"
    }
   },
   "outputs": [
    {
     "data": {
      "text/plain": "array([76, 67, 75, 80, 65, 75, 81, 71, 60, 81, 87, 96])"
     },
     "execution_count": 70,
     "metadata": {},
     "output_type": "execute_result"
    }
   ],
   "source": [
    "a[temps_greater_than_50]"
   ]
  },
  {
   "cell_type": "markdown",
   "metadata": {},
   "source": [
    "Boolean masking may be applied not only to values, but to rows and columns as well. Just remember to use slicing:\n",
    "\n",
    "*array*[*row_mask*,*col_mask*]"
   ]
  },
  {
   "cell_type": "code",
   "execution_count": 71,
   "metadata": {
    "ExecuteTime": {
     "end_time": "2024-03-07T11:36:37.643847300Z",
     "start_time": "2024-03-07T11:36:37.360021100Z"
    }
   },
   "outputs": [],
   "source": [
    "rows_2_and_4 = np.array([False, True, False, True, False])\n",
    "cols_1_and_2 = np.array([True, True, False, False, False])"
   ]
  },
  {
   "cell_type": "code",
   "execution_count": 72,
   "metadata": {
    "ExecuteTime": {
     "end_time": "2024-03-07T11:36:39.158630800Z",
     "start_time": "2024-03-07T11:36:38.908904Z"
    }
   },
   "outputs": [
    {
     "data": {
      "text/plain": "array([[11,  0, 75, 80,  3],\n       [81, 14, 71, 60, 46]])"
     },
     "execution_count": 72,
     "metadata": {},
     "output_type": "execute_result"
    }
   ],
   "source": [
    "a[rows_2_and_4]"
   ]
  },
  {
   "cell_type": "code",
   "execution_count": 73,
   "metadata": {
    "ExecuteTime": {
     "end_time": "2024-03-07T11:36:49.870774200Z",
     "start_time": "2024-03-07T11:36:49.658909700Z"
    }
   },
   "outputs": [
    {
     "data": {
      "text/plain": "array([11, 14])"
     },
     "execution_count": 73,
     "metadata": {},
     "output_type": "execute_result"
    }
   ],
   "source": [
    "a[rows_2_and_4, cols_1_and_2]"
   ]
  },
  {
   "cell_type": "code",
   "execution_count": 74,
   "metadata": {
    "ExecuteTime": {
     "end_time": "2024-03-07T11:36:59.357306Z",
     "start_time": "2024-03-07T11:36:59.081559800Z"
    }
   },
   "outputs": [],
   "source": [
    "names = np.array([\"Dennis\", \"Dee\", \"Charlie\", \"Mac\", \"Frank\"])\n",
    "ages = np.array([43, 44, 43, 42, 74])\n",
    "genders = np.array(['male', 'female', 'male', 'male', 'male'])"
   ]
  },
  {
   "cell_type": "code",
   "execution_count": 75,
   "metadata": {
    "ExecuteTime": {
     "end_time": "2024-03-07T11:37:12.026642800Z",
     "start_time": "2024-03-07T11:37:11.647643200Z"
    }
   },
   "outputs": [
    {
     "data": {
      "text/plain": "array(['Frank'], dtype='<U7')"
     },
     "execution_count": 75,
     "metadata": {},
     "output_type": "execute_result"
    }
   ],
   "source": [
    "names[(genders == 'male') & (ages > 43)]"
   ]
  },
  {
   "cell_type": "code",
   "execution_count": 76,
   "metadata": {
    "ExecuteTime": {
     "end_time": "2024-03-07T11:37:15.195970500Z",
     "start_time": "2024-03-07T11:37:14.853445200Z"
    }
   },
   "outputs": [
    {
     "data": {
      "text/plain": "array(['Dee'], dtype='<U7')"
     },
     "execution_count": 76,
     "metadata": {},
     "output_type": "execute_result"
    }
   ],
   "source": [
    "names[~(genders == 'male') & (ages % 2 == 0)]"
   ]
  },
  {
   "cell_type": "markdown",
   "metadata": {},
   "source": [
    "## `Random` module\n",
    "\n",
    "One of the most frequently used parts of the `NumPy` is the random number generation procedure. Below you can see examples of different samples:\n",
    "- normal sample\n",
    "- uniform sample\n",
    "- choosing from a set with/without replacement"
   ]
  },
  {
   "cell_type": "code",
   "execution_count": 77,
   "metadata": {
    "ExecuteTime": {
     "end_time": "2024-03-07T11:40:01.813164600Z",
     "start_time": "2024-03-07T11:40:01.625644800Z"
    }
   },
   "outputs": [
    {
     "data": {
      "text/plain": "array([[ 7.77254312,  9.32518006, 11.01484933],\n       [ 9.44297546,  9.57539397, 10.13749589],\n       [ 9.92948695, 10.32539432,  9.52647845]])"
     },
     "execution_count": 77,
     "metadata": {},
     "output_type": "execute_result"
    }
   ],
   "source": [
    "np.random.normal(loc=10.0, scale=1.0, size=(3,3))"
   ]
  },
  {
   "cell_type": "code",
   "execution_count": 78,
   "metadata": {
    "ExecuteTime": {
     "end_time": "2024-03-07T11:40:04.343334100Z",
     "start_time": "2024-03-07T11:40:03.999590500Z"
    }
   },
   "outputs": [
    {
     "data": {
      "text/plain": "array([[12, 15, 16],\n       [17, 14, 13],\n       [15, 16, 14]])"
     },
     "execution_count": 78,
     "metadata": {},
     "output_type": "execute_result"
    }
   ],
   "source": [
    "np.random.randint(low=10, high=20, size=(3,3))"
   ]
  },
  {
   "cell_type": "code",
   "execution_count": 79,
   "metadata": {
    "ExecuteTime": {
     "end_time": "2024-03-07T11:40:09.296265500Z",
     "start_time": "2024-03-07T11:40:09.116647500Z"
    }
   },
   "outputs": [
    {
     "data": {
      "text/plain": "array([0.32815036, 0.47386   , 0.06808472, 0.3827107 , 0.11855414])"
     },
     "execution_count": 79,
     "metadata": {},
     "output_type": "execute_result"
    }
   ],
   "source": [
    "np.random.uniform(low=0, high=1, size=5)"
   ]
  },
  {
   "cell_type": "code",
   "execution_count": 80,
   "metadata": {
    "ExecuteTime": {
     "end_time": "2024-03-07T11:40:14.536277400Z",
     "start_time": "2024-03-07T11:40:14.379999700Z"
    }
   },
   "outputs": [
    {
     "data": {
      "text/plain": "array([4, 3, 2, 5, 2, 1, 2, 3, 2, 3])"
     },
     "execution_count": 80,
     "metadata": {},
     "output_type": "execute_result"
    }
   ],
   "source": [
    "np.random.choice(\n",
    "    a=[1,2,3,4,5,6],\n",
    "    replace=True,\n",
    "    size=10\n",
    ")"
   ]
  },
  {
   "cell_type": "code",
   "execution_count": 81,
   "metadata": {
    "ExecuteTime": {
     "end_time": "2024-03-07T11:40:34.009990500Z",
     "start_time": "2024-03-07T11:40:33.853682800Z"
    }
   },
   "outputs": [
    {
     "data": {
      "text/plain": "array(['is', 'sampling', 'is', 'is', 'replacement', 'is', 'sampling',\n       'replacement'], dtype='<U11')"
     },
     "execution_count": 81,
     "metadata": {},
     "output_type": "execute_result"
    }
   ],
   "source": [
    "np.random.choice(\n",
    "    a=['this','is','sampling','without','replacement'],\n",
    "    replace=True,\n",
    "    size=8\n",
    ")"
   ]
  },
  {
   "cell_type": "markdown",
   "metadata": {},
   "source": [
    "Despite the fact that most people use the `random` module as above, this way is in fact deprecated, because it introduces a dependency on the random number generator used currently by `NumPy`. In theory, if `NumPy` changes the generator, all the code becomes non-reproducible.\n",
    "A simple solution is to use the generic `Generator` class."
   ]
  },
  {
   "cell_type": "code",
   "execution_count": 82,
   "metadata": {
    "ExecuteTime": {
     "end_time": "2024-03-07T11:41:31.829808900Z",
     "start_time": "2024-03-07T11:41:31.620265200Z"
    }
   },
   "outputs": [],
   "source": [
    "generator = np.random.default_rng(seed=123)"
   ]
  },
  {
   "cell_type": "code",
   "execution_count": 83,
   "metadata": {
    "ExecuteTime": {
     "end_time": "2024-03-07T11:41:33.282564900Z",
     "start_time": "2024-03-07T11:41:33.048174200Z"
    }
   },
   "outputs": [
    {
     "data": {
      "text/plain": "array([ 2, 68, 59,  6, 90, 22, 26, 19, 34, 18], dtype=int64)"
     },
     "execution_count": 83,
     "metadata": {},
     "output_type": "execute_result"
    }
   ],
   "source": [
    "generator.integers(low=1, high=100, size=10)"
   ]
  },
  {
   "cell_type": "code",
   "execution_count": 84,
   "metadata": {
    "ExecuteTime": {
     "end_time": "2024-03-07T11:41:40.788065400Z",
     "start_time": "2024-03-07T11:41:40.567323200Z"
    }
   },
   "outputs": [
    {
     "data": {
      "text/plain": "array([ 0.57710379, -0.63646365,  0.54195222, -0.31659545, -0.32238912,\n        0.09716732, -1.52593041,  1.1921661 , -0.67108968,  1.00026942])"
     },
     "execution_count": 84,
     "metadata": {},
     "output_type": "execute_result"
    }
   ],
   "source": [
    "generator.normal(loc=0, scale=1, size=10)"
   ]
  },
  {
   "cell_type": "code",
   "execution_count": 85,
   "metadata": {
    "ExecuteTime": {
     "end_time": "2024-03-07T11:41:42.703480Z",
     "start_time": "2024-03-07T11:41:42.594058700Z"
    }
   },
   "outputs": [
    {
     "data": {
      "text/plain": "array([1, 2, 2, 3, 3, 1, 3, 3, 1, 2])"
     },
     "execution_count": 85,
     "metadata": {},
     "output_type": "execute_result"
    }
   ],
   "source": [
    "generator.choice(a=[1,2,3], replace=True, size=10)"
   ]
  },
  {
   "cell_type": "markdown",
   "metadata": {},
   "source": [
    "## Exercises"
   ]
  },
  {
   "cell_type": "markdown",
   "metadata": {},
   "source": [
    "### Two reviewers\n",
    "\n",
    "You are given two arrays representing ratings assigned to 100 movies by two reviewers. Identify movies such that the reviewers differ in their rating by at most 1."
   ]
  },
  {
   "cell_type": "code",
   "execution_count": 113,
   "metadata": {
    "ExecuteTime": {
     "end_time": "2024-03-07T11:52:18.530505400Z",
     "start_time": "2024-03-07T11:52:18.288816300Z"
    }
   },
   "outputs": [
    {
     "data": {
      "text/plain": "array([ 1,  6,  7,  9, 10, 13, 14, 15, 16, 17, 19, 20, 29, 30, 33, 35, 36,\n       38, 39, 41, 42, 48, 50, 51, 53, 55, 57, 59, 60, 62, 63, 66, 67, 68,\n       69, 70, 73, 75, 76, 77, 79, 81, 82, 83, 84, 85, 89, 91, 96, 97, 98])"
     },
     "execution_count": 113,
     "metadata": {},
     "output_type": "execute_result"
    }
   ],
   "source": [
    "movies = np.arange(100)\n",
    "reviewer_a = np.random.choice(a=[1,2,3,4,5], size=100)\n",
    "reviewer_b = np.random.choice(a=[1,2,3,4,5], size=100)\n",
    "\n",
    "movies[np.abs(reviewer_a-reviewer_b)<=1]"
   ]
  },
  {
   "cell_type": "markdown",
   "metadata": {},
   "source": [
    "## Using `where`\n",
    "\n",
    "`np.where` is a very useful function which allows to quickly filter elements of an array based on the condition. Imagine you have two large arrays and you want to create a third array such that it contains, for each cell, the larger value from the two arrays. First, let's do it in a traditional way."
   ]
  },
  {
   "cell_type": "code",
   "execution_count": 86,
   "metadata": {
    "ExecuteTime": {
     "end_time": "2024-03-07T11:43:11.473057200Z",
     "start_time": "2024-03-07T11:43:11.329121200Z"
    }
   },
   "outputs": [],
   "source": [
    "a = np.random.randint(1, 6, size=10**6)\n",
    "b = np.random.randint(1, 6, size=10**6)"
   ]
  },
  {
   "cell_type": "code",
   "execution_count": 87,
   "metadata": {
    "ExecuteTime": {
     "end_time": "2024-03-07T11:43:19.777717300Z",
     "start_time": "2024-03-07T11:43:17.527228700Z"
    }
   },
   "outputs": [
    {
     "name": "stdout",
     "output_type": "stream",
     "text": [
      "CPU times: total: 1.41 s\n",
      "Wall time: 2.05 s\n"
     ]
    }
   ],
   "source": [
    "%%time\n",
    "c = np.zeros(a.size)\n",
    "\n",
    "for i in range(a.size):\n",
    "    if a[i] > b[i]:\n",
    "        c[i] = a[i]\n",
    "    else:\n",
    "        c[i] = b[i]\n"
   ]
  },
  {
   "cell_type": "code",
   "execution_count": 88,
   "metadata": {
    "ExecuteTime": {
     "end_time": "2024-03-07T11:43:24.042350100Z",
     "start_time": "2024-03-07T11:43:23.839198100Z"
    }
   },
   "outputs": [
    {
     "name": "stdout",
     "output_type": "stream",
     "text": [
      "CPU times: total: 0 ns\n",
      "Wall time: 0 ns\n"
     ]
    }
   ],
   "source": [
    "%%time\n",
    "d = np.where(a > b, a, b)"
   ]
  },
  {
   "cell_type": "code",
   "execution_count": 89,
   "metadata": {
    "ExecuteTime": {
     "end_time": "2024-03-07T11:43:30.275215200Z",
     "start_time": "2024-03-07T11:43:30.072083700Z"
    }
   },
   "outputs": [
    {
     "data": {
      "text/plain": "True"
     },
     "execution_count": 89,
     "metadata": {},
     "output_type": "execute_result"
    }
   ],
   "source": [
    "np.array_equal(c,d)"
   ]
  },
  {
   "cell_type": "markdown",
   "metadata": {},
   "source": [
    "## Exercises"
   ]
  },
  {
   "cell_type": "markdown",
   "metadata": {},
   "source": [
    "### First to finish the assignment\n",
    "\n",
    "Given an array with students' assignments ordered by the increasing date of submission, you want to reward first 3 students who submitted their work and who got at least 75 points. Increase their scores by 5 points."
   ]
  },
  {
   "cell_type": "code",
   "execution_count": 117,
   "metadata": {
    "ExecuteTime": {
     "end_time": "2024-03-07T11:57:56.998146200Z",
     "start_time": "2024-03-07T11:57:56.841899100Z"
    }
   },
   "outputs": [
    {
     "name": "stdout",
     "output_type": "stream",
     "text": [
      "[1 2 5]\n"
     ]
    },
    {
     "data": {
      "text/plain": "array([ 16, 103,  88,  28,  61,  82,  56,  83,  48,  59,  92,   2,  39,\n        43,  90,  20,  93,   8,  41,  11,  66,  30,  10,  73,  82,  26,\n        41,  78,  16,  23,  84,  55,  81,  47,  20,  10,  80,   2,  77,\n        62,  58,  77,  16,  95,   0,  11,  26,  69,  50,  78])"
     },
     "execution_count": 117,
     "metadata": {},
     "output_type": "execute_result"
    }
   ],
   "source": [
    "grades = np.random.randint(low=0, high=100, size=50)\n",
    "high = (np.where(grades>=75))[0][:3]\n",
    "print(high)\n",
    "grades[high]+=5\n",
    "grades"
   ]
  },
  {
   "cell_type": "markdown",
   "metadata": {},
   "source": [
    "## Math functions\n",
    "\n",
    "`NumPy` contains several highly optimized implementations of math functions. Whenever possible, try to use them instead of your own implementations. Remember, that math functions are easily generalized to n-dim arrays."
   ]
  },
  {
   "cell_type": "code",
   "execution_count": 120,
   "metadata": {
    "ExecuteTime": {
     "end_time": "2024-03-07T11:59:58.738702800Z",
     "start_time": "2024-03-07T11:59:58.444358800Z"
    }
   },
   "outputs": [],
   "source": [
    "a = np.array([\n",
    "    [1, 2, 3, 4],\n",
    "    [5, 6, 7, 8],\n",
    "    [9, 10, 11, 12],\n",
    "    [13, 14, 15, 16],\n",
    "], dtype=np.float64)"
   ]
  },
  {
   "cell_type": "code",
   "execution_count": 121,
   "metadata": {
    "ExecuteTime": {
     "end_time": "2024-03-07T12:00:00.525681100Z",
     "start_time": "2024-03-07T12:00:00.306936500Z"
    }
   },
   "outputs": [
    {
     "data": {
      "text/plain": "array([[ 1.,  2.,  3.,  4.],\n       [ 5.,  6.,  7.,  8.],\n       [ 9., 10., 11., 12.],\n       [13., 14., 15., 16.]])"
     },
     "execution_count": 121,
     "metadata": {},
     "output_type": "execute_result"
    }
   ],
   "source": [
    "a"
   ]
  },
  {
   "cell_type": "code",
   "execution_count": 122,
   "metadata": {
    "ExecuteTime": {
     "end_time": "2024-03-07T12:00:01.852373800Z",
     "start_time": "2024-03-07T12:00:01.602372200Z"
    }
   },
   "outputs": [
    {
     "data": {
      "text/plain": "136.0"
     },
     "execution_count": 122,
     "metadata": {},
     "output_type": "execute_result"
    }
   ],
   "source": [
    "np.sum(a)"
   ]
  },
  {
   "cell_type": "code",
   "execution_count": 123,
   "metadata": {
    "ExecuteTime": {
     "end_time": "2024-03-07T12:00:03.320097900Z",
     "start_time": "2024-03-07T12:00:03.085710300Z"
    }
   },
   "outputs": [
    {
     "data": {
      "text/plain": "array([28., 32., 36., 40.])"
     },
     "execution_count": 123,
     "metadata": {},
     "output_type": "execute_result"
    }
   ],
   "source": [
    "np.sum(a, axis=0)"
   ]
  },
  {
   "cell_type": "code",
   "execution_count": 124,
   "metadata": {
    "ExecuteTime": {
     "end_time": "2024-03-07T12:00:07.596372700Z",
     "start_time": "2024-03-07T12:00:07.418992300Z"
    }
   },
   "outputs": [
    {
     "data": {
      "text/plain": "array([10., 26., 42., 58.])"
     },
     "execution_count": 124,
     "metadata": {},
     "output_type": "execute_result"
    }
   ],
   "source": [
    "np.sum(a, axis=1)"
   ]
  },
  {
   "cell_type": "markdown",
   "metadata": {},
   "source": [
    "But beware of `nan`s, as they tend to destroy all math!"
   ]
  },
  {
   "cell_type": "code",
   "execution_count": 125,
   "metadata": {
    "ExecuteTime": {
     "end_time": "2024-03-07T12:00:18.647082Z",
     "start_time": "2024-03-07T12:00:18.320770600Z"
    }
   },
   "outputs": [
    {
     "data": {
      "text/plain": "array([[ 1.,  2.,  3.,  4.],\n       [ 5.,  6.,  7.,  8.],\n       [ 9., 10., 11., 12.],\n       [13., 14., 15., 16.]])"
     },
     "execution_count": 125,
     "metadata": {},
     "output_type": "execute_result"
    }
   ],
   "source": [
    "a"
   ]
  },
  {
   "cell_type": "code",
   "execution_count": 126,
   "metadata": {
    "ExecuteTime": {
     "end_time": "2024-03-07T12:00:20.056310900Z",
     "start_time": "2024-03-07T12:00:19.884418Z"
    }
   },
   "outputs": [],
   "source": [
    "a[2,2] = np.nan"
   ]
  },
  {
   "cell_type": "code",
   "execution_count": 127,
   "metadata": {
    "ExecuteTime": {
     "end_time": "2024-03-07T12:00:22.586448700Z",
     "start_time": "2024-03-07T12:00:22.342543700Z"
    }
   },
   "outputs": [
    {
     "data": {
      "text/plain": "nan"
     },
     "execution_count": 127,
     "metadata": {},
     "output_type": "execute_result"
    }
   ],
   "source": [
    "a.sum()"
   ]
  },
  {
   "cell_type": "code",
   "execution_count": 128,
   "metadata": {
    "ExecuteTime": {
     "end_time": "2024-03-07T12:00:24.288642Z",
     "start_time": "2024-03-07T12:00:24.052473900Z"
    }
   },
   "outputs": [
    {
     "data": {
      "text/plain": "array([ 1.,  2.,  3.,  4.,  5.,  6.,  7.,  8.,  9., 10., 12., 13., 14.,\n       15., 16.])"
     },
     "execution_count": 128,
     "metadata": {},
     "output_type": "execute_result"
    }
   ],
   "source": [
    "a[~np.isnan(a)]"
   ]
  },
  {
   "cell_type": "code",
   "execution_count": 129,
   "metadata": {
    "ExecuteTime": {
     "end_time": "2024-03-07T12:00:30.854417100Z",
     "start_time": "2024-03-07T12:00:30.722001900Z"
    }
   },
   "outputs": [
    {
     "data": {
      "text/plain": "125.0"
     },
     "execution_count": 129,
     "metadata": {},
     "output_type": "execute_result"
    }
   ],
   "source": [
    "a[~np.isnan(a)].sum()"
   ]
  },
  {
   "cell_type": "code",
   "execution_count": 130,
   "metadata": {
    "ExecuteTime": {
     "end_time": "2024-03-07T12:00:32.656073900Z",
     "start_time": "2024-03-07T12:00:32.499818600Z"
    }
   },
   "outputs": [
    {
     "data": {
      "text/plain": "125.0"
     },
     "execution_count": 130,
     "metadata": {},
     "output_type": "execute_result"
    }
   ],
   "source": [
    "np.sum(a, where=~np.isnan(a))"
   ]
  },
  {
   "cell_type": "code",
   "execution_count": 131,
   "metadata": {
    "ExecuteTime": {
     "end_time": "2024-03-07T12:00:36.614337400Z",
     "start_time": "2024-03-07T12:00:36.426806700Z"
    }
   },
   "outputs": [
    {
     "data": {
      "text/plain": "125.0"
     },
     "execution_count": 131,
     "metadata": {},
     "output_type": "execute_result"
    }
   ],
   "source": [
    "np.nansum(a)"
   ]
  },
  {
   "cell_type": "code",
   "execution_count": 132,
   "metadata": {
    "ExecuteTime": {
     "end_time": "2024-03-07T12:00:42.345326200Z",
     "start_time": "2024-03-07T12:00:42.110930Z"
    }
   },
   "outputs": [
    {
     "data": {
      "text/plain": "125.0"
     },
     "execution_count": 132,
     "metadata": {},
     "output_type": "execute_result"
    }
   ],
   "source": [
    "np.sum(np.nan_to_num(a))"
   ]
  },
  {
   "cell_type": "markdown",
   "metadata": {
    "ExecuteTime": {
     "end_time": "2021-03-04T01:42:42.061430Z",
     "start_time": "2021-03-04T01:42:42.050688Z"
    }
   },
   "source": [
    "Let's see what else we can do with `nan`s"
   ]
  },
  {
   "cell_type": "code",
   "execution_count": 137,
   "metadata": {
    "ExecuteTime": {
     "end_time": "2024-03-07T12:01:34.100604800Z",
     "start_time": "2024-03-07T12:01:33.811991700Z"
    }
   },
   "outputs": [
    {
     "data": {
      "text/plain": "array([[ 1., nan,  3.,  4.],\n       [ 5.,  6.,  7., nan],\n       [ 9., 10., nan, 12.],\n       [13., 14., 15., 16.]])"
     },
     "execution_count": 137,
     "metadata": {},
     "output_type": "execute_result"
    }
   ],
   "source": [
    "a[0,1] = np.nan\n",
    "a[1,3] = np.nan\n",
    "a"
   ]
  },
  {
   "cell_type": "code",
   "execution_count": 134,
   "metadata": {
    "ExecuteTime": {
     "end_time": "2024-03-07T12:00:52.273134800Z",
     "start_time": "2024-03-07T12:00:52.085635400Z"
    }
   },
   "outputs": [
    {
     "data": {
      "text/plain": "array([[False,  True, False, False],\n       [False, False, False,  True],\n       [False, False,  True, False],\n       [False, False, False, False]])"
     },
     "execution_count": 134,
     "metadata": {},
     "output_type": "execute_result"
    }
   ],
   "source": [
    "np.isnan(a)"
   ]
  },
  {
   "cell_type": "code",
   "execution_count": 135,
   "metadata": {
    "ExecuteTime": {
     "end_time": "2024-03-07T12:01:00.229538500Z",
     "start_time": "2024-03-07T12:00:59.999647100Z"
    }
   },
   "outputs": [
    {
     "data": {
      "text/plain": "array([ True,  True,  True, False])"
     },
     "execution_count": 135,
     "metadata": {},
     "output_type": "execute_result"
    }
   ],
   "source": [
    "np.any(np.isnan(a), axis=1)"
   ]
  },
  {
   "cell_type": "code",
   "execution_count": 138,
   "metadata": {
    "ExecuteTime": {
     "end_time": "2024-03-07T12:02:08.340592100Z",
     "start_time": "2024-03-07T12:02:08.106212300Z"
    }
   },
   "outputs": [
    {
     "name": "stdout",
     "output_type": "stream",
     "text": [
      "[ True  True  True False]\n"
     ]
    },
    {
     "data": {
      "text/plain": "array([[ 1., nan,  3.,  4.],\n       [ 5.,  6.,  7., nan],\n       [ 9., 10., nan, 12.]])"
     },
     "execution_count": 138,
     "metadata": {},
     "output_type": "execute_result"
    }
   ],
   "source": [
    "mask = np.any(np.isnan(a), axis=1)\n",
    "print(mask)\n",
    "a[mask]"
   ]
  },
  {
   "cell_type": "markdown",
   "metadata": {},
   "source": [
    "## Concatenation & sorting\n",
    "\n",
    "Concatenation means joining two arrays by rows or by columns. An array may be concatenated with itself or with another array. There are 4 functions that help with concatenation."
   ]
  },
  {
   "cell_type": "code",
   "execution_count": 139,
   "metadata": {
    "ExecuteTime": {
     "end_time": "2024-03-07T12:02:29.256718900Z",
     "start_time": "2024-03-07T12:02:29.072282100Z"
    }
   },
   "outputs": [],
   "source": [
    "a = np.zeros(shape=(3,2))\n",
    "b = np.ones(shape=(2,2))"
   ]
  },
  {
   "cell_type": "code",
   "execution_count": 140,
   "metadata": {
    "ExecuteTime": {
     "end_time": "2024-03-07T12:02:30.734247500Z",
     "start_time": "2024-03-07T12:02:30.534749Z"
    }
   },
   "outputs": [
    {
     "data": {
      "text/plain": "array([[0., 0.],\n       [0., 0.],\n       [0., 0.]])"
     },
     "execution_count": 140,
     "metadata": {},
     "output_type": "execute_result"
    }
   ],
   "source": [
    "a"
   ]
  },
  {
   "cell_type": "code",
   "execution_count": 141,
   "metadata": {
    "ExecuteTime": {
     "end_time": "2024-03-07T12:02:32.385001Z",
     "start_time": "2024-03-07T12:02:32.220855300Z"
    }
   },
   "outputs": [
    {
     "data": {
      "text/plain": "array([[1., 1.],\n       [1., 1.]])"
     },
     "execution_count": 141,
     "metadata": {},
     "output_type": "execute_result"
    }
   ],
   "source": [
    "b"
   ]
  },
  {
   "cell_type": "code",
   "execution_count": 142,
   "metadata": {
    "ExecuteTime": {
     "end_time": "2024-03-07T12:02:36.750946900Z",
     "start_time": "2024-03-07T12:02:36.528788800Z"
    }
   },
   "outputs": [
    {
     "data": {
      "text/plain": "array([[0., 0.],\n       [0., 0.],\n       [0., 0.],\n       [0., 0.],\n       [0., 0.],\n       [0., 0.],\n       [0., 0.],\n       [0., 0.],\n       [0., 0.],\n       [0., 0.],\n       [0., 0.],\n       [0., 0.]])"
     },
     "execution_count": 142,
     "metadata": {},
     "output_type": "execute_result"
    }
   ],
   "source": [
    "np.concatenate([a, a, a, a], axis=0)"
   ]
  },
  {
   "cell_type": "code",
   "execution_count": 143,
   "metadata": {
    "ExecuteTime": {
     "end_time": "2024-03-07T12:02:47.917741600Z",
     "start_time": "2024-03-07T12:02:47.839597700Z"
    }
   },
   "outputs": [
    {
     "data": {
      "text/plain": "array([[0., 0.],\n       [0., 0.],\n       [0., 0.],\n       [1., 1.],\n       [1., 1.]])"
     },
     "execution_count": 143,
     "metadata": {},
     "output_type": "execute_result"
    }
   ],
   "source": [
    "np.concatenate([a, b], axis=0)"
   ]
  },
  {
   "cell_type": "code",
   "execution_count": 144,
   "metadata": {
    "ExecuteTime": {
     "end_time": "2024-03-07T12:03:32.286952400Z",
     "start_time": "2024-03-07T12:03:31.988043600Z"
    }
   },
   "outputs": [
    {
     "data": {
      "text/plain": "array([[0., 0.],\n       [0., 0.],\n       [0., 0.],\n       [1., 1.],\n       [1., 1.]])"
     },
     "execution_count": 144,
     "metadata": {},
     "output_type": "execute_result"
    }
   ],
   "source": [
    "np.vstack([a,b])"
   ]
  },
  {
   "cell_type": "code",
   "execution_count": 145,
   "metadata": {
    "ExecuteTime": {
     "end_time": "2024-03-07T12:03:43.552027Z",
     "start_time": "2024-03-07T12:03:43.341750800Z"
    }
   },
   "outputs": [
    {
     "data": {
      "text/plain": "array([[0., 0., 0., 1., 1.],\n       [0., 0., 0., 1., 1.]])"
     },
     "execution_count": 145,
     "metadata": {},
     "output_type": "execute_result"
    }
   ],
   "source": [
    "np.hstack([a.T,b])"
   ]
  },
  {
   "cell_type": "code",
   "execution_count": 146,
   "metadata": {
    "ExecuteTime": {
     "end_time": "2024-03-07T12:03:51.426130300Z",
     "start_time": "2024-03-07T12:03:51.201800Z"
    }
   },
   "outputs": [
    {
     "data": {
      "text/plain": "array([[[0., 0.],\n        [0., 0.]],\n\n       [[1., 1.],\n        [1., 1.]]])"
     },
     "execution_count": 146,
     "metadata": {},
     "output_type": "execute_result"
    }
   ],
   "source": [
    "np.stack([a[:2,:2], b], axis=0)"
   ]
  },
  {
   "cell_type": "markdown",
   "metadata": {},
   "source": [
    "Unfortunately, `NumPy` does not provide any easy way of reverse sort, and sorting is limited to two functions."
   ]
  },
  {
   "cell_type": "code",
   "execution_count": 147,
   "metadata": {
    "ExecuteTime": {
     "end_time": "2024-03-07T12:04:05.588178Z",
     "start_time": "2024-03-07T12:04:05.372219100Z"
    }
   },
   "outputs": [
    {
     "data": {
      "text/plain": "array([25, 31, 18, 62, 78, 15, 90, 94, 74, 34, 89, 60, 84, 18, 68, 89,  8,\n       94, 28, 12, 62, 56, 87, 27, 80, 72, 33, 59, 50, 82, 89, 65, 70, 56,\n       88, 97, 80,  2, 88, 30, 98, 74, 48, 33,  7, 68, 88, 20, 38, 92])"
     },
     "execution_count": 147,
     "metadata": {},
     "output_type": "execute_result"
    }
   ],
   "source": [
    "a = np.random.randint(1, 100, size=50)\n",
    "a"
   ]
  },
  {
   "cell_type": "code",
   "execution_count": 148,
   "metadata": {
    "ExecuteTime": {
     "end_time": "2024-03-07T12:04:09.729425600Z",
     "start_time": "2024-03-07T12:04:09.477235Z"
    }
   },
   "outputs": [],
   "source": [
    "a.sort()"
   ]
  },
  {
   "cell_type": "code",
   "execution_count": 149,
   "metadata": {
    "ExecuteTime": {
     "end_time": "2024-03-07T12:04:12.266769800Z",
     "start_time": "2024-03-07T12:04:12.016773800Z"
    }
   },
   "outputs": [
    {
     "data": {
      "text/plain": "array([98, 97, 94, 94, 92, 90, 89, 89, 89, 88, 88, 88, 87, 84, 82, 80, 80,\n       78, 74, 74, 72, 70, 68, 68, 65, 62, 62, 60, 59, 56, 56, 50, 48, 38,\n       34, 33, 33, 31, 30, 28, 27, 25, 20, 18, 18, 15, 12,  8,  7,  2])"
     },
     "execution_count": 149,
     "metadata": {},
     "output_type": "execute_result"
    }
   ],
   "source": [
    "a[::-1]"
   ]
  },
  {
   "cell_type": "code",
   "execution_count": 150,
   "metadata": {
    "ExecuteTime": {
     "end_time": "2024-03-07T12:04:19.495261600Z",
     "start_time": "2024-03-07T12:04:19.281842900Z"
    }
   },
   "outputs": [
    {
     "data": {
      "text/plain": "array([98, 97, 94, 94, 92, 90, 89, 89, 89, 88, 88, 88, 87, 84, 82, 80, 80,\n       78, 74, 74, 72, 70, 68, 68, 65, 62, 62, 60, 59, 56, 56, 50, 48, 38,\n       34, 33, 33, 31, 30, 28, 27, 25, 20, 18, 18, 15, 12,  8,  7,  2])"
     },
     "execution_count": 150,
     "metadata": {},
     "output_type": "execute_result"
    }
   ],
   "source": [
    "np.sort(a)[::-1]"
   ]
  },
  {
   "cell_type": "markdown",
   "metadata": {},
   "source": [
    "If you want to be able to sort values in the first column of an array according to the order in the second column of an array, you need to use `np.argsort`."
   ]
  },
  {
   "cell_type": "code",
   "execution_count": 151,
   "metadata": {
    "ExecuteTime": {
     "end_time": "2024-03-07T12:05:02.046403700Z",
     "start_time": "2024-03-07T12:05:01.823597300Z"
    }
   },
   "outputs": [
    {
     "name": "stdout",
     "output_type": "stream",
     "text": [
      "[[ 6 29 92  2]\n",
      " [20 66 41 33]\n",
      " [80 17 51 33]\n",
      " [29 83  8 91]\n",
      " [26 27 18 40]]\n"
     ]
    }
   ],
   "source": [
    "a = np.random.randint(1, 100, size=20)\n",
    "a.shape = 5,4\n",
    "\n",
    "print(a)"
   ]
  },
  {
   "cell_type": "code",
   "execution_count": 152,
   "metadata": {
    "ExecuteTime": {
     "end_time": "2024-03-07T12:05:05.146936800Z",
     "start_time": "2024-03-07T12:05:04.920651500Z"
    }
   },
   "outputs": [
    {
     "data": {
      "text/plain": "array([[ 6, 17,  8,  2],\n       [20, 27, 18, 33],\n       [26, 29, 41, 33],\n       [29, 66, 51, 40],\n       [80, 83, 92, 91]])"
     },
     "execution_count": 152,
     "metadata": {},
     "output_type": "execute_result"
    }
   ],
   "source": [
    "np.sort(a, axis=0)"
   ]
  },
  {
   "cell_type": "code",
   "execution_count": 153,
   "metadata": {
    "ExecuteTime": {
     "end_time": "2024-03-07T12:05:15.961842900Z",
     "start_time": "2024-03-07T12:05:15.861493200Z"
    }
   },
   "outputs": [
    {
     "data": {
      "text/plain": "array([[ 6, 29, 92,  2],\n       [20, 66, 41, 33],\n       [80, 17, 51, 33],\n       [29, 83,  8, 91],\n       [26, 27, 18, 40]])"
     },
     "execution_count": 153,
     "metadata": {},
     "output_type": "execute_result"
    }
   ],
   "source": [
    "a"
   ]
  },
  {
   "cell_type": "code",
   "execution_count": 154,
   "metadata": {
    "ExecuteTime": {
     "end_time": "2024-03-07T12:05:23.090418700Z",
     "start_time": "2024-03-07T12:05:22.856064300Z"
    }
   },
   "outputs": [
    {
     "data": {
      "text/plain": "array([[29, 83,  8, 91],\n       [26, 27, 18, 40],\n       [20, 66, 41, 33],\n       [80, 17, 51, 33],\n       [ 6, 29, 92,  2]])"
     },
     "execution_count": 154,
     "metadata": {},
     "output_type": "execute_result"
    }
   ],
   "source": [
    "a[np.argsort(a[:,2])]"
   ]
  },
  {
   "cell_type": "code",
   "execution_count": null,
   "metadata": {},
   "outputs": [],
   "source": []
  }
 ],
 "metadata": {
  "kernelspec": {
   "display_name": "Python 3 (ipykernel)",
   "language": "python",
   "name": "python3"
  },
  "language_info": {
   "codemirror_mode": {
    "name": "ipython",
    "version": 3
   },
   "file_extension": ".py",
   "mimetype": "text/x-python",
   "name": "python",
   "nbconvert_exporter": "python",
   "pygments_lexer": "ipython3",
   "version": "3.10.7"
  },
  "toc": {
   "base_numbering": 1,
   "nav_menu": {},
   "number_sections": true,
   "sideBar": true,
   "skip_h1_title": false,
   "title_cell": "Table of Contents",
   "title_sidebar": "Contents",
   "toc_cell": false,
   "toc_position": {},
   "toc_section_display": true,
   "toc_window_display": false
  },
  "varInspector": {
   "cols": {
    "lenName": 16,
    "lenType": 16,
    "lenVar": 40
   },
   "kernels_config": {
    "python": {
     "delete_cmd_postfix": "",
     "delete_cmd_prefix": "del ",
     "library": "var_list.py",
     "varRefreshCmd": "print(var_dic_list())"
    },
    "r": {
     "delete_cmd_postfix": ") ",
     "delete_cmd_prefix": "rm(",
     "library": "var_list.r",
     "varRefreshCmd": "cat(var_dic_list()) "
    }
   },
   "types_to_exclude": [
    "module",
    "function",
    "builtin_function_or_method",
    "instance",
    "_Feature"
   ],
   "window_display": false
  }
 },
 "nbformat": 4,
 "nbformat_minor": 4
}
