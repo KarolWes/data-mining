{
 "cells": [
  {
   "cell_type": "markdown",
   "source": [
    "# Homework \n",
    "\n",
    "During the exercise you will be using the data from the 1987 National Indonesia Contraceptive Prevalence Survey. The detailed description of the dataset can be found at [UCI ML Repository website](https://archive.ics.uci.edu/ml/datasets/Contraceptive+Method+Choice). Read the raw data from the following URL: [https://archive.ics.uci.edu/ml/machine-learning-databases/cmc/cmc.data](https://archive.ics.uci.edu/ml/machine-learning-databases/cmc/cmc.data)\n",
    "\n",
    "Your tasks are as follows:\n",
    "\n",
    "- Identify the format of the raw data and read it into a dataframe correctly. Remember to provide a list of meaningful attribute names\n",
    "- Normalize the `Age` attribute\n",
    "- Remove the column containing the information about religion\n",
    "- Create a second dataframe containig only women with highest degree of education\n",
    "- Recode the `Wife working now` attribute, changing 0 to 'no' and 1 to 'yes'\n",
    "- Compute the frequency of contraceptive methods grouping by the woman's education level\n",
    "- Create a new column which will contain the average degree of education between a wife and a husband\n",
    "- Create a new binary column which will indicate if a given woman has given birth to more than the average number of children\n",
    "- Change `Standard of living` column into an ordered category\n",
    "- Recode `Wife's education` attribute into a set of binary attributes using dummy variables\n",
    "- Plot the histogram of the number of children\n",
    "- Plot the bar chart of the standard of living\n",
    "\n",
    "Save your notebook as *firstname.lastname.ipynb* and upload it to [the shared folder](https://drive.google.com/drive/folders/1ndFqSdZ7evS5KdplDsZN7vr7xfMA_Aw_?usp=sharing). The deadline for submitting your solutions is **Sunday, March 31, 21:00**. For this assignement you can get the maximum of **10 pts**.\n"
   ],
   "metadata": {
    "collapsed": false
   },
   "id": "56c84f2c3dcd4e21"
  },
  {
   "cell_type": "code",
   "execution_count": 1,
   "id": "initial_id",
   "metadata": {
    "collapsed": true,
    "ExecuteTime": {
     "end_time": "2024-03-16T12:25:00.063975200Z",
     "start_time": "2024-03-16T12:24:58.324870200Z"
    }
   },
   "outputs": [],
   "source": [
    "import pandas as pd"
   ]
  },
  {
   "cell_type": "code",
   "execution_count": 2,
   "outputs": [
    {
     "data": {
      "text/plain": "   wife_age  wife_edu  husband_edu  num_children  wife_religion  wife_working  \\\n0        24         2            3             3              1             1   \n1        45         1            3            10              1             1   \n2        43         2            3             7              1             1   \n3        42         3            2             9              1             1   \n4        36         3            3             8              1             1   \n\n   husband_occupation  standard_of_living_index  media_exposure  \\\n0                   2                         3               0   \n1                   3                         4               0   \n2                   3                         4               0   \n3                   3                         3               0   \n4                   3                         2               0   \n\n   contraceptive_method  \n0                     1  \n1                     1  \n2                     1  \n3                     1  \n4                     1  ",
      "text/html": "<div>\n<style scoped>\n    .dataframe tbody tr th:only-of-type {\n        vertical-align: middle;\n    }\n\n    .dataframe tbody tr th {\n        vertical-align: top;\n    }\n\n    .dataframe thead th {\n        text-align: right;\n    }\n</style>\n<table border=\"1\" class=\"dataframe\">\n  <thead>\n    <tr style=\"text-align: right;\">\n      <th></th>\n      <th>wife_age</th>\n      <th>wife_edu</th>\n      <th>husband_edu</th>\n      <th>num_children</th>\n      <th>wife_religion</th>\n      <th>wife_working</th>\n      <th>husband_occupation</th>\n      <th>standard_of_living_index</th>\n      <th>media_exposure</th>\n      <th>contraceptive_method</th>\n    </tr>\n  </thead>\n  <tbody>\n    <tr>\n      <th>0</th>\n      <td>24</td>\n      <td>2</td>\n      <td>3</td>\n      <td>3</td>\n      <td>1</td>\n      <td>1</td>\n      <td>2</td>\n      <td>3</td>\n      <td>0</td>\n      <td>1</td>\n    </tr>\n    <tr>\n      <th>1</th>\n      <td>45</td>\n      <td>1</td>\n      <td>3</td>\n      <td>10</td>\n      <td>1</td>\n      <td>1</td>\n      <td>3</td>\n      <td>4</td>\n      <td>0</td>\n      <td>1</td>\n    </tr>\n    <tr>\n      <th>2</th>\n      <td>43</td>\n      <td>2</td>\n      <td>3</td>\n      <td>7</td>\n      <td>1</td>\n      <td>1</td>\n      <td>3</td>\n      <td>4</td>\n      <td>0</td>\n      <td>1</td>\n    </tr>\n    <tr>\n      <th>3</th>\n      <td>42</td>\n      <td>3</td>\n      <td>2</td>\n      <td>9</td>\n      <td>1</td>\n      <td>1</td>\n      <td>3</td>\n      <td>3</td>\n      <td>0</td>\n      <td>1</td>\n    </tr>\n    <tr>\n      <th>4</th>\n      <td>36</td>\n      <td>3</td>\n      <td>3</td>\n      <td>8</td>\n      <td>1</td>\n      <td>1</td>\n      <td>3</td>\n      <td>2</td>\n      <td>0</td>\n      <td>1</td>\n    </tr>\n  </tbody>\n</table>\n</div>"
     },
     "execution_count": 2,
     "metadata": {},
     "output_type": "execute_result"
    }
   ],
   "source": [
    "address = \"https://archive.ics.uci.edu/ml/machine-learning-databases/cmc/cmc.data\"\n",
    "data = pd.read_csv(address, header=None)\n",
    "\n",
    "data.columns = ['wife_age', 'wife_edu', 'husband_edu', 'num_children', 'wife_religion', 'wife_working', 'husband_occupation', 'standard_of_living_index', 'media_exposure', 'contraceptive_method']\n",
    "data.drop('wife_religion', axis=1)\n",
    "data"
   ],
   "metadata": {
    "collapsed": false,
    "ExecuteTime": {
     "end_time": "2024-03-16T12:25:00.911286900Z",
     "start_time": "2024-03-16T12:25:00.072267700Z"
    }
   },
   "id": "eeaac2fd3cb2a8f2"
  },
  {
   "cell_type": "code",
   "execution_count": 3,
   "outputs": [
    {
     "data": {
      "text/plain": "   wife_age  wife_edu  husband_edu  num_children  wife_religion  wife_working  \\\n0  0.242424         2            3             3              1             1   \n1  0.878788         1            3            10              1             1   \n2  0.818182         2            3             7              1             1   \n3  0.787879         3            2             9              1             1   \n4  0.606061         3            3             8              1             1   \n\n   husband_occupation  standard_of_living_index  media_exposure  \\\n0                   2                         3               0   \n1                   3                         4               0   \n2                   3                         4               0   \n3                   3                         3               0   \n4                   3                         2               0   \n\n   contraceptive_method  \n0                     1  \n1                     1  \n2                     1  \n3                     1  \n4                     1  ",
      "text/html": "<div>\n<style scoped>\n    .dataframe tbody tr th:only-of-type {\n        vertical-align: middle;\n    }\n\n    .dataframe tbody tr th {\n        vertical-align: top;\n    }\n\n    .dataframe thead th {\n        text-align: right;\n    }\n</style>\n<table border=\"1\" class=\"dataframe\">\n  <thead>\n    <tr style=\"text-align: right;\">\n      <th></th>\n      <th>wife_age</th>\n      <th>wife_edu</th>\n      <th>husband_edu</th>\n      <th>num_children</th>\n      <th>wife_religion</th>\n      <th>wife_working</th>\n      <th>husband_occupation</th>\n      <th>standard_of_living_index</th>\n      <th>media_exposure</th>\n      <th>contraceptive_method</th>\n    </tr>\n  </thead>\n  <tbody>\n    <tr>\n      <th>0</th>\n      <td>0.242424</td>\n      <td>2</td>\n      <td>3</td>\n      <td>3</td>\n      <td>1</td>\n      <td>1</td>\n      <td>2</td>\n      <td>3</td>\n      <td>0</td>\n      <td>1</td>\n    </tr>\n    <tr>\n      <th>1</th>\n      <td>0.878788</td>\n      <td>1</td>\n      <td>3</td>\n      <td>10</td>\n      <td>1</td>\n      <td>1</td>\n      <td>3</td>\n      <td>4</td>\n      <td>0</td>\n      <td>1</td>\n    </tr>\n    <tr>\n      <th>2</th>\n      <td>0.818182</td>\n      <td>2</td>\n      <td>3</td>\n      <td>7</td>\n      <td>1</td>\n      <td>1</td>\n      <td>3</td>\n      <td>4</td>\n      <td>0</td>\n      <td>1</td>\n    </tr>\n    <tr>\n      <th>3</th>\n      <td>0.787879</td>\n      <td>3</td>\n      <td>2</td>\n      <td>9</td>\n      <td>1</td>\n      <td>1</td>\n      <td>3</td>\n      <td>3</td>\n      <td>0</td>\n      <td>1</td>\n    </tr>\n    <tr>\n      <th>4</th>\n      <td>0.606061</td>\n      <td>3</td>\n      <td>3</td>\n      <td>8</td>\n      <td>1</td>\n      <td>1</td>\n      <td>3</td>\n      <td>2</td>\n      <td>0</td>\n      <td>1</td>\n    </tr>\n  </tbody>\n</table>\n</div>"
     },
     "execution_count": 3,
     "metadata": {},
     "output_type": "execute_result"
    }
   ],
   "source": [
    "data.wife_age = (data['wife_age'] - data['wife_age'].min()) / (data['wife_age'].max() - data['wife_age'].min())\n",
    "data"
   ],
   "metadata": {
    "collapsed": false,
    "ExecuteTime": {
     "end_time": "2024-03-16T12:25:01.052038200Z",
     "start_time": "2024-03-16T12:25:00.903263500Z"
    }
   },
   "id": "ee2f376dd44ddd4f"
  },
  {
   "cell_type": "code",
   "execution_count": 4,
   "outputs": [
    {
     "data": {
      "text/plain": "    wife_age  wife_edu  husband_edu  num_children  wife_religion  \\\n5   0.090909         4            4             0              1   \n12  0.848485         4            4             1              1   \n22  0.909091         4            4             1              0   \n23  0.696970         4            4             1              1   \n24  0.969697         4            4             5              1   \n\n    wife_working  husband_occupation  standard_of_living_index  \\\n5              1                   3                         3   \n12             0                   1                         4   \n22             1                   1                         4   \n23             1                   1                         4   \n24             1                   1                         4   \n\n    media_exposure  contraceptive_method  \n5                0                     1  \n12               0                     1  \n22               0                     1  \n23               0                     1  \n24               0                     1  ",
      "text/html": "<div>\n<style scoped>\n    .dataframe tbody tr th:only-of-type {\n        vertical-align: middle;\n    }\n\n    .dataframe tbody tr th {\n        vertical-align: top;\n    }\n\n    .dataframe thead th {\n        text-align: right;\n    }\n</style>\n<table border=\"1\" class=\"dataframe\">\n  <thead>\n    <tr style=\"text-align: right;\">\n      <th></th>\n      <th>wife_age</th>\n      <th>wife_edu</th>\n      <th>husband_edu</th>\n      <th>num_children</th>\n      <th>wife_religion</th>\n      <th>wife_working</th>\n      <th>husband_occupation</th>\n      <th>standard_of_living_index</th>\n      <th>media_exposure</th>\n      <th>contraceptive_method</th>\n    </tr>\n  </thead>\n  <tbody>\n    <tr>\n      <th>5</th>\n      <td>0.090909</td>\n      <td>4</td>\n      <td>4</td>\n      <td>0</td>\n      <td>1</td>\n      <td>1</td>\n      <td>3</td>\n      <td>3</td>\n      <td>0</td>\n      <td>1</td>\n    </tr>\n    <tr>\n      <th>12</th>\n      <td>0.848485</td>\n      <td>4</td>\n      <td>4</td>\n      <td>1</td>\n      <td>1</td>\n      <td>0</td>\n      <td>1</td>\n      <td>4</td>\n      <td>0</td>\n      <td>1</td>\n    </tr>\n    <tr>\n      <th>22</th>\n      <td>0.909091</td>\n      <td>4</td>\n      <td>4</td>\n      <td>1</td>\n      <td>0</td>\n      <td>1</td>\n      <td>1</td>\n      <td>4</td>\n      <td>0</td>\n      <td>1</td>\n    </tr>\n    <tr>\n      <th>23</th>\n      <td>0.696970</td>\n      <td>4</td>\n      <td>4</td>\n      <td>1</td>\n      <td>1</td>\n      <td>1</td>\n      <td>1</td>\n      <td>4</td>\n      <td>0</td>\n      <td>1</td>\n    </tr>\n    <tr>\n      <th>24</th>\n      <td>0.969697</td>\n      <td>4</td>\n      <td>4</td>\n      <td>5</td>\n      <td>1</td>\n      <td>1</td>\n      <td>1</td>\n      <td>4</td>\n      <td>0</td>\n      <td>1</td>\n    </tr>\n  </tbody>\n</table>\n</div>"
     },
     "execution_count": 4,
     "metadata": {},
     "output_type": "execute_result"
    }
   ],
   "source": [
    "women_highest = data[data.wife_edu == data.wife_edu.max()]\n",
    "women_highest = women_highest.copy()\n",
    "women_highest"
   ],
   "metadata": {
    "collapsed": false,
    "ExecuteTime": {
     "end_time": "2024-03-16T12:25:01.109904300Z",
     "start_time": "2024-03-16T12:25:00.936258900Z"
    }
   },
   "id": "29befe84f8435956"
  },
  {
   "cell_type": "code",
   "execution_count": 5,
   "outputs": [
    {
     "data": {
      "text/plain": "   wife_age  wife_edu  husband_edu  num_children  wife_religion wife_working  \\\n0  0.242424         2            3             3              1          yes   \n1  0.878788         1            3            10              1          yes   \n2  0.818182         2            3             7              1          yes   \n3  0.787879         3            2             9              1          yes   \n4  0.606061         3            3             8              1          yes   \n\n   husband_occupation  standard_of_living_index  media_exposure  \\\n0                   2                         3               0   \n1                   3                         4               0   \n2                   3                         4               0   \n3                   3                         3               0   \n4                   3                         2               0   \n\n   contraceptive_method  \n0                     1  \n1                     1  \n2                     1  \n3                     1  \n4                     1  ",
      "text/html": "<div>\n<style scoped>\n    .dataframe tbody tr th:only-of-type {\n        vertical-align: middle;\n    }\n\n    .dataframe tbody tr th {\n        vertical-align: top;\n    }\n\n    .dataframe thead th {\n        text-align: right;\n    }\n</style>\n<table border=\"1\" class=\"dataframe\">\n  <thead>\n    <tr style=\"text-align: right;\">\n      <th></th>\n      <th>wife_age</th>\n      <th>wife_edu</th>\n      <th>husband_edu</th>\n      <th>num_children</th>\n      <th>wife_religion</th>\n      <th>wife_working</th>\n      <th>husband_occupation</th>\n      <th>standard_of_living_index</th>\n      <th>media_exposure</th>\n      <th>contraceptive_method</th>\n    </tr>\n  </thead>\n  <tbody>\n    <tr>\n      <th>0</th>\n      <td>0.242424</td>\n      <td>2</td>\n      <td>3</td>\n      <td>3</td>\n      <td>1</td>\n      <td>yes</td>\n      <td>2</td>\n      <td>3</td>\n      <td>0</td>\n      <td>1</td>\n    </tr>\n    <tr>\n      <th>1</th>\n      <td>0.878788</td>\n      <td>1</td>\n      <td>3</td>\n      <td>10</td>\n      <td>1</td>\n      <td>yes</td>\n      <td>3</td>\n      <td>4</td>\n      <td>0</td>\n      <td>1</td>\n    </tr>\n    <tr>\n      <th>2</th>\n      <td>0.818182</td>\n      <td>2</td>\n      <td>3</td>\n      <td>7</td>\n      <td>1</td>\n      <td>yes</td>\n      <td>3</td>\n      <td>4</td>\n      <td>0</td>\n      <td>1</td>\n    </tr>\n    <tr>\n      <th>3</th>\n      <td>0.787879</td>\n      <td>3</td>\n      <td>2</td>\n      <td>9</td>\n      <td>1</td>\n      <td>yes</td>\n      <td>3</td>\n      <td>3</td>\n      <td>0</td>\n      <td>1</td>\n    </tr>\n    <tr>\n      <th>4</th>\n      <td>0.606061</td>\n      <td>3</td>\n      <td>3</td>\n      <td>8</td>\n      <td>1</td>\n      <td>yes</td>\n      <td>3</td>\n      <td>2</td>\n      <td>0</td>\n      <td>1</td>\n    </tr>\n  </tbody>\n</table>\n</div>"
     },
     "execution_count": 5,
     "metadata": {},
     "output_type": "execute_result"
    }
   ],
   "source": [
    "data.wife_working = data.wife_working.apply(lambda x: 'yes' if x == 1 else 'no')\n",
    "data"
   ],
   "metadata": {
    "collapsed": false,
    "ExecuteTime": {
     "end_time": "2024-03-16T12:25:01.241144100Z",
     "start_time": "2024-03-16T12:25:00.985527700Z"
    }
   },
   "id": "d1bf58c3e226be8c"
  },
  {
   "cell_type": "code",
   "execution_count": 6,
   "outputs": [
    {
     "data": {
      "text/plain": "                                  count\nwife_edu contraceptive_method          \n1        1                     0.677632\n         2                     0.059211\n         3                     0.263158\n2        1                     0.526946\n         2                     0.110778\n         3                     0.362275\n3        1                     0.426829\n         2                     0.195122\n         3                     0.378049\n4        1                     0.303293\n         2                     0.358752\n         3                     0.337955",
      "text/html": "<div>\n<style scoped>\n    .dataframe tbody tr th:only-of-type {\n        vertical-align: middle;\n    }\n\n    .dataframe tbody tr th {\n        vertical-align: top;\n    }\n\n    .dataframe thead th {\n        text-align: right;\n    }\n</style>\n<table border=\"1\" class=\"dataframe\">\n  <thead>\n    <tr style=\"text-align: right;\">\n      <th></th>\n      <th></th>\n      <th>count</th>\n    </tr>\n    <tr>\n      <th>wife_edu</th>\n      <th>contraceptive_method</th>\n      <th></th>\n    </tr>\n  </thead>\n  <tbody>\n    <tr>\n      <th rowspan=\"3\" valign=\"top\">1</th>\n      <th>1</th>\n      <td>0.677632</td>\n    </tr>\n    <tr>\n      <th>2</th>\n      <td>0.059211</td>\n    </tr>\n    <tr>\n      <th>3</th>\n      <td>0.263158</td>\n    </tr>\n    <tr>\n      <th rowspan=\"3\" valign=\"top\">2</th>\n      <th>1</th>\n      <td>0.526946</td>\n    </tr>\n    <tr>\n      <th>2</th>\n      <td>0.110778</td>\n    </tr>\n    <tr>\n      <th>3</th>\n      <td>0.362275</td>\n    </tr>\n    <tr>\n      <th rowspan=\"3\" valign=\"top\">3</th>\n      <th>1</th>\n      <td>0.426829</td>\n    </tr>\n    <tr>\n      <th>2</th>\n      <td>0.195122</td>\n    </tr>\n    <tr>\n      <th>3</th>\n      <td>0.378049</td>\n    </tr>\n    <tr>\n      <th rowspan=\"3\" valign=\"top\">4</th>\n      <th>1</th>\n      <td>0.303293</td>\n    </tr>\n    <tr>\n      <th>2</th>\n      <td>0.358752</td>\n    </tr>\n    <tr>\n      <th>3</th>\n      <td>0.337955</td>\n    </tr>\n  </tbody>\n</table>\n</div>"
     },
     "execution_count": 6,
     "metadata": {},
     "output_type": "execute_result"
    }
   ],
   "source": [
    "temp = data.groupby([data.wife_edu, data.contraceptive_method]).size().reset_index(name='count')\n",
    "counts = data.wife_edu.value_counts()\n",
    "temp['count'] = temp['count'].div(temp['wife_edu'].map(counts))\n",
    "temp = temp.set_index(['wife_edu', 'contraceptive_method'])\n",
    "temp"
   ],
   "metadata": {
    "collapsed": false,
    "ExecuteTime": {
     "end_time": "2024-03-16T12:25:01.339744900Z",
     "start_time": "2024-03-16T12:25:01.035745500Z"
    }
   },
   "id": "a4a39b5f58fcff66"
  },
  {
   "cell_type": "code",
   "execution_count": 7,
   "outputs": [
    {
     "data": {
      "text/plain": "   wife_age  wife_edu  husband_edu  num_children  wife_religion wife_working  \\\n0  0.242424         2            3             3              1          yes   \n1  0.878788         1            3            10              1          yes   \n2  0.818182         2            3             7              1          yes   \n3  0.787879         3            2             9              1          yes   \n4  0.606061         3            3             8              1          yes   \n\n   husband_occupation  standard_of_living_index  media_exposure  \\\n0                   2                         3               0   \n1                   3                         4               0   \n2                   3                         4               0   \n3                   3                         3               0   \n4                   3                         2               0   \n\n   contraceptive_method  avg_edu  \n0                     1        2  \n1                     1        2  \n2                     1        2  \n3                     1        2  \n4                     1        3  ",
      "text/html": "<div>\n<style scoped>\n    .dataframe tbody tr th:only-of-type {\n        vertical-align: middle;\n    }\n\n    .dataframe tbody tr th {\n        vertical-align: top;\n    }\n\n    .dataframe thead th {\n        text-align: right;\n    }\n</style>\n<table border=\"1\" class=\"dataframe\">\n  <thead>\n    <tr style=\"text-align: right;\">\n      <th></th>\n      <th>wife_age</th>\n      <th>wife_edu</th>\n      <th>husband_edu</th>\n      <th>num_children</th>\n      <th>wife_religion</th>\n      <th>wife_working</th>\n      <th>husband_occupation</th>\n      <th>standard_of_living_index</th>\n      <th>media_exposure</th>\n      <th>contraceptive_method</th>\n      <th>avg_edu</th>\n    </tr>\n  </thead>\n  <tbody>\n    <tr>\n      <th>0</th>\n      <td>0.242424</td>\n      <td>2</td>\n      <td>3</td>\n      <td>3</td>\n      <td>1</td>\n      <td>yes</td>\n      <td>2</td>\n      <td>3</td>\n      <td>0</td>\n      <td>1</td>\n      <td>2</td>\n    </tr>\n    <tr>\n      <th>1</th>\n      <td>0.878788</td>\n      <td>1</td>\n      <td>3</td>\n      <td>10</td>\n      <td>1</td>\n      <td>yes</td>\n      <td>3</td>\n      <td>4</td>\n      <td>0</td>\n      <td>1</td>\n      <td>2</td>\n    </tr>\n    <tr>\n      <th>2</th>\n      <td>0.818182</td>\n      <td>2</td>\n      <td>3</td>\n      <td>7</td>\n      <td>1</td>\n      <td>yes</td>\n      <td>3</td>\n      <td>4</td>\n      <td>0</td>\n      <td>1</td>\n      <td>2</td>\n    </tr>\n    <tr>\n      <th>3</th>\n      <td>0.787879</td>\n      <td>3</td>\n      <td>2</td>\n      <td>9</td>\n      <td>1</td>\n      <td>yes</td>\n      <td>3</td>\n      <td>3</td>\n      <td>0</td>\n      <td>1</td>\n      <td>2</td>\n    </tr>\n    <tr>\n      <th>4</th>\n      <td>0.606061</td>\n      <td>3</td>\n      <td>3</td>\n      <td>8</td>\n      <td>1</td>\n      <td>yes</td>\n      <td>3</td>\n      <td>2</td>\n      <td>0</td>\n      <td>1</td>\n      <td>3</td>\n    </tr>\n  </tbody>\n</table>\n</div>"
     },
     "execution_count": 7,
     "metadata": {},
     "output_type": "execute_result"
    }
   ],
   "source": [
    "data['avg_edu'] = data.apply(lambda x: int((x['wife_edu'] + x['husband_edu'])/2), axis=1)  # zaokrąglone w dół, ponieważ jest to wartość kategoryczna\n",
    "data"
   ],
   "metadata": {
    "collapsed": false,
    "ExecuteTime": {
     "end_time": "2024-03-16T12:25:01.422013800Z",
     "start_time": "2024-03-16T12:25:01.085174200Z"
    }
   },
   "id": "de4f5990c0a00d02"
  },
  {
   "cell_type": "code",
   "execution_count": 8,
   "outputs": [
    {
     "data": {
      "text/plain": "   wife_age  wife_edu  husband_edu  num_children  wife_religion wife_working  \\\n0  0.242424         2            3             3              1          yes   \n1  0.878788         1            3            10              1          yes   \n2  0.818182         2            3             7              1          yes   \n3  0.787879         3            2             9              1          yes   \n4  0.606061         3            3             8              1          yes   \n5  0.090909         4            4             0              1          yes   \n6  0.666667         2            3             6              1          yes   \n7  0.151515         3            3             1              1           no   \n8  0.333333         2            3             3              1          yes   \n9  0.878788         1            1             8              1          yes   \n\n   husband_occupation  standard_of_living_index  media_exposure  \\\n0                   2                         3               0   \n1                   3                         4               0   \n2                   3                         4               0   \n3                   3                         3               0   \n4                   3                         2               0   \n5                   3                         3               0   \n6                   3                         2               0   \n7                   3                         2               0   \n8                   3                         4               0   \n9                   2                         2               1   \n\n   contraceptive_method  avg_edu  more_children  \n0                     1        2              0  \n1                     1        2              1  \n2                     1        2              1  \n3                     1        2              1  \n4                     1        3              1  \n5                     1        4              0  \n6                     1        2              1  \n7                     1        3              0  \n8                     1        2              0  \n9                     1        1              1  ",
      "text/html": "<div>\n<style scoped>\n    .dataframe tbody tr th:only-of-type {\n        vertical-align: middle;\n    }\n\n    .dataframe tbody tr th {\n        vertical-align: top;\n    }\n\n    .dataframe thead th {\n        text-align: right;\n    }\n</style>\n<table border=\"1\" class=\"dataframe\">\n  <thead>\n    <tr style=\"text-align: right;\">\n      <th></th>\n      <th>wife_age</th>\n      <th>wife_edu</th>\n      <th>husband_edu</th>\n      <th>num_children</th>\n      <th>wife_religion</th>\n      <th>wife_working</th>\n      <th>husband_occupation</th>\n      <th>standard_of_living_index</th>\n      <th>media_exposure</th>\n      <th>contraceptive_method</th>\n      <th>avg_edu</th>\n      <th>more_children</th>\n    </tr>\n  </thead>\n  <tbody>\n    <tr>\n      <th>0</th>\n      <td>0.242424</td>\n      <td>2</td>\n      <td>3</td>\n      <td>3</td>\n      <td>1</td>\n      <td>yes</td>\n      <td>2</td>\n      <td>3</td>\n      <td>0</td>\n      <td>1</td>\n      <td>2</td>\n      <td>0</td>\n    </tr>\n    <tr>\n      <th>1</th>\n      <td>0.878788</td>\n      <td>1</td>\n      <td>3</td>\n      <td>10</td>\n      <td>1</td>\n      <td>yes</td>\n      <td>3</td>\n      <td>4</td>\n      <td>0</td>\n      <td>1</td>\n      <td>2</td>\n      <td>1</td>\n    </tr>\n    <tr>\n      <th>2</th>\n      <td>0.818182</td>\n      <td>2</td>\n      <td>3</td>\n      <td>7</td>\n      <td>1</td>\n      <td>yes</td>\n      <td>3</td>\n      <td>4</td>\n      <td>0</td>\n      <td>1</td>\n      <td>2</td>\n      <td>1</td>\n    </tr>\n    <tr>\n      <th>3</th>\n      <td>0.787879</td>\n      <td>3</td>\n      <td>2</td>\n      <td>9</td>\n      <td>1</td>\n      <td>yes</td>\n      <td>3</td>\n      <td>3</td>\n      <td>0</td>\n      <td>1</td>\n      <td>2</td>\n      <td>1</td>\n    </tr>\n    <tr>\n      <th>4</th>\n      <td>0.606061</td>\n      <td>3</td>\n      <td>3</td>\n      <td>8</td>\n      <td>1</td>\n      <td>yes</td>\n      <td>3</td>\n      <td>2</td>\n      <td>0</td>\n      <td>1</td>\n      <td>3</td>\n      <td>1</td>\n    </tr>\n    <tr>\n      <th>5</th>\n      <td>0.090909</td>\n      <td>4</td>\n      <td>4</td>\n      <td>0</td>\n      <td>1</td>\n      <td>yes</td>\n      <td>3</td>\n      <td>3</td>\n      <td>0</td>\n      <td>1</td>\n      <td>4</td>\n      <td>0</td>\n    </tr>\n    <tr>\n      <th>6</th>\n      <td>0.666667</td>\n      <td>2</td>\n      <td>3</td>\n      <td>6</td>\n      <td>1</td>\n      <td>yes</td>\n      <td>3</td>\n      <td>2</td>\n      <td>0</td>\n      <td>1</td>\n      <td>2</td>\n      <td>1</td>\n    </tr>\n    <tr>\n      <th>7</th>\n      <td>0.151515</td>\n      <td>3</td>\n      <td>3</td>\n      <td>1</td>\n      <td>1</td>\n      <td>no</td>\n      <td>3</td>\n      <td>2</td>\n      <td>0</td>\n      <td>1</td>\n      <td>3</td>\n      <td>0</td>\n    </tr>\n    <tr>\n      <th>8</th>\n      <td>0.333333</td>\n      <td>2</td>\n      <td>3</td>\n      <td>3</td>\n      <td>1</td>\n      <td>yes</td>\n      <td>3</td>\n      <td>4</td>\n      <td>0</td>\n      <td>1</td>\n      <td>2</td>\n      <td>0</td>\n    </tr>\n    <tr>\n      <th>9</th>\n      <td>0.878788</td>\n      <td>1</td>\n      <td>1</td>\n      <td>8</td>\n      <td>1</td>\n      <td>yes</td>\n      <td>2</td>\n      <td>2</td>\n      <td>1</td>\n      <td>1</td>\n      <td>1</td>\n      <td>1</td>\n    </tr>\n  </tbody>\n</table>\n</div>"
     },
     "execution_count": 8,
     "metadata": {},
     "output_type": "execute_result"
    }
   ],
   "source": [
    "data['more_children'] = data.apply(lambda x: 1 if x.num_children > data.num_children.mean() else 0, axis=1)\n",
    "data"
   ],
   "metadata": {
    "collapsed": false,
    "ExecuteTime": {
     "end_time": "2024-03-16T12:25:01.880978Z",
     "start_time": "2024-03-16T12:25:01.167190200Z"
    }
   },
   "id": "40aa484b37fff37c"
  },
  {
   "cell_type": "code",
   "execution_count": 9,
   "outputs": [
    {
     "data": {
      "text/plain": "wife_age                     float64\nwife_edu                       int64\nhusband_edu                    int64\nnum_children                   int64\nwife_religion                  int64\nwife_working                  object\nhusband_occupation             int64\nstandard_of_living_index    category\nmedia_exposure                 int64\ncontraceptive_method           int64\navg_edu                        int64\nmore_children                  int64\ndtype: object"
     },
     "execution_count": 9,
     "metadata": {},
     "output_type": "execute_result"
    }
   ],
   "source": [
    "from pandas.api.types import CategoricalDtype\n",
    "categories = CategoricalDtype(categories=[1,2,3,4], ordered=True)\n",
    "\n",
    "data.standard_of_living_index = data.standard_of_living_index.astype(categories)\n",
    "data.dtypes"
   ],
   "metadata": {
    "collapsed": false,
    "ExecuteTime": {
     "end_time": "2024-03-16T12:25:01.880978Z",
     "start_time": "2024-03-16T12:25:01.372958300Z"
    }
   },
   "id": "45a0a5fc37cbc208"
  },
  {
   "cell_type": "code",
   "execution_count": 10,
   "outputs": [
    {
     "data": {
      "text/plain": "      wife_age  husband_edu  num_children  wife_religion wife_working  \\\n0     0.242424            3             3              1          yes   \n1     0.878788            3            10              1          yes   \n2     0.818182            3             7              1          yes   \n3     0.787879            2             9              1          yes   \n4     0.606061            3             8              1          yes   \n...        ...          ...           ...            ...          ...   \n1468  0.515152            4             2              1           no   \n1469  0.515152            4             3              1          yes   \n1470  0.696970            3             8              1           no   \n1471  0.515152            3             4              1           no   \n1472  0.030303            3             1              1          yes   \n\n      husband_occupation standard_of_living_index  media_exposure  \\\n0                      2                        3               0   \n1                      3                        4               0   \n2                      3                        4               0   \n3                      3                        3               0   \n4                      3                        2               0   \n...                  ...                      ...             ...   \n1468                   2                        4               0   \n1469                   1                        4               0   \n1470                   1                        4               0   \n1471                   2                        2               0   \n1472                   2                        4               0   \n\n      contraceptive_method  avg_edu  more_children  wife_edu_1  wife_edu_2  \\\n0                        1        2              0       False        True   \n1                        1        2              1        True       False   \n2                        1        2              1       False        True   \n3                        1        2              1       False       False   \n4                        1        3              1       False       False   \n...                    ...      ...            ...         ...         ...   \n1468                     3        4              0       False       False   \n1469                     3        4              0       False       False   \n1470                     3        3              1       False       False   \n1471                     3        3              1       False       False   \n1472                     3        3              0       False       False   \n\n      wife_edu_3  wife_edu_4  \n0          False       False  \n1          False       False  \n2          False       False  \n3           True       False  \n4           True       False  \n...          ...         ...  \n1468       False        True  \n1469       False        True  \n1470        True       False  \n1471        True       False  \n1472        True       False  \n\n[1473 rows x 15 columns]",
      "text/html": "<div>\n<style scoped>\n    .dataframe tbody tr th:only-of-type {\n        vertical-align: middle;\n    }\n\n    .dataframe tbody tr th {\n        vertical-align: top;\n    }\n\n    .dataframe thead th {\n        text-align: right;\n    }\n</style>\n<table border=\"1\" class=\"dataframe\">\n  <thead>\n    <tr style=\"text-align: right;\">\n      <th></th>\n      <th>wife_age</th>\n      <th>husband_edu</th>\n      <th>num_children</th>\n      <th>wife_religion</th>\n      <th>wife_working</th>\n      <th>husband_occupation</th>\n      <th>standard_of_living_index</th>\n      <th>media_exposure</th>\n      <th>contraceptive_method</th>\n      <th>avg_edu</th>\n      <th>more_children</th>\n      <th>wife_edu_1</th>\n      <th>wife_edu_2</th>\n      <th>wife_edu_3</th>\n      <th>wife_edu_4</th>\n    </tr>\n  </thead>\n  <tbody>\n    <tr>\n      <th>0</th>\n      <td>0.242424</td>\n      <td>3</td>\n      <td>3</td>\n      <td>1</td>\n      <td>yes</td>\n      <td>2</td>\n      <td>3</td>\n      <td>0</td>\n      <td>1</td>\n      <td>2</td>\n      <td>0</td>\n      <td>False</td>\n      <td>True</td>\n      <td>False</td>\n      <td>False</td>\n    </tr>\n    <tr>\n      <th>1</th>\n      <td>0.878788</td>\n      <td>3</td>\n      <td>10</td>\n      <td>1</td>\n      <td>yes</td>\n      <td>3</td>\n      <td>4</td>\n      <td>0</td>\n      <td>1</td>\n      <td>2</td>\n      <td>1</td>\n      <td>True</td>\n      <td>False</td>\n      <td>False</td>\n      <td>False</td>\n    </tr>\n    <tr>\n      <th>2</th>\n      <td>0.818182</td>\n      <td>3</td>\n      <td>7</td>\n      <td>1</td>\n      <td>yes</td>\n      <td>3</td>\n      <td>4</td>\n      <td>0</td>\n      <td>1</td>\n      <td>2</td>\n      <td>1</td>\n      <td>False</td>\n      <td>True</td>\n      <td>False</td>\n      <td>False</td>\n    </tr>\n    <tr>\n      <th>3</th>\n      <td>0.787879</td>\n      <td>2</td>\n      <td>9</td>\n      <td>1</td>\n      <td>yes</td>\n      <td>3</td>\n      <td>3</td>\n      <td>0</td>\n      <td>1</td>\n      <td>2</td>\n      <td>1</td>\n      <td>False</td>\n      <td>False</td>\n      <td>True</td>\n      <td>False</td>\n    </tr>\n    <tr>\n      <th>4</th>\n      <td>0.606061</td>\n      <td>3</td>\n      <td>8</td>\n      <td>1</td>\n      <td>yes</td>\n      <td>3</td>\n      <td>2</td>\n      <td>0</td>\n      <td>1</td>\n      <td>3</td>\n      <td>1</td>\n      <td>False</td>\n      <td>False</td>\n      <td>True</td>\n      <td>False</td>\n    </tr>\n    <tr>\n      <th>...</th>\n      <td>...</td>\n      <td>...</td>\n      <td>...</td>\n      <td>...</td>\n      <td>...</td>\n      <td>...</td>\n      <td>...</td>\n      <td>...</td>\n      <td>...</td>\n      <td>...</td>\n      <td>...</td>\n      <td>...</td>\n      <td>...</td>\n      <td>...</td>\n      <td>...</td>\n    </tr>\n    <tr>\n      <th>1468</th>\n      <td>0.515152</td>\n      <td>4</td>\n      <td>2</td>\n      <td>1</td>\n      <td>no</td>\n      <td>2</td>\n      <td>4</td>\n      <td>0</td>\n      <td>3</td>\n      <td>4</td>\n      <td>0</td>\n      <td>False</td>\n      <td>False</td>\n      <td>False</td>\n      <td>True</td>\n    </tr>\n    <tr>\n      <th>1469</th>\n      <td>0.515152</td>\n      <td>4</td>\n      <td>3</td>\n      <td>1</td>\n      <td>yes</td>\n      <td>1</td>\n      <td>4</td>\n      <td>0</td>\n      <td>3</td>\n      <td>4</td>\n      <td>0</td>\n      <td>False</td>\n      <td>False</td>\n      <td>False</td>\n      <td>True</td>\n    </tr>\n    <tr>\n      <th>1470</th>\n      <td>0.696970</td>\n      <td>3</td>\n      <td>8</td>\n      <td>1</td>\n      <td>no</td>\n      <td>1</td>\n      <td>4</td>\n      <td>0</td>\n      <td>3</td>\n      <td>3</td>\n      <td>1</td>\n      <td>False</td>\n      <td>False</td>\n      <td>True</td>\n      <td>False</td>\n    </tr>\n    <tr>\n      <th>1471</th>\n      <td>0.515152</td>\n      <td>3</td>\n      <td>4</td>\n      <td>1</td>\n      <td>no</td>\n      <td>2</td>\n      <td>2</td>\n      <td>0</td>\n      <td>3</td>\n      <td>3</td>\n      <td>1</td>\n      <td>False</td>\n      <td>False</td>\n      <td>True</td>\n      <td>False</td>\n    </tr>\n    <tr>\n      <th>1472</th>\n      <td>0.030303</td>\n      <td>3</td>\n      <td>1</td>\n      <td>1</td>\n      <td>yes</td>\n      <td>2</td>\n      <td>4</td>\n      <td>0</td>\n      <td>3</td>\n      <td>3</td>\n      <td>0</td>\n      <td>False</td>\n      <td>False</td>\n      <td>True</td>\n      <td>False</td>\n    </tr>\n  </tbody>\n</table>\n<p>1473 rows × 15 columns</p>\n</div>"
     },
     "execution_count": 10,
     "metadata": {},
     "output_type": "execute_result"
    }
   ],
   "source": [
    "pd.get_dummies(data, columns=['wife_edu'])"
   ],
   "metadata": {
    "collapsed": false,
    "ExecuteTime": {
     "end_time": "2024-03-16T12:25:02.029024200Z",
     "start_time": "2024-03-16T12:25:01.405785600Z"
    }
   },
   "id": "c949507b436c678d"
  },
  {
   "cell_type": "code",
   "execution_count": 11,
   "outputs": [
    {
     "data": {
      "text/plain": "<Axes: ylabel='Frequency'>"
     },
     "execution_count": 11,
     "metadata": {},
     "output_type": "execute_result"
    },
    {
     "data": {
      "text/plain": "<Figure size 640x480 with 1 Axes>",
      "image/png": "[encoded data removed]"
     },
     "metadata": {},
     "output_type": "display_data"
    }
   ],
   "source": [
    "data['num_children'].plot(kind='hist')"
   ],
   "metadata": {
    "collapsed": false,
    "ExecuteTime": {
     "end_time": "2024-03-16T12:25:03.872764700Z",
     "start_time": "2024-03-16T12:25:01.455113200Z"
    }
   },
   "id": "5b23fdbf44169571"
  },
  {
   "cell_type": "code",
   "execution_count": 12,
   "outputs": [
    {
     "data": {
      "text/plain": "<Axes: xlabel='standard_of_living_index'>"
     },
     "execution_count": 12,
     "metadata": {},
     "output_type": "execute_result"
    },
    {
     "data": {
      "text/plain": "<Figure size 640x480 with 1 Axes>",
      "image/png": "[encoded data removed]"
     },
     "metadata": {},
     "output_type": "display_data"
    }
   ],
   "source": [
    "data.standard_of_living_index.value_counts().plot(kind='bar')"
   ],
   "metadata": {
    "collapsed": false,
    "ExecuteTime": {
     "end_time": "2024-03-16T12:25:04.158979600Z",
     "start_time": "2024-03-16T12:25:03.380069500Z"
    }
   },
   "id": "72e52af33a81e9e5"
  },
  {
   "cell_type": "markdown",
   "source": [
    "Prepared by Karol Wesolowski (148116) for Data Mining course by Mikolaj Morzy, PUT, Computer Science - Data Processing Technologies, Summer Semester 2024"
   ],
   "metadata": {
    "collapsed": false
   },
   "id": "219dc733ffa10171"
  },
  {
   "cell_type": "code",
   "execution_count": 12,
   "outputs": [],
   "source": [],
   "metadata": {
    "collapsed": false,
    "ExecuteTime": {
     "end_time": "2024-03-16T12:25:04.158979600Z",
     "start_time": "2024-03-16T12:25:03.774215300Z"
    }
   },
   "id": "8c4fb961b2c6170d"
  }
 ],
 "metadata": {
  "kernelspec": {
   "display_name": "Python 3",
   "language": "python",
   "name": "python3"
  },
  "language_info": {
   "codemirror_mode": {
    "name": "ipython",
    "version": 2
   },
   "file_extension": ".py",
   "mimetype": "text/x-python",
   "name": "python",
   "nbconvert_exporter": "python",
   "pygments_lexer": "ipython2",
   "version": "2.7.6"
  }
 },
 "nbformat": 4,
 "nbformat_minor": 5
}
